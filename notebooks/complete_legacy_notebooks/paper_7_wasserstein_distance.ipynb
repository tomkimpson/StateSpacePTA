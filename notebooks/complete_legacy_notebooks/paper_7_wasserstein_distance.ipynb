{
 "cells": [
  {
   "attachments": {},
   "cell_type": "markdown",
   "metadata": {},
   "source": [
    "# Plots for paper"
   ]
  },
  {
   "cell_type": "code",
   "execution_count": null,
   "metadata": {},
   "outputs": [],
   "source": [
    "%load_ext autoreload\n",
    "%autoreload 2"
   ]
  },
  {
   "cell_type": "code",
   "execution_count": null,
   "metadata": {},
   "outputs": [],
   "source": [
    "import sys\n",
    "try:\n",
    "    sys.path.remove(\"../py_src\") # Hacky way to add higher directory to python modules path. \n",
    "except:\n",
    "    pass\n",
    "sys.path.append(\"../py_src\") # Means that I dont have to make src/ a proper python package"
   ]
  },
  {
   "cell_type": "code",
   "execution_count": 34,
   "metadata": {},
   "outputs": [],
   "source": [
    "\n",
    "import matplotlib.pyplot as plt \n",
    "\n",
    "import numpy as np \n",
    "import json\n",
    "import pandas as pd \n",
    "import corner\n",
    "import scienceplots\n",
    "\n",
    "\n",
    "def load_data_and_check_for_weird_values(path):\n",
    "\n",
    "    df_posterior = pd.read_parquet(path)  \n",
    "\n",
    "    extra_median = df_posterior['psi_gw'].median()\n",
    "    if extra_median < 2.4: #psi is weird / not converged so don't plot it \n",
    "        #print(\"Ignoring this file since psi not converged\",extra_median)\n",
    "        return_code = 1\n",
    "    else:\n",
    "        return_code = 0\n",
    "\n",
    "    return return_code\n",
    "\n",
    "\n",
    "def load_data(path,variables_to_plot):\n",
    "\n",
    "    df_posterior = pd.read_parquet(path)  \n",
    "    return df_posterior[variables_to_plot]"
   ]
  },
  {
   "cell_type": "code",
   "execution_count": 30,
   "metadata": {},
   "outputs": [],
   "source": [
    "import glob \n",
    "list_of_files = sorted(glob.glob(\"../data/nested_sampling/data_for_manuscript/compressed_files/*shifted_prior*.parquet.gzip\"))\n",
    "parameters = [\"omega_gw\",\"phi0_gw\",\"psi_gw\",\"iota_gw\",\"delta_gw\",\"alpha_gw\",\"h\",]\n",
    "\n",
    "list_of_well_behaved_files = []\n",
    "\n",
    "for f in list_of_files:\n",
    "    return_code = load_data_and_check_for_weird_values(f)\n",
    "\n",
    "    if return_code == 0:\n",
    "        list_of_well_behaved_files.extend([f])\n",
    "\n",
    "\n",
    "#f = list_of_files[1]\n",
    "#df_reference,return_code = load_data(f,parameters)"
   ]
  },
  {
   "cell_type": "code",
   "execution_count": 31,
   "metadata": {},
   "outputs": [
    {
     "data": {
      "text/plain": [
       "0.8792682926829268"
      ]
     },
     "execution_count": 31,
     "metadata": {},
     "output_type": "execute_result"
    }
   ],
   "source": [
    "len(list_of_well_behaved_files) / len(list_of_files)"
   ]
  },
  {
   "cell_type": "code",
   "execution_count": 37,
   "metadata": {},
   "outputs": [],
   "source": [
    "f = list_of_well_behaved_files[0]\n",
    "df_reference = load_data(f,parameters)"
   ]
  },
  {
   "cell_type": "code",
   "execution_count": 51,
   "metadata": {},
   "outputs": [],
   "source": [
    "import sys \n",
    "\n",
    "\n",
    "wasserstein_results = np.zeros((len(list_of_well_behaved_files)-1,len(parameters)))\n",
    "for i in range(1,len(list_of_well_behaved_files)):\n",
    "    f = list_of_well_behaved_files[i]\n",
    "    df = load_data(f,parameters)\n",
    "    k = 0\n",
    "    for p in parameters:\n",
    "    \n",
    "        w = wasserstein_distance(df_reference[p].to_numpy(),df[p].to_numpy())\n",
    "        wasserstein_results[i-1,k] += w \n",
    "        k += 1\n",
    "\n",
    "\n",
    "    "
   ]
  },
  {
   "cell_type": "code",
   "execution_count": 52,
   "metadata": {},
   "outputs": [
    {
     "data": {
      "text/plain": [
       "array([[1.15167442e-11, 3.22140537e-03, 8.10353933e-04, ...,\n",
       "        5.17258403e-04, 5.46483693e-04, 1.18632445e-14],\n",
       "       [4.25041766e-12, 7.78458356e-04, 1.41921006e-03, ...,\n",
       "        8.37109855e-04, 5.48179522e-04, 2.84119237e-14],\n",
       "       [3.16225534e-11, 5.81617021e-03, 2.84747361e-03, ...,\n",
       "        3.64492445e-03, 2.16325591e-03, 8.73393303e-14],\n",
       "       ...,\n",
       "       [3.48965409e-11, 7.73209964e-03, 2.09258928e-04, ...,\n",
       "        1.45413046e-03, 3.62032547e-04, 5.19022783e-14],\n",
       "       [2.12230551e-11, 5.68820912e-03, 7.88652348e-04, ...,\n",
       "        1.65491486e-04, 5.57112803e-04, 1.98170987e-13],\n",
       "       [6.45573113e-12, 1.99853415e-03, 2.42366936e-04, ...,\n",
       "        1.40261766e-03, 3.89908483e-04, 1.50689352e-14]])"
      ]
     },
     "execution_count": 52,
     "metadata": {},
     "output_type": "execute_result"
    }
   ],
   "source": [
    "wasserstein_results"
   ]
  },
  {
   "cell_type": "code",
   "execution_count": 56,
   "metadata": {},
   "outputs": [
    {
     "data": {
      "text/plain": [
       "array([1.48691908e-11, 3.25747447e-03, 1.23656422e-03, 1.21191383e-01,\n",
       "       7.92314733e-04, 1.11939380e-03, 1.00464192e-13])"
      ]
     },
     "execution_count": 56,
     "metadata": {},
     "output_type": "execute_result"
    }
   ],
   "source": [
    "np.median(wasserstein_results,axis=0)"
   ]
  },
  {
   "cell_type": "code",
   "execution_count": 58,
   "metadata": {},
   "outputs": [
    {
     "data": {
      "text/plain": [
       "array([2.97383815e-05, 1.62873723e-02, 4.94625687e-04, 1.21191383e-01,\n",
       "       7.92314733e-04, 1.11939380e-03, 1.00464192e-01])"
      ]
     },
     "execution_count": 58,
     "metadata": {},
     "output_type": "execute_result"
    }
   ],
   "source": [
    "injection_parameters = [5e-7,0.20,2.50,1.0,1.0,1.0,1e-12]\n",
    "np.median(wasserstein_results,axis=0) / injection_parameters\n"
   ]
  },
  {
   "cell_type": "code",
   "execution_count": 38,
   "metadata": {},
   "outputs": [],
   "source": [
    "df = load_data(f,parameters)"
   ]
  },
  {
   "cell_type": "code",
   "execution_count": 39,
   "metadata": {},
   "outputs": [
    {
     "data": {
      "text/html": [
       "<div>\n",
       "<style scoped>\n",
       "    .dataframe tbody tr th:only-of-type {\n",
       "        vertical-align: middle;\n",
       "    }\n",
       "\n",
       "    .dataframe tbody tr th {\n",
       "        vertical-align: top;\n",
       "    }\n",
       "\n",
       "    .dataframe thead th {\n",
       "        text-align: right;\n",
       "    }\n",
       "</style>\n",
       "<table border=\"1\" class=\"dataframe\">\n",
       "  <thead>\n",
       "    <tr style=\"text-align: right;\">\n",
       "      <th></th>\n",
       "      <th>omega_gw</th>\n",
       "      <th>phi0_gw</th>\n",
       "      <th>psi_gw</th>\n",
       "      <th>iota_gw</th>\n",
       "      <th>delta_gw</th>\n",
       "      <th>alpha_gw</th>\n",
       "      <th>h</th>\n",
       "    </tr>\n",
       "  </thead>\n",
       "  <tbody>\n",
       "    <tr>\n",
       "      <th>0</th>\n",
       "      <td>5.000001e-07</td>\n",
       "      <td>0.193300</td>\n",
       "      <td>2.595132</td>\n",
       "      <td>0.758582</td>\n",
       "      <td>1.001830</td>\n",
       "      <td>1.038984</td>\n",
       "      <td>1.062884e-12</td>\n",
       "    </tr>\n",
       "    <tr>\n",
       "      <th>1</th>\n",
       "      <td>4.999990e-07</td>\n",
       "      <td>0.195338</td>\n",
       "      <td>2.594946</td>\n",
       "      <td>0.914982</td>\n",
       "      <td>1.001852</td>\n",
       "      <td>1.038783</td>\n",
       "      <td>1.183517e-12</td>\n",
       "    </tr>\n",
       "    <tr>\n",
       "      <th>2</th>\n",
       "      <td>5.000085e-07</td>\n",
       "      <td>0.195745</td>\n",
       "      <td>2.596255</td>\n",
       "      <td>0.743157</td>\n",
       "      <td>1.002767</td>\n",
       "      <td>1.039714</td>\n",
       "      <td>1.052433e-12</td>\n",
       "    </tr>\n",
       "    <tr>\n",
       "      <th>3</th>\n",
       "      <td>5.000015e-07</td>\n",
       "      <td>0.195423</td>\n",
       "      <td>2.596508</td>\n",
       "      <td>0.827010</td>\n",
       "      <td>1.002305</td>\n",
       "      <td>1.039820</td>\n",
       "      <td>1.114980e-12</td>\n",
       "    </tr>\n",
       "    <tr>\n",
       "      <th>4</th>\n",
       "      <td>4.999917e-07</td>\n",
       "      <td>0.192893</td>\n",
       "      <td>2.595399</td>\n",
       "      <td>0.968847</td>\n",
       "      <td>1.001697</td>\n",
       "      <td>1.039041</td>\n",
       "      <td>1.229464e-12</td>\n",
       "    </tr>\n",
       "    <tr>\n",
       "      <th>...</th>\n",
       "      <td>...</td>\n",
       "      <td>...</td>\n",
       "      <td>...</td>\n",
       "      <td>...</td>\n",
       "      <td>...</td>\n",
       "      <td>...</td>\n",
       "      <td>...</td>\n",
       "    </tr>\n",
       "    <tr>\n",
       "      <th>11605</th>\n",
       "      <td>5.000000e-07</td>\n",
       "      <td>0.194168</td>\n",
       "      <td>2.595424</td>\n",
       "      <td>1.013730</td>\n",
       "      <td>1.001215</td>\n",
       "      <td>1.038944</td>\n",
       "      <td>1.270089e-12</td>\n",
       "    </tr>\n",
       "    <tr>\n",
       "      <th>11606</th>\n",
       "      <td>4.999969e-07</td>\n",
       "      <td>0.193350</td>\n",
       "      <td>2.596211</td>\n",
       "      <td>0.977245</td>\n",
       "      <td>1.002433</td>\n",
       "      <td>1.039815</td>\n",
       "      <td>1.236280e-12</td>\n",
       "    </tr>\n",
       "    <tr>\n",
       "      <th>11607</th>\n",
       "      <td>4.999981e-07</td>\n",
       "      <td>0.193549</td>\n",
       "      <td>2.596407</td>\n",
       "      <td>0.939210</td>\n",
       "      <td>1.002701</td>\n",
       "      <td>1.039909</td>\n",
       "      <td>1.204758e-12</td>\n",
       "    </tr>\n",
       "    <tr>\n",
       "      <th>11608</th>\n",
       "      <td>4.999961e-07</td>\n",
       "      <td>0.194011</td>\n",
       "      <td>2.595116</td>\n",
       "      <td>0.887927</td>\n",
       "      <td>1.001503</td>\n",
       "      <td>1.039113</td>\n",
       "      <td>1.161320e-12</td>\n",
       "    </tr>\n",
       "    <tr>\n",
       "      <th>11609</th>\n",
       "      <td>5.000011e-07</td>\n",
       "      <td>0.195024</td>\n",
       "      <td>2.596094</td>\n",
       "      <td>0.880399</td>\n",
       "      <td>1.002304</td>\n",
       "      <td>1.039579</td>\n",
       "      <td>1.155453e-12</td>\n",
       "    </tr>\n",
       "  </tbody>\n",
       "</table>\n",
       "<p>11610 rows × 7 columns</p>\n",
       "</div>"
      ],
      "text/plain": [
       "           omega_gw   phi0_gw    psi_gw   iota_gw  delta_gw  alpha_gw  \\\n",
       "0      5.000001e-07  0.193300  2.595132  0.758582  1.001830  1.038984   \n",
       "1      4.999990e-07  0.195338  2.594946  0.914982  1.001852  1.038783   \n",
       "2      5.000085e-07  0.195745  2.596255  0.743157  1.002767  1.039714   \n",
       "3      5.000015e-07  0.195423  2.596508  0.827010  1.002305  1.039820   \n",
       "4      4.999917e-07  0.192893  2.595399  0.968847  1.001697  1.039041   \n",
       "...             ...       ...       ...       ...       ...       ...   \n",
       "11605  5.000000e-07  0.194168  2.595424  1.013730  1.001215  1.038944   \n",
       "11606  4.999969e-07  0.193350  2.596211  0.977245  1.002433  1.039815   \n",
       "11607  4.999981e-07  0.193549  2.596407  0.939210  1.002701  1.039909   \n",
       "11608  4.999961e-07  0.194011  2.595116  0.887927  1.001503  1.039113   \n",
       "11609  5.000011e-07  0.195024  2.596094  0.880399  1.002304  1.039579   \n",
       "\n",
       "                  h  \n",
       "0      1.062884e-12  \n",
       "1      1.183517e-12  \n",
       "2      1.052433e-12  \n",
       "3      1.114980e-12  \n",
       "4      1.229464e-12  \n",
       "...             ...  \n",
       "11605  1.270089e-12  \n",
       "11606  1.236280e-12  \n",
       "11607  1.204758e-12  \n",
       "11608  1.161320e-12  \n",
       "11609  1.155453e-12  \n",
       "\n",
       "[11610 rows x 7 columns]"
      ]
     },
     "execution_count": 39,
     "metadata": {},
     "output_type": "execute_result"
    }
   ],
   "source": [
    "df"
   ]
  },
  {
   "cell_type": "code",
   "execution_count": null,
   "metadata": {},
   "outputs": [],
   "source": [
    "ws_df = df.groupby('grp').apply(lambda x: stats.wasserstein_distance(x['p'], x['q']))\n"
   ]
  },
  {
   "cell_type": "code",
   "execution_count": 17,
   "metadata": {},
   "outputs": [
    {
     "data": {
      "text/plain": [
       "1.1943624520184697e-13"
      ]
     },
     "execution_count": 17,
     "metadata": {},
     "output_type": "execute_result"
    }
   ],
   "source": [
    "from scipy.stats import wasserstein_distance\n",
    "\n",
    "var = \"h\"\n",
    "wasserstein_distance(df_reference[var].to_numpy(),df[var].to_numpy())\n",
    "\n"
   ]
  },
  {
   "cell_type": "code",
   "execution_count": null,
   "metadata": {},
   "outputs": [],
   "source": []
  }
 ],
 "metadata": {
  "kernelspec": {
   "display_name": "KalmanGW",
   "language": "python",
   "name": "python3"
  },
  "language_info": {
   "codemirror_mode": {
    "name": "ipython",
    "version": 3
   },
   "file_extension": ".py",
   "mimetype": "text/x-python",
   "name": "python",
   "nbconvert_exporter": "python",
   "pygments_lexer": "ipython3",
   "version": "3.10.4"
  },
  "orig_nbformat": 4
 },
 "nbformat": 4,
 "nbformat_minor": 2
}
