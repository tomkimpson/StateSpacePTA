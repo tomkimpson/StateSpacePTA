{
 "cells": [
  {
   "cell_type": "code",
   "execution_count": 1,
   "metadata": {},
   "outputs": [],
   "source": [
    "%load_ext autoreload\n",
    "%autoreload 2"
   ]
  },
  {
   "cell_type": "code",
   "execution_count": 2,
   "metadata": {},
   "outputs": [],
   "source": [
    "import sys\n",
    "try:\n",
    "    sys.path.remove(\"../py_src\") # Hacky way to add higher directory to python modules path. \n",
    "except:\n",
    "    pass\n",
    "sys.path.append(\"../py_src\") # Means that I dont have to make src/ a proper python package"
   ]
  },
  {
   "cell_type": "code",
   "execution_count": 3,
   "metadata": {},
   "outputs": [],
   "source": [
    "from system_parameters import SystemParameters\n",
    "from pulsars import Pulsars\n",
    "\n",
    "from synthetic_data import SyntheticData\n",
    "from plotting import plot_statespace,plot_all\n",
    "from model import LinearModel\n",
    "from kalman_filter import KalmanFilter\n",
    "from bilby_wrapper import BilbySampler\n",
    "from priors import priors_dict,bilby_priors_dict"
   ]
  },
  {
   "attachments": {},
   "cell_type": "markdown",
   "metadata": {},
   "source": [
    "### 1.1. Canonical example"
   ]
  },
  {
   "cell_type": "code",
   "execution_count": 4,
   "metadata": {},
   "outputs": [
    {
     "name": "stderr",
     "output_type": "stream",
     "text": [
      "INFO:root:Welcome to the Kalman Filter Nested Sampler for PTA GW systems\n",
      "INFO:root:Random seed is 1234\n",
      "INFO:root:You are including the PSR terms in your synthetic data generation\n"
     ]
    }
   ],
   "source": [
    "import numpy as np \n",
    "\n",
    "P    = SystemParameters(h=1e-10,σp=1e-25,σm=0.0,cadence=0.5)       #define the system parameters as a class\n",
    "PTA  = Pulsars(P)               # setup the PTA\n",
    "data = SyntheticData(PTA,P) # generate some synthetic data\n",
    "\n"
   ]
  },
  {
   "cell_type": "code",
   "execution_count": 5,
   "metadata": {},
   "outputs": [
    {
     "name": "stderr",
     "output_type": "stream",
     "text": [
      "INFO:root:Welcome to the Kalman Filter Nested Sampler for PTA GW systems\n",
      "INFO:root:Random seed is 1234\n",
      "INFO:root:You are including the PSR terms in your synthetic data generation\n"
     ]
    }
   ],
   "source": [
    "import numpy as np \n",
    "\n",
    "P1    = SystemParameters(h=1e-10,σp=1e-24,σm=0.0,cadence=0.5)       #define the system parameters as a class\n",
    "PTA1  = Pulsars(P1)               # setup the PTA\n",
    "data1 = SyntheticData(PTA1,P1) # generate some synthetic data\n",
    "\n"
   ]
  },
  {
   "cell_type": "code",
   "execution_count": 8,
   "metadata": {},
   "outputs": [
    {
     "data": {
      "text/plain": [
       "array([[ True,  True,  True, ...,  True,  True,  True],\n",
       "       [False, False, False, ..., False, False, False],\n",
       "       [False, False, False, ..., False, False, False],\n",
       "       ...,\n",
       "       [False, False, False, ..., False, False, False],\n",
       "       [False, False, False, ..., False, False, False],\n",
       "       [False, False, False, ..., False, False, False]])"
      ]
     },
     "execution_count": 8,
     "metadata": {},
     "output_type": "execute_result"
    }
   ],
   "source": [
    "data.intrinsic_frequency == data1.intrinsic_frequency"
   ]
  },
  {
   "cell_type": "code",
   "execution_count": 7,
   "metadata": {},
   "outputs": [
    {
     "data": {
      "text/plain": [
       "array([[ 0.00000000e+00,  0.00000000e+00,  0.00000000e+00, ...,\n",
       "         0.00000000e+00,  0.00000000e+00,  0.00000000e+00],\n",
       "       [-3.33351220e-22,  1.33229169e-23,  1.53991364e-22, ...,\n",
       "        -3.13101199e-22,  3.30498589e-22, -1.01288636e-22],\n",
       "       [-6.88997130e-22,  1.19966715e-22,  4.52685310e-22, ...,\n",
       "         3.77360637e-24,  4.66555754e-22, -3.76025014e-22],\n",
       "       ...,\n",
       "       [ 4.82040213e-21,  2.50641636e-20,  1.62486960e-21, ...,\n",
       "         1.72291163e-20,  1.63515606e-20, -1.06671616e-20],\n",
       "       [ 5.03641874e-21,  2.50858579e-20,  1.61843974e-21, ...,\n",
       "         1.67908472e-20,  1.63969883e-20, -1.04116578e-20],\n",
       "       [ 5.14764562e-21,  2.49861075e-20,  1.29061271e-21, ...,\n",
       "         1.68375175e-20,  1.64975888e-20, -1.03011540e-20]])"
      ]
     },
     "execution_count": 7,
     "metadata": {},
     "output_type": "execute_result"
    }
   ],
   "source": [
    "data1.intrinsic_frequency"
   ]
  }
 ],
 "metadata": {
  "kernelspec": {
   "display_name": "KalmanGW",
   "language": "python",
   "name": "python3"
  },
  "language_info": {
   "codemirror_mode": {
    "name": "ipython",
    "version": 3
   },
   "file_extension": ".py",
   "mimetype": "text/x-python",
   "name": "python",
   "nbconvert_exporter": "python",
   "pygments_lexer": "ipython3",
   "version": "3.10.4"
  },
  "orig_nbformat": 4
 },
 "nbformat": 4,
 "nbformat_minor": 2
}
