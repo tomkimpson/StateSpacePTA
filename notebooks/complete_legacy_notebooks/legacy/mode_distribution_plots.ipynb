{
 "cells": [
  {
   "attachments": {},
   "cell_type": "markdown",
   "metadata": {},
   "source": [
    "# Plots for paper"
   ]
  },
  {
   "cell_type": "code",
   "execution_count": 1,
   "metadata": {},
   "outputs": [],
   "source": [
    "%load_ext autoreload\n",
    "%autoreload 2"
   ]
  },
  {
   "cell_type": "code",
   "execution_count": 2,
   "metadata": {},
   "outputs": [],
   "source": [
    "import sys\n",
    "try:\n",
    "    sys.path.remove(\"../py_src\") # Hacky way to add higher directory to python modules path. \n",
    "except:\n",
    "    pass\n",
    "sys.path.append(\"../py_src\") # Means that I dont have to make src/ a proper python package"
   ]
  },
  {
   "cell_type": "code",
   "execution_count": 15,
   "metadata": {},
   "outputs": [],
   "source": [
    "\n",
    "import matplotlib.pyplot as plt \n",
    "from priors import priors_dict\n",
    "import numpy as np \n",
    "import json\n",
    "import pandas as pd \n",
    "import corner\n",
    "import scienceplots\n",
    "\n",
    "def load_data(path,variables_to_plot):\n",
    "\n",
    "    print(\"Loading data from file:\", path)\n",
    "    # Opening JSON file\n",
    "    f = open(path)\n",
    "    \n",
    "    # returns JSON object as \n",
    "    # a dictionary\n",
    "    data = json.load(f)\n",
    "\n",
    "\n",
    "    #Make it a dataframe. Nice for surfacing\n",
    "    df = pd.DataFrame(data[\"samples\"][\"content\"]) # posterior\n",
    "\n",
    "\n",
    "    #Make it a dataframe. Nice for surfacing\n",
    "    df_posterior = pd.DataFrame(data[\"posterior\"][\"content\"]) # posterior\n",
    "\n",
    "    return df_posterior.median()\n",
    "\n",
    "\n",
    "\n",
    "\n",
    "def median_distribution(list_of_files,variables_to_plot):\n",
    "    y = []\n",
    "    fig= None \n",
    "    for f in list_of_files:\n",
    "        yi = load_data(f,variables_to_plot)\n",
    "        y.extend([yi])\n",
    "\n",
    "\n",
    "\n",
    "    df=pd.concat(y)\n",
    "\n",
    "\n",
    "    df['omega_gw'].hist()\n",
    "\n",
    "\n",
    "            \n"
   ]
  },
  {
   "cell_type": "code",
   "execution_count": 16,
   "metadata": {},
   "outputs": [
    {
     "data": {
      "text/plain": [
       "['../data/nested_sampling/batch_1235_result.json',\n",
       " '../data/nested_sampling/batch_1237_result.json',\n",
       " '../data/nested_sampling/batch_1238_result.json',\n",
       " '../data/nested_sampling/batch_1239_result.json',\n",
       " '../data/nested_sampling/batch_1240_result.json',\n",
       " '../data/nested_sampling/batch_1241_result.json']"
      ]
     },
     "execution_count": 16,
     "metadata": {},
     "output_type": "execute_result"
    }
   ],
   "source": [
    "import glob \n",
    "list_of_files = sorted(glob.glob(\"../data/nested_sampling/batch_*_result.json\"))\n",
    "list_of_files"
   ]
  },
  {
   "cell_type": "code",
   "execution_count": 17,
   "metadata": {},
   "outputs": [
    {
     "name": "stdout",
     "output_type": "stream",
     "text": [
      "Loading data from file: ../data/nested_sampling/batch_1235_result.json\n",
      "Loading data from file: ../data/nested_sampling/batch_1237_result.json\n",
      "Loading data from file: ../data/nested_sampling/batch_1238_result.json\n",
      "Loading data from file: ../data/nested_sampling/batch_1239_result.json\n",
      "Loading data from file: ../data/nested_sampling/batch_1240_result.json\n",
      "Loading data from file: ../data/nested_sampling/batch_1241_result.json\n"
     ]
    },
    {
     "data": {
      "image/png": "[encoded data removed]",
      "text/plain": [
       "<Figure size 350x262.5 with 1 Axes>"
      ]
     },
     "metadata": {},
     "output_type": "display_data"
    }
   ],
   "source": [
    "variables_to_plot = [\"omega_gw\",\"phi0_gw\",\"psi_gw\",\"iota_gw\",\"delta_gw\",\"alpha_gw\", \"h\"]\n",
    "median_distribution(list_of_files,variables_to_plot)"
   ]
  },
  {
   "cell_type": "code",
   "execution_count": null,
   "metadata": {},
   "outputs": [],
   "source": []
  }
 ],
 "metadata": {
  "kernelspec": {
   "display_name": "KalmanGW",
   "language": "python",
   "name": "python3"
  },
  "language_info": {
   "codemirror_mode": {
    "name": "ipython",
    "version": 3
   },
   "file_extension": ".py",
   "mimetype": "text/x-python",
   "name": "python",
   "nbconvert_exporter": "python",
   "pygments_lexer": "ipython3",
   "version": "3.10.4"
  },
  "orig_nbformat": 4
 },
 "nbformat": 4,
 "nbformat_minor": 2
}
