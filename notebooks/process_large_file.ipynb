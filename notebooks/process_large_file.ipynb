{
 "cells": [
  {
   "cell_type": "code",
   "execution_count": 8,
   "metadata": {},
   "outputs": [
    {
     "name": "stdout",
     "output_type": "stream",
     "text": [
      "Original file size was 0.257219642 GB\n",
      "New file size is 0.005742448 GB\n"
     ]
    }
   ],
   "source": [
    "\n",
    "import os\n",
    "import pandas as pd \n",
    "import json \n",
    "\n",
    "\n",
    "fname = '/Users/t1/github_repos/StateSpacePTA/data/nested_sampling/data_for_manuscript/paper_bayes_ratio_n1000/paper_bayes_ratios_n1000_h_1.2022644346174131e-14_model_earth_seed_1237_result.json'\n",
    "size_in_gb = float(os.path.getsize(fname))/1e9\n",
    "\n",
    "print(f\"Original file size was {size_in_gb} GB\")\n",
    "\n",
    "# Open and load JSON file\n",
    "f = open(fname)\n",
    "data = json.load(f)\n",
    "df_posterior = pd.DataFrame(data[\"posterior\"][\"content\"]) # posterior\n",
    "\n",
    "\n",
    "\n",
    "outfile = \"test.parquet.gzip\"\n",
    "\n",
    "\n",
    "df_posterior.to_parquet('df.parquet.gzip',\n",
    "              compression='gzip') \n",
    "\n",
    "\n",
    "size_in_gb = float(os.path.getsize('df.parquet.gzip'))/1e9\n",
    "\n",
    "print(f\"New file size is {size_in_gb} GB\")\n",
    "\n",
    "# # returns JSON object as \n",
    "# # a dictionary\n",
    "\n",
    "# print(\"The evidence is:\", data[\"log_evidence\"])\n",
    "# f.close()\n",
    "\n",
    "# #Make it a dataframe. Nice for surfacing\n",
    "# \n",
    "\n",
    "\n",
    "# print(\"Number of samples:\")\n",
    "# print(len(df_posterior))\n",
    "\n",
    "# print(\"Truths/Medians/Variances\")\n",
    "\n",
    "# medians = df_posterior[variables_to_plot].median()\n",
    "# variances = df_posterior[variables_to_plot].var()\n",
    "# y_post = df_posterior[variables_to_plot].to_numpy()\n",
    "\n",
    "# for i in range(len(medians)):\n",
    "# print(labels[i], injection_parameters[i], medians[i], variances[i])\n",
    "\n",
    "\n",
    "\n",
    "\n",
    "\n",
    "\n"
   ]
  },
  {
   "cell_type": "code",
   "execution_count": null,
   "metadata": {},
   "outputs": [],
   "source": []
  }
 ],
 "metadata": {
  "kernelspec": {
   "display_name": "KalmanGW",
   "language": "python",
   "name": "python3"
  },
  "language_info": {
   "codemirror_mode": {
    "name": "ipython",
    "version": 3
   },
   "file_extension": ".py",
   "mimetype": "text/x-python",
   "name": "python",
   "nbconvert_exporter": "python",
   "pygments_lexer": "ipython3",
   "version": "3.10.4"
  },
  "orig_nbformat": 4
 },
 "nbformat": 4,
 "nbformat_minor": 2
}
