{
 "cells": [
  {
   "cell_type": "code",
   "execution_count": null,
   "metadata": {},
   "outputs": [],
   "source": []
  },
  {
   "cell_type": "markdown",
   "metadata": {},
   "source": [
    "#### This notebook looks at the likelihood curves for some parameters "
   ]
  },
  {
   "cell_type": "code",
   "execution_count": 1,
   "metadata": {},
   "outputs": [],
   "source": [
    "%load_ext autoreload\n",
    "%autoreload 2"
   ]
  },
  {
   "cell_type": "code",
   "execution_count": 2,
   "metadata": {},
   "outputs": [],
   "source": [
    "import sys\n",
    "import json \n",
    "import pandas as pd \n",
    "try:\n",
    "    sys.path.remove(\"../py_src\") # Hacky way to add higher directory to python modules path. \n",
    "except:\n",
    "    pass\n",
    "sys.path.append(\"../py_src\") # Means that I dont have to make src/ a proper python package"
   ]
  },
  {
   "cell_type": "code",
   "execution_count": 19,
   "metadata": {},
   "outputs": [],
   "source": [
    "\n",
    "\n",
    "\n",
    "\n",
    "\n",
    "from system_parameters import SystemParameters\n",
    "from pulsars import Pulsars\n",
    "from synthetic_data import SyntheticData\n",
    "from model import LinearModel\n",
    "from kalman_filter import KalmanFilter\n",
    "from bilby_wrapper import BilbySampler\n",
    "from priors import priors_dict,bilby_priors_dict\n",
    "from bilby_wrapper import BilbyLikelihood\n",
    "\n",
    "import numpy as np\n",
    "import bilby\n",
    "import sys\n",
    "\n",
    "import logging \n",
    "#logging.basicConfig()\n",
    "#logging.getLogger(name=\"KalmanGW\").setLevel(logging.INFO)\n",
    "\n",
    "\n",
    "\n",
    "arg_name = 'blobfish'\n",
    "measurement_model = 'pulsar'\n",
    "h = 1e-12\n",
    "seed = 1237\n",
    "\n",
    "from numba import jit, config\n",
    "\n",
    "\n",
    "def run(omega): \n",
    "\n",
    "\n",
    "    #Setup the system\n",
    "    P   = SystemParameters(h=h,σp=None,σm=1e-11,use_psr_terms_in_data=True,measurement_model=measurement_model,seed=seed) # define the system parameters as a dict. Todo: make this a class\n",
    "    PTA = Pulsars(P)                                       # setup the PTA\n",
    "    data = SyntheticData(PTA,P)                            # generate some synthetic data\n",
    "\n",
    "    #Define the model \n",
    "    model = LinearModel(P)\n",
    "\n",
    "    #Initialise the Kalman filter\n",
    "    KF = KalmanFilter(model,data.f_measured,PTA)\n",
    "\n",
    "    #Run the KF once with the correct parameters.\n",
    "    #This allows JIT precompile\n",
    "    optimal_parameters = priors_dict(PTA,P)\n",
    "    optimal_parameters[\"omega_gw\"] = omega\n",
    "    model_likelihood, state_predictions,measurement_predictions = KF.likelihood(optimal_parameters)\n",
    "   \n",
    "\n",
    "    return model_likelihood\n",
    "\n",
    "\n",
    "\n",
    "\n",
    "\n",
    "\n"
   ]
  },
  {
   "cell_type": "code",
   "execution_count": 20,
   "metadata": {},
   "outputs": [
    {
     "name": "stderr",
     "output_type": "stream",
     "text": [
      "INFO:root:Welcome to the Kalman Filter Nested Sampler for PTA GW systems\n",
      "INFO:root:Random seed is 1237\n"
     ]
    },
    {
     "name": "stderr",
     "output_type": "stream",
     "text": [
      "INFO:root:You are assigning the σp terms randomly\n",
      "INFO:root:You are including the PSR terms in your synthetic data generation\n",
      "INFO:root:Welcome to the Kalman Filter Nested Sampler for PTA GW systems\n",
      "INFO:root:Random seed is 1237\n",
      "INFO:root:You are assigning the σp terms randomly\n"
     ]
    },
    {
     "name": "stdout",
     "output_type": "stream",
     "text": [
      "0\n"
     ]
    },
    {
     "name": "stderr",
     "output_type": "stream",
     "text": [
      "INFO:root:You are including the PSR terms in your synthetic data generation\n",
      "INFO:root:Welcome to the Kalman Filter Nested Sampler for PTA GW systems\n",
      "INFO:root:Random seed is 1237\n",
      "INFO:root:You are assigning the σp terms randomly\n",
      "INFO:root:You are including the PSR terms in your synthetic data generation\n"
     ]
    },
    {
     "name": "stdout",
     "output_type": "stream",
     "text": [
      "1\n",
      "2\n"
     ]
    },
    {
     "name": "stderr",
     "output_type": "stream",
     "text": [
      "INFO:root:Welcome to the Kalman Filter Nested Sampler for PTA GW systems\n",
      "INFO:root:Random seed is 1237\n",
      "INFO:root:You are assigning the σp terms randomly\n",
      "INFO:root:You are including the PSR terms in your synthetic data generation\n",
      "INFO:root:Welcome to the Kalman Filter Nested Sampler for PTA GW systems\n",
      "INFO:root:Random seed is 1237\n",
      "INFO:root:You are assigning the σp terms randomly\n"
     ]
    },
    {
     "name": "stdout",
     "output_type": "stream",
     "text": [
      "3\n"
     ]
    },
    {
     "name": "stderr",
     "output_type": "stream",
     "text": [
      "INFO:root:You are including the PSR terms in your synthetic data generation\n",
      "INFO:root:Welcome to the Kalman Filter Nested Sampler for PTA GW systems\n",
      "INFO:root:Random seed is 1237\n",
      "INFO:root:You are assigning the σp terms randomly\n"
     ]
    },
    {
     "name": "stdout",
     "output_type": "stream",
     "text": [
      "4\n"
     ]
    },
    {
     "name": "stderr",
     "output_type": "stream",
     "text": [
      "INFO:root:You are including the PSR terms in your synthetic data generation\n",
      "INFO:root:Welcome to the Kalman Filter Nested Sampler for PTA GW systems\n",
      "INFO:root:Random seed is 1237\n",
      "INFO:root:You are assigning the σp terms randomly\n",
      "INFO:root:You are including the PSR terms in your synthetic data generation\n"
     ]
    },
    {
     "name": "stdout",
     "output_type": "stream",
     "text": [
      "5\n"
     ]
    },
    {
     "name": "stderr",
     "output_type": "stream",
     "text": [
      "INFO:root:Welcome to the Kalman Filter Nested Sampler for PTA GW systems\n",
      "INFO:root:Random seed is 1237\n",
      "INFO:root:You are assigning the σp terms randomly\n"
     ]
    },
    {
     "name": "stdout",
     "output_type": "stream",
     "text": [
      "6\n"
     ]
    },
    {
     "name": "stderr",
     "output_type": "stream",
     "text": [
      "INFO:root:You are including the PSR terms in your synthetic data generation\n",
      "INFO:root:Welcome to the Kalman Filter Nested Sampler for PTA GW systems\n",
      "INFO:root:Random seed is 1237\n",
      "INFO:root:You are assigning the σp terms randomly\n",
      "INFO:root:You are including the PSR terms in your synthetic data generation\n"
     ]
    },
    {
     "name": "stdout",
     "output_type": "stream",
     "text": [
      "7\n"
     ]
    },
    {
     "name": "stderr",
     "output_type": "stream",
     "text": [
      "INFO:root:Welcome to the Kalman Filter Nested Sampler for PTA GW systems\n",
      "INFO:root:Random seed is 1237\n",
      "INFO:root:You are assigning the σp terms randomly\n"
     ]
    },
    {
     "name": "stdout",
     "output_type": "stream",
     "text": [
      "8\n"
     ]
    },
    {
     "name": "stderr",
     "output_type": "stream",
     "text": [
      "INFO:root:You are including the PSR terms in your synthetic data generation\n",
      "INFO:root:Welcome to the Kalman Filter Nested Sampler for PTA GW systems\n",
      "INFO:root:Random seed is 1237\n",
      "INFO:root:You are assigning the σp terms randomly\n"
     ]
    },
    {
     "name": "stdout",
     "output_type": "stream",
     "text": [
      "9\n"
     ]
    },
    {
     "name": "stderr",
     "output_type": "stream",
     "text": [
      "INFO:root:You are including the PSR terms in your synthetic data generation\n",
      "INFO:root:Welcome to the Kalman Filter Nested Sampler for PTA GW systems\n",
      "INFO:root:Random seed is 1237\n",
      "INFO:root:You are assigning the σp terms randomly\n"
     ]
    },
    {
     "name": "stdout",
     "output_type": "stream",
     "text": [
      "10\n"
     ]
    },
    {
     "name": "stderr",
     "output_type": "stream",
     "text": [
      "INFO:root:You are including the PSR terms in your synthetic data generation\n",
      "INFO:root:Welcome to the Kalman Filter Nested Sampler for PTA GW systems\n",
      "INFO:root:Random seed is 1237\n",
      "INFO:root:You are assigning the σp terms randomly\n",
      "INFO:root:You are including the PSR terms in your synthetic data generation\n"
     ]
    },
    {
     "name": "stdout",
     "output_type": "stream",
     "text": [
      "11\n"
     ]
    },
    {
     "name": "stderr",
     "output_type": "stream",
     "text": [
      "INFO:root:Welcome to the Kalman Filter Nested Sampler for PTA GW systems\n",
      "INFO:root:Random seed is 1237\n",
      "INFO:root:You are assigning the σp terms randomly\n"
     ]
    },
    {
     "name": "stdout",
     "output_type": "stream",
     "text": [
      "12\n"
     ]
    },
    {
     "name": "stderr",
     "output_type": "stream",
     "text": [
      "INFO:root:You are including the PSR terms in your synthetic data generation\n",
      "INFO:root:Welcome to the Kalman Filter Nested Sampler for PTA GW systems\n",
      "INFO:root:Random seed is 1237\n",
      "INFO:root:You are assigning the σp terms randomly\n"
     ]
    },
    {
     "name": "stdout",
     "output_type": "stream",
     "text": [
      "13\n"
     ]
    },
    {
     "name": "stderr",
     "output_type": "stream",
     "text": [
      "INFO:root:You are including the PSR terms in your synthetic data generation\n",
      "INFO:root:Welcome to the Kalman Filter Nested Sampler for PTA GW systems\n",
      "INFO:root:Random seed is 1237\n",
      "INFO:root:You are assigning the σp terms randomly\n",
      "INFO:root:You are including the PSR terms in your synthetic data generation\n",
      "INFO:root:Welcome to the Kalman Filter Nested Sampler for PTA GW systems\n",
      "INFO:root:Random seed is 1237\n"
     ]
    },
    {
     "name": "stdout",
     "output_type": "stream",
     "text": [
      "14\n",
      "15\n"
     ]
    },
    {
     "name": "stderr",
     "output_type": "stream",
     "text": [
      "INFO:root:You are assigning the σp terms randomly\n",
      "INFO:root:You are including the PSR terms in your synthetic data generation\n",
      "INFO:root:Welcome to the Kalman Filter Nested Sampler for PTA GW systems\n",
      "INFO:root:Random seed is 1237\n",
      "INFO:root:You are assigning the σp terms randomly\n"
     ]
    },
    {
     "name": "stdout",
     "output_type": "stream",
     "text": [
      "16\n"
     ]
    },
    {
     "name": "stderr",
     "output_type": "stream",
     "text": [
      "INFO:root:You are including the PSR terms in your synthetic data generation\n",
      "INFO:root:Welcome to the Kalman Filter Nested Sampler for PTA GW systems\n",
      "INFO:root:Random seed is 1237\n",
      "INFO:root:You are assigning the σp terms randomly\n"
     ]
    },
    {
     "name": "stdout",
     "output_type": "stream",
     "text": [
      "17\n"
     ]
    },
    {
     "name": "stderr",
     "output_type": "stream",
     "text": [
      "INFO:root:You are including the PSR terms in your synthetic data generation\n",
      "INFO:root:Welcome to the Kalman Filter Nested Sampler for PTA GW systems\n",
      "INFO:root:Random seed is 1237\n",
      "INFO:root:You are assigning the σp terms randomly\n",
      "INFO:root:You are including the PSR terms in your synthetic data generation\n"
     ]
    },
    {
     "name": "stdout",
     "output_type": "stream",
     "text": [
      "18\n"
     ]
    },
    {
     "name": "stderr",
     "output_type": "stream",
     "text": [
      "INFO:root:Welcome to the Kalman Filter Nested Sampler for PTA GW systems\n",
      "INFO:root:Random seed is 1237\n",
      "INFO:root:You are assigning the σp terms randomly\n"
     ]
    },
    {
     "name": "stdout",
     "output_type": "stream",
     "text": [
      "19\n"
     ]
    },
    {
     "name": "stderr",
     "output_type": "stream",
     "text": [
      "INFO:root:You are including the PSR terms in your synthetic data generation\n",
      "INFO:root:Welcome to the Kalman Filter Nested Sampler for PTA GW systems\n",
      "INFO:root:Random seed is 1237\n",
      "INFO:root:You are assigning the σp terms randomly\n"
     ]
    },
    {
     "name": "stdout",
     "output_type": "stream",
     "text": [
      "20\n"
     ]
    },
    {
     "name": "stderr",
     "output_type": "stream",
     "text": [
      "INFO:root:You are including the PSR terms in your synthetic data generation\n",
      "INFO:root:Welcome to the Kalman Filter Nested Sampler for PTA GW systems\n",
      "INFO:root:Random seed is 1237\n",
      "INFO:root:You are assigning the σp terms randomly\n",
      "INFO:root:You are including the PSR terms in your synthetic data generation\n",
      "INFO:root:Welcome to the Kalman Filter Nested Sampler for PTA GW systems\n"
     ]
    },
    {
     "name": "stdout",
     "output_type": "stream",
     "text": [
      "21\n",
      "22\n"
     ]
    },
    {
     "name": "stderr",
     "output_type": "stream",
     "text": [
      "INFO:root:Random seed is 1237\n",
      "INFO:root:You are assigning the σp terms randomly\n",
      "INFO:root:You are including the PSR terms in your synthetic data generation\n",
      "INFO:root:Welcome to the Kalman Filter Nested Sampler for PTA GW systems\n",
      "INFO:root:Random seed is 1237\n",
      "INFO:root:You are assigning the σp terms randomly\n"
     ]
    },
    {
     "name": "stdout",
     "output_type": "stream",
     "text": [
      "23\n"
     ]
    },
    {
     "name": "stderr",
     "output_type": "stream",
     "text": [
      "INFO:root:You are including the PSR terms in your synthetic data generation\n",
      "INFO:root:Welcome to the Kalman Filter Nested Sampler for PTA GW systems\n",
      "INFO:root:Random seed is 1237\n",
      "INFO:root:You are assigning the σp terms randomly\n",
      "INFO:root:You are including the PSR terms in your synthetic data generation\n"
     ]
    },
    {
     "name": "stdout",
     "output_type": "stream",
     "text": [
      "24\n",
      "25\n"
     ]
    },
    {
     "name": "stderr",
     "output_type": "stream",
     "text": [
      "INFO:root:Welcome to the Kalman Filter Nested Sampler for PTA GW systems\n",
      "INFO:root:Random seed is 1237\n",
      "INFO:root:You are assigning the σp terms randomly\n",
      "INFO:root:You are including the PSR terms in your synthetic data generation\n",
      "INFO:root:Welcome to the Kalman Filter Nested Sampler for PTA GW systems\n",
      "INFO:root:Random seed is 1237\n",
      "INFO:root:You are assigning the σp terms randomly\n"
     ]
    },
    {
     "name": "stdout",
     "output_type": "stream",
     "text": [
      "26\n"
     ]
    },
    {
     "name": "stderr",
     "output_type": "stream",
     "text": [
      "INFO:root:You are including the PSR terms in your synthetic data generation\n",
      "INFO:root:Welcome to the Kalman Filter Nested Sampler for PTA GW systems\n",
      "INFO:root:Random seed is 1237\n",
      "INFO:root:You are assigning the σp terms randomly\n"
     ]
    },
    {
     "name": "stdout",
     "output_type": "stream",
     "text": [
      "27\n"
     ]
    },
    {
     "name": "stderr",
     "output_type": "stream",
     "text": [
      "INFO:root:You are including the PSR terms in your synthetic data generation\n",
      "INFO:root:Welcome to the Kalman Filter Nested Sampler for PTA GW systems\n",
      "INFO:root:Random seed is 1237\n",
      "INFO:root:You are assigning the σp terms randomly\n",
      "INFO:root:You are including the PSR terms in your synthetic data generation\n",
      "INFO:root:Welcome to the Kalman Filter Nested Sampler for PTA GW systems\n",
      "INFO:root:Random seed is 1237\n",
      "INFO:root:You are assigning the σp terms randomly\n"
     ]
    },
    {
     "name": "stdout",
     "output_type": "stream",
     "text": [
      "28\n",
      "29\n"
     ]
    },
    {
     "name": "stderr",
     "output_type": "stream",
     "text": [
      "INFO:root:You are including the PSR terms in your synthetic data generation\n",
      "INFO:root:Welcome to the Kalman Filter Nested Sampler for PTA GW systems\n",
      "INFO:root:Random seed is 1237\n",
      "INFO:root:You are assigning the σp terms randomly\n"
     ]
    },
    {
     "name": "stdout",
     "output_type": "stream",
     "text": [
      "30\n"
     ]
    },
    {
     "name": "stderr",
     "output_type": "stream",
     "text": [
      "INFO:root:You are including the PSR terms in your synthetic data generation\n",
      "INFO:root:Welcome to the Kalman Filter Nested Sampler for PTA GW systems\n",
      "INFO:root:Random seed is 1237\n",
      "INFO:root:You are assigning the σp terms randomly\n"
     ]
    },
    {
     "name": "stdout",
     "output_type": "stream",
     "text": [
      "31\n"
     ]
    },
    {
     "name": "stderr",
     "output_type": "stream",
     "text": [
      "INFO:root:You are including the PSR terms in your synthetic data generation\n",
      "INFO:root:Welcome to the Kalman Filter Nested Sampler for PTA GW systems\n",
      "INFO:root:Random seed is 1237\n",
      "INFO:root:You are assigning the σp terms randomly\n"
     ]
    },
    {
     "name": "stdout",
     "output_type": "stream",
     "text": [
      "32\n"
     ]
    },
    {
     "name": "stderr",
     "output_type": "stream",
     "text": [
      "INFO:root:You are including the PSR terms in your synthetic data generation\n",
      "INFO:root:Welcome to the Kalman Filter Nested Sampler for PTA GW systems\n",
      "INFO:root:Random seed is 1237\n",
      "INFO:root:You are assigning the σp terms randomly\n"
     ]
    },
    {
     "name": "stdout",
     "output_type": "stream",
     "text": [
      "33\n"
     ]
    },
    {
     "name": "stderr",
     "output_type": "stream",
     "text": [
      "INFO:root:You are including the PSR terms in your synthetic data generation\n",
      "INFO:root:Welcome to the Kalman Filter Nested Sampler for PTA GW systems\n",
      "INFO:root:Random seed is 1237\n",
      "INFO:root:You are assigning the σp terms randomly\n"
     ]
    },
    {
     "name": "stdout",
     "output_type": "stream",
     "text": [
      "34\n"
     ]
    },
    {
     "name": "stderr",
     "output_type": "stream",
     "text": [
      "INFO:root:You are including the PSR terms in your synthetic data generation\n",
      "INFO:root:Welcome to the Kalman Filter Nested Sampler for PTA GW systems\n",
      "INFO:root:Random seed is 1237\n",
      "INFO:root:You are assigning the σp terms randomly\n",
      "INFO:root:You are including the PSR terms in your synthetic data generation\n"
     ]
    },
    {
     "name": "stdout",
     "output_type": "stream",
     "text": [
      "35\n"
     ]
    },
    {
     "name": "stderr",
     "output_type": "stream",
     "text": [
      "INFO:root:Welcome to the Kalman Filter Nested Sampler for PTA GW systems\n",
      "INFO:root:Random seed is 1237\n",
      "INFO:root:You are assigning the σp terms randomly\n"
     ]
    },
    {
     "name": "stdout",
     "output_type": "stream",
     "text": [
      "36\n"
     ]
    },
    {
     "name": "stderr",
     "output_type": "stream",
     "text": [
      "INFO:root:You are including the PSR terms in your synthetic data generation\n",
      "INFO:root:Welcome to the Kalman Filter Nested Sampler for PTA GW systems\n",
      "INFO:root:Random seed is 1237\n",
      "INFO:root:You are assigning the σp terms randomly\n"
     ]
    },
    {
     "name": "stdout",
     "output_type": "stream",
     "text": [
      "37\n"
     ]
    },
    {
     "name": "stderr",
     "output_type": "stream",
     "text": [
      "INFO:root:You are including the PSR terms in your synthetic data generation\n",
      "INFO:root:Welcome to the Kalman Filter Nested Sampler for PTA GW systems\n",
      "INFO:root:Random seed is 1237\n",
      "INFO:root:You are assigning the σp terms randomly\n"
     ]
    },
    {
     "name": "stdout",
     "output_type": "stream",
     "text": [
      "38\n"
     ]
    },
    {
     "name": "stderr",
     "output_type": "stream",
     "text": [
      "INFO:root:You are including the PSR terms in your synthetic data generation\n",
      "INFO:root:Welcome to the Kalman Filter Nested Sampler for PTA GW systems\n",
      "INFO:root:Random seed is 1237\n",
      "INFO:root:You are assigning the σp terms randomly\n",
      "INFO:root:You are including the PSR terms in your synthetic data generation\n",
      "INFO:root:Welcome to the Kalman Filter Nested Sampler for PTA GW systems\n",
      "INFO:root:Random seed is 1237\n"
     ]
    },
    {
     "name": "stdout",
     "output_type": "stream",
     "text": [
      "39\n",
      "40\n"
     ]
    },
    {
     "name": "stderr",
     "output_type": "stream",
     "text": [
      "INFO:root:You are assigning the σp terms randomly\n",
      "INFO:root:You are including the PSR terms in your synthetic data generation\n",
      "INFO:root:Welcome to the Kalman Filter Nested Sampler for PTA GW systems\n",
      "INFO:root:Random seed is 1237\n",
      "INFO:root:You are assigning the σp terms randomly\n"
     ]
    },
    {
     "name": "stdout",
     "output_type": "stream",
     "text": [
      "41\n"
     ]
    },
    {
     "name": "stderr",
     "output_type": "stream",
     "text": [
      "INFO:root:You are including the PSR terms in your synthetic data generation\n",
      "INFO:root:Welcome to the Kalman Filter Nested Sampler for PTA GW systems\n",
      "INFO:root:Random seed is 1237\n",
      "INFO:root:You are assigning the σp terms randomly\n"
     ]
    },
    {
     "name": "stdout",
     "output_type": "stream",
     "text": [
      "42\n"
     ]
    },
    {
     "name": "stderr",
     "output_type": "stream",
     "text": [
      "INFO:root:You are including the PSR terms in your synthetic data generation\n",
      "INFO:root:Welcome to the Kalman Filter Nested Sampler for PTA GW systems\n",
      "INFO:root:Random seed is 1237\n",
      "INFO:root:You are assigning the σp terms randomly\n"
     ]
    },
    {
     "name": "stdout",
     "output_type": "stream",
     "text": [
      "43\n"
     ]
    },
    {
     "name": "stderr",
     "output_type": "stream",
     "text": [
      "INFO:root:You are including the PSR terms in your synthetic data generation\n",
      "INFO:root:Welcome to the Kalman Filter Nested Sampler for PTA GW systems\n",
      "INFO:root:Random seed is 1237\n",
      "INFO:root:You are assigning the σp terms randomly\n"
     ]
    },
    {
     "name": "stdout",
     "output_type": "stream",
     "text": [
      "44\n"
     ]
    },
    {
     "name": "stderr",
     "output_type": "stream",
     "text": [
      "INFO:root:You are including the PSR terms in your synthetic data generation\n",
      "INFO:root:Welcome to the Kalman Filter Nested Sampler for PTA GW systems\n",
      "INFO:root:Random seed is 1237\n",
      "INFO:root:You are assigning the σp terms randomly\n"
     ]
    },
    {
     "name": "stdout",
     "output_type": "stream",
     "text": [
      "45\n"
     ]
    },
    {
     "name": "stderr",
     "output_type": "stream",
     "text": [
      "INFO:root:You are including the PSR terms in your synthetic data generation\n",
      "INFO:root:Welcome to the Kalman Filter Nested Sampler for PTA GW systems\n",
      "INFO:root:Random seed is 1237\n",
      "INFO:root:You are assigning the σp terms randomly\n"
     ]
    },
    {
     "name": "stdout",
     "output_type": "stream",
     "text": [
      "46\n"
     ]
    },
    {
     "name": "stderr",
     "output_type": "stream",
     "text": [
      "INFO:root:You are including the PSR terms in your synthetic data generation\n",
      "INFO:root:Welcome to the Kalman Filter Nested Sampler for PTA GW systems\n",
      "INFO:root:Random seed is 1237\n",
      "INFO:root:You are assigning the σp terms randomly\n"
     ]
    },
    {
     "name": "stdout",
     "output_type": "stream",
     "text": [
      "47\n"
     ]
    },
    {
     "name": "stderr",
     "output_type": "stream",
     "text": [
      "INFO:root:You are including the PSR terms in your synthetic data generation\n",
      "INFO:root:Welcome to the Kalman Filter Nested Sampler for PTA GW systems\n",
      "INFO:root:Random seed is 1237\n",
      "INFO:root:You are assigning the σp terms randomly\n"
     ]
    },
    {
     "name": "stdout",
     "output_type": "stream",
     "text": [
      "48\n"
     ]
    },
    {
     "name": "stderr",
     "output_type": "stream",
     "text": [
      "INFO:root:You are including the PSR terms in your synthetic data generation\n",
      "INFO:root:Welcome to the Kalman Filter Nested Sampler for PTA GW systems\n",
      "INFO:root:Random seed is 1237\n",
      "INFO:root:You are assigning the σp terms randomly\n"
     ]
    },
    {
     "name": "stdout",
     "output_type": "stream",
     "text": [
      "49\n"
     ]
    },
    {
     "name": "stderr",
     "output_type": "stream",
     "text": [
      "INFO:root:You are including the PSR terms in your synthetic data generation\n",
      "INFO:root:Welcome to the Kalman Filter Nested Sampler for PTA GW systems\n",
      "INFO:root:Random seed is 1237\n",
      "INFO:root:You are assigning the σp terms randomly\n"
     ]
    },
    {
     "name": "stdout",
     "output_type": "stream",
     "text": [
      "50\n"
     ]
    },
    {
     "name": "stderr",
     "output_type": "stream",
     "text": [
      "INFO:root:You are including the PSR terms in your synthetic data generation\n",
      "INFO:root:Welcome to the Kalman Filter Nested Sampler for PTA GW systems\n",
      "INFO:root:Random seed is 1237\n",
      "INFO:root:You are assigning the σp terms randomly\n"
     ]
    },
    {
     "name": "stdout",
     "output_type": "stream",
     "text": [
      "51\n"
     ]
    },
    {
     "name": "stderr",
     "output_type": "stream",
     "text": [
      "INFO:root:You are including the PSR terms in your synthetic data generation\n",
      "INFO:root:Welcome to the Kalman Filter Nested Sampler for PTA GW systems\n",
      "INFO:root:Random seed is 1237\n",
      "INFO:root:You are assigning the σp terms randomly\n",
      "INFO:root:You are including the PSR terms in your synthetic data generation\n"
     ]
    },
    {
     "name": "stdout",
     "output_type": "stream",
     "text": [
      "52\n"
     ]
    },
    {
     "name": "stderr",
     "output_type": "stream",
     "text": [
      "INFO:root:Welcome to the Kalman Filter Nested Sampler for PTA GW systems\n",
      "INFO:root:Random seed is 1237\n",
      "INFO:root:You are assigning the σp terms randomly\n"
     ]
    },
    {
     "name": "stdout",
     "output_type": "stream",
     "text": [
      "53\n"
     ]
    },
    {
     "name": "stderr",
     "output_type": "stream",
     "text": [
      "INFO:root:You are including the PSR terms in your synthetic data generation\n",
      "INFO:root:Welcome to the Kalman Filter Nested Sampler for PTA GW systems\n",
      "INFO:root:Random seed is 1237\n",
      "INFO:root:You are assigning the σp terms randomly\n"
     ]
    },
    {
     "name": "stdout",
     "output_type": "stream",
     "text": [
      "54\n"
     ]
    },
    {
     "name": "stderr",
     "output_type": "stream",
     "text": [
      "INFO:root:You are including the PSR terms in your synthetic data generation\n",
      "INFO:root:Welcome to the Kalman Filter Nested Sampler for PTA GW systems\n",
      "INFO:root:Random seed is 1237\n",
      "INFO:root:You are assigning the σp terms randomly\n"
     ]
    },
    {
     "name": "stdout",
     "output_type": "stream",
     "text": [
      "55\n"
     ]
    },
    {
     "name": "stderr",
     "output_type": "stream",
     "text": [
      "INFO:root:You are including the PSR terms in your synthetic data generation\n",
      "INFO:root:Welcome to the Kalman Filter Nested Sampler for PTA GW systems\n",
      "INFO:root:Random seed is 1237\n",
      "INFO:root:You are assigning the σp terms randomly\n",
      "INFO:root:You are including the PSR terms in your synthetic data generation\n",
      "INFO:root:Welcome to the Kalman Filter Nested Sampler for PTA GW systems\n",
      "INFO:root:Random seed is 1237\n",
      "INFO:root:You are assigning the σp terms randomly\n"
     ]
    },
    {
     "name": "stdout",
     "output_type": "stream",
     "text": [
      "56\n",
      "57\n"
     ]
    },
    {
     "name": "stderr",
     "output_type": "stream",
     "text": [
      "INFO:root:You are including the PSR terms in your synthetic data generation\n",
      "INFO:root:Welcome to the Kalman Filter Nested Sampler for PTA GW systems\n",
      "INFO:root:Random seed is 1237\n",
      "INFO:root:You are assigning the σp terms randomly\n"
     ]
    },
    {
     "name": "stdout",
     "output_type": "stream",
     "text": [
      "58\n"
     ]
    },
    {
     "name": "stderr",
     "output_type": "stream",
     "text": [
      "INFO:root:You are including the PSR terms in your synthetic data generation\n",
      "INFO:root:Welcome to the Kalman Filter Nested Sampler for PTA GW systems\n",
      "INFO:root:Random seed is 1237\n",
      "INFO:root:You are assigning the σp terms randomly\n",
      "INFO:root:You are including the PSR terms in your synthetic data generation\n"
     ]
    },
    {
     "name": "stdout",
     "output_type": "stream",
     "text": [
      "59\n"
     ]
    },
    {
     "name": "stderr",
     "output_type": "stream",
     "text": [
      "INFO:root:Welcome to the Kalman Filter Nested Sampler for PTA GW systems\n",
      "INFO:root:Random seed is 1237\n",
      "INFO:root:You are assigning the σp terms randomly\n",
      "INFO:root:You are including the PSR terms in your synthetic data generation\n"
     ]
    },
    {
     "name": "stdout",
     "output_type": "stream",
     "text": [
      "60\n"
     ]
    },
    {
     "name": "stderr",
     "output_type": "stream",
     "text": [
      "INFO:root:Welcome to the Kalman Filter Nested Sampler for PTA GW systems\n",
      "INFO:root:Random seed is 1237\n",
      "INFO:root:You are assigning the σp terms randomly\n",
      "INFO:root:You are including the PSR terms in your synthetic data generation\n",
      "INFO:root:Welcome to the Kalman Filter Nested Sampler for PTA GW systems\n",
      "INFO:root:Random seed is 1237\n"
     ]
    },
    {
     "name": "stdout",
     "output_type": "stream",
     "text": [
      "61\n",
      "62\n"
     ]
    },
    {
     "name": "stderr",
     "output_type": "stream",
     "text": [
      "INFO:root:You are assigning the σp terms randomly\n",
      "INFO:root:You are including the PSR terms in your synthetic data generation\n",
      "INFO:root:Welcome to the Kalman Filter Nested Sampler for PTA GW systems\n",
      "INFO:root:Random seed is 1237\n",
      "INFO:root:You are assigning the σp terms randomly\n",
      "INFO:root:You are including the PSR terms in your synthetic data generation\n",
      "INFO:root:Welcome to the Kalman Filter Nested Sampler for PTA GW systems\n",
      "INFO:root:Random seed is 1237\n",
      "INFO:root:You are assigning the σp terms randomly\n"
     ]
    },
    {
     "name": "stdout",
     "output_type": "stream",
     "text": [
      "63\n",
      "64\n"
     ]
    },
    {
     "name": "stderr",
     "output_type": "stream",
     "text": [
      "INFO:root:You are including the PSR terms in your synthetic data generation\n",
      "INFO:root:Welcome to the Kalman Filter Nested Sampler for PTA GW systems\n",
      "INFO:root:Random seed is 1237\n",
      "INFO:root:You are assigning the σp terms randomly\n",
      "INFO:root:You are including the PSR terms in your synthetic data generation\n"
     ]
    },
    {
     "name": "stdout",
     "output_type": "stream",
     "text": [
      "65\n",
      "66\n"
     ]
    },
    {
     "name": "stderr",
     "output_type": "stream",
     "text": [
      "INFO:root:Welcome to the Kalman Filter Nested Sampler for PTA GW systems\n",
      "INFO:root:Random seed is 1237\n",
      "INFO:root:You are assigning the σp terms randomly\n",
      "INFO:root:You are including the PSR terms in your synthetic data generation\n",
      "INFO:root:Welcome to the Kalman Filter Nested Sampler for PTA GW systems\n",
      "INFO:root:Random seed is 1237\n",
      "INFO:root:You are assigning the σp terms randomly\n"
     ]
    },
    {
     "name": "stdout",
     "output_type": "stream",
     "text": [
      "67\n"
     ]
    },
    {
     "name": "stderr",
     "output_type": "stream",
     "text": [
      "INFO:root:You are including the PSR terms in your synthetic data generation\n",
      "INFO:root:Welcome to the Kalman Filter Nested Sampler for PTA GW systems\n",
      "INFO:root:Random seed is 1237\n",
      "INFO:root:You are assigning the σp terms randomly\n",
      "INFO:root:You are including the PSR terms in your synthetic data generation\n",
      "INFO:root:Welcome to the Kalman Filter Nested Sampler for PTA GW systems\n",
      "INFO:root:Random seed is 1237\n"
     ]
    },
    {
     "name": "stdout",
     "output_type": "stream",
     "text": [
      "68\n",
      "69\n"
     ]
    },
    {
     "name": "stderr",
     "output_type": "stream",
     "text": [
      "INFO:root:You are assigning the σp terms randomly\n",
      "INFO:root:You are including the PSR terms in your synthetic data generation\n",
      "INFO:root:Welcome to the Kalman Filter Nested Sampler for PTA GW systems\n",
      "INFO:root:Random seed is 1237\n",
      "INFO:root:You are assigning the σp terms randomly\n"
     ]
    },
    {
     "name": "stdout",
     "output_type": "stream",
     "text": [
      "70\n"
     ]
    },
    {
     "name": "stderr",
     "output_type": "stream",
     "text": [
      "INFO:root:You are including the PSR terms in your synthetic data generation\n",
      "INFO:root:Welcome to the Kalman Filter Nested Sampler for PTA GW systems\n",
      "INFO:root:Random seed is 1237\n",
      "INFO:root:You are assigning the σp terms randomly\n"
     ]
    },
    {
     "name": "stdout",
     "output_type": "stream",
     "text": [
      "71\n"
     ]
    },
    {
     "name": "stderr",
     "output_type": "stream",
     "text": [
      "INFO:root:You are including the PSR terms in your synthetic data generation\n",
      "INFO:root:Welcome to the Kalman Filter Nested Sampler for PTA GW systems\n",
      "INFO:root:Random seed is 1237\n",
      "INFO:root:You are assigning the σp terms randomly\n",
      "INFO:root:You are including the PSR terms in your synthetic data generation\n"
     ]
    },
    {
     "name": "stdout",
     "output_type": "stream",
     "text": [
      "72\n",
      "73\n"
     ]
    },
    {
     "name": "stderr",
     "output_type": "stream",
     "text": [
      "INFO:root:Welcome to the Kalman Filter Nested Sampler for PTA GW systems\n",
      "INFO:root:Random seed is 1237\n",
      "INFO:root:You are assigning the σp terms randomly\n",
      "INFO:root:You are including the PSR terms in your synthetic data generation\n",
      "INFO:root:Welcome to the Kalman Filter Nested Sampler for PTA GW systems\n",
      "INFO:root:Random seed is 1237\n",
      "INFO:root:You are assigning the σp terms randomly\n"
     ]
    },
    {
     "name": "stdout",
     "output_type": "stream",
     "text": [
      "74\n"
     ]
    },
    {
     "name": "stderr",
     "output_type": "stream",
     "text": [
      "INFO:root:You are including the PSR terms in your synthetic data generation\n",
      "INFO:root:Welcome to the Kalman Filter Nested Sampler for PTA GW systems\n",
      "INFO:root:Random seed is 1237\n",
      "INFO:root:You are assigning the σp terms randomly\n",
      "INFO:root:You are including the PSR terms in your synthetic data generation\n",
      "INFO:root:Welcome to the Kalman Filter Nested Sampler for PTA GW systems\n",
      "INFO:root:Random seed is 1237\n"
     ]
    },
    {
     "name": "stdout",
     "output_type": "stream",
     "text": [
      "75\n",
      "76\n"
     ]
    },
    {
     "name": "stderr",
     "output_type": "stream",
     "text": [
      "INFO:root:You are assigning the σp terms randomly\n",
      "INFO:root:You are including the PSR terms in your synthetic data generation\n",
      "INFO:root:Welcome to the Kalman Filter Nested Sampler for PTA GW systems\n",
      "INFO:root:Random seed is 1237\n",
      "INFO:root:You are assigning the σp terms randomly\n"
     ]
    },
    {
     "name": "stdout",
     "output_type": "stream",
     "text": [
      "77\n"
     ]
    },
    {
     "name": "stderr",
     "output_type": "stream",
     "text": [
      "INFO:root:You are including the PSR terms in your synthetic data generation\n",
      "INFO:root:Welcome to the Kalman Filter Nested Sampler for PTA GW systems\n",
      "INFO:root:Random seed is 1237\n",
      "INFO:root:You are assigning the σp terms randomly\n"
     ]
    },
    {
     "name": "stdout",
     "output_type": "stream",
     "text": [
      "78\n"
     ]
    },
    {
     "name": "stderr",
     "output_type": "stream",
     "text": [
      "INFO:root:You are including the PSR terms in your synthetic data generation\n",
      "INFO:root:Welcome to the Kalman Filter Nested Sampler for PTA GW systems\n",
      "INFO:root:Random seed is 1237\n",
      "INFO:root:You are assigning the σp terms randomly\n",
      "INFO:root:You are including the PSR terms in your synthetic data generation\n"
     ]
    },
    {
     "name": "stdout",
     "output_type": "stream",
     "text": [
      "79\n"
     ]
    },
    {
     "name": "stderr",
     "output_type": "stream",
     "text": [
      "INFO:root:Welcome to the Kalman Filter Nested Sampler for PTA GW systems\n",
      "INFO:root:Random seed is 1237\n",
      "INFO:root:You are assigning the σp terms randomly\n"
     ]
    },
    {
     "name": "stdout",
     "output_type": "stream",
     "text": [
      "80\n"
     ]
    },
    {
     "name": "stderr",
     "output_type": "stream",
     "text": [
      "INFO:root:You are including the PSR terms in your synthetic data generation\n",
      "INFO:root:Welcome to the Kalman Filter Nested Sampler for PTA GW systems\n",
      "INFO:root:Random seed is 1237\n",
      "INFO:root:You are assigning the σp terms randomly\n"
     ]
    },
    {
     "name": "stdout",
     "output_type": "stream",
     "text": [
      "81\n"
     ]
    },
    {
     "name": "stderr",
     "output_type": "stream",
     "text": [
      "INFO:root:You are including the PSR terms in your synthetic data generation\n",
      "INFO:root:Welcome to the Kalman Filter Nested Sampler for PTA GW systems\n",
      "INFO:root:Random seed is 1237\n",
      "INFO:root:You are assigning the σp terms randomly\n",
      "INFO:root:You are including the PSR terms in your synthetic data generation\n"
     ]
    },
    {
     "name": "stdout",
     "output_type": "stream",
     "text": [
      "82\n",
      "83\n"
     ]
    },
    {
     "name": "stderr",
     "output_type": "stream",
     "text": [
      "INFO:root:Welcome to the Kalman Filter Nested Sampler for PTA GW systems\n",
      "INFO:root:Random seed is 1237\n",
      "INFO:root:You are assigning the σp terms randomly\n",
      "INFO:root:You are including the PSR terms in your synthetic data generation\n",
      "INFO:root:Welcome to the Kalman Filter Nested Sampler for PTA GW systems\n",
      "INFO:root:Random seed is 1237\n",
      "INFO:root:You are assigning the σp terms randomly\n"
     ]
    },
    {
     "name": "stdout",
     "output_type": "stream",
     "text": [
      "84\n"
     ]
    },
    {
     "name": "stderr",
     "output_type": "stream",
     "text": [
      "INFO:root:You are including the PSR terms in your synthetic data generation\n",
      "INFO:root:Welcome to the Kalman Filter Nested Sampler for PTA GW systems\n",
      "INFO:root:Random seed is 1237\n",
      "INFO:root:You are assigning the σp terms randomly\n",
      "INFO:root:You are including the PSR terms in your synthetic data generation\n"
     ]
    },
    {
     "name": "stdout",
     "output_type": "stream",
     "text": [
      "85\n",
      "86\n"
     ]
    },
    {
     "name": "stderr",
     "output_type": "stream",
     "text": [
      "INFO:root:Welcome to the Kalman Filter Nested Sampler for PTA GW systems\n",
      "INFO:root:Random seed is 1237\n",
      "INFO:root:You are assigning the σp terms randomly\n",
      "INFO:root:You are including the PSR terms in your synthetic data generation\n",
      "INFO:root:Welcome to the Kalman Filter Nested Sampler for PTA GW systems\n",
      "INFO:root:Random seed is 1237\n",
      "INFO:root:You are assigning the σp terms randomly\n"
     ]
    },
    {
     "name": "stdout",
     "output_type": "stream",
     "text": [
      "87\n"
     ]
    },
    {
     "name": "stderr",
     "output_type": "stream",
     "text": [
      "INFO:root:You are including the PSR terms in your synthetic data generation\n",
      "INFO:root:Welcome to the Kalman Filter Nested Sampler for PTA GW systems\n",
      "INFO:root:Random seed is 1237\n",
      "INFO:root:You are assigning the σp terms randomly\n"
     ]
    },
    {
     "name": "stdout",
     "output_type": "stream",
     "text": [
      "88\n"
     ]
    },
    {
     "name": "stderr",
     "output_type": "stream",
     "text": [
      "INFO:root:You are including the PSR terms in your synthetic data generation\n",
      "INFO:root:Welcome to the Kalman Filter Nested Sampler for PTA GW systems\n",
      "INFO:root:Random seed is 1237\n",
      "INFO:root:You are assigning the σp terms randomly\n"
     ]
    },
    {
     "name": "stdout",
     "output_type": "stream",
     "text": [
      "89\n"
     ]
    },
    {
     "name": "stderr",
     "output_type": "stream",
     "text": [
      "INFO:root:You are including the PSR terms in your synthetic data generation\n",
      "INFO:root:Welcome to the Kalman Filter Nested Sampler for PTA GW systems\n",
      "INFO:root:Random seed is 1237\n",
      "INFO:root:You are assigning the σp terms randomly\n",
      "INFO:root:You are including the PSR terms in your synthetic data generation\n",
      "INFO:root:Welcome to the Kalman Filter Nested Sampler for PTA GW systems\n",
      "INFO:root:Random seed is 1237\n",
      "INFO:root:You are assigning the σp terms randomly\n"
     ]
    },
    {
     "name": "stdout",
     "output_type": "stream",
     "text": [
      "90\n",
      "91\n"
     ]
    },
    {
     "name": "stderr",
     "output_type": "stream",
     "text": [
      "INFO:root:You are including the PSR terms in your synthetic data generation\n",
      "INFO:root:Welcome to the Kalman Filter Nested Sampler for PTA GW systems\n",
      "INFO:root:Random seed is 1237\n",
      "INFO:root:You are assigning the σp terms randomly\n"
     ]
    },
    {
     "name": "stdout",
     "output_type": "stream",
     "text": [
      "92\n"
     ]
    },
    {
     "name": "stderr",
     "output_type": "stream",
     "text": [
      "INFO:root:You are including the PSR terms in your synthetic data generation\n",
      "INFO:root:Welcome to the Kalman Filter Nested Sampler for PTA GW systems\n",
      "INFO:root:Random seed is 1237\n",
      "INFO:root:You are assigning the σp terms randomly\n",
      "INFO:root:You are including the PSR terms in your synthetic data generation\n",
      "INFO:root:Welcome to the Kalman Filter Nested Sampler for PTA GW systems\n",
      "INFO:root:Random seed is 1237\n",
      "INFO:root:You are assigning the σp terms randomly\n"
     ]
    },
    {
     "name": "stdout",
     "output_type": "stream",
     "text": [
      "93\n",
      "94\n"
     ]
    },
    {
     "name": "stderr",
     "output_type": "stream",
     "text": [
      "INFO:root:You are including the PSR terms in your synthetic data generation\n",
      "INFO:root:Welcome to the Kalman Filter Nested Sampler for PTA GW systems\n",
      "INFO:root:Random seed is 1237\n",
      "INFO:root:You are assigning the σp terms randomly\n"
     ]
    },
    {
     "name": "stdout",
     "output_type": "stream",
     "text": [
      "95\n"
     ]
    },
    {
     "name": "stderr",
     "output_type": "stream",
     "text": [
      "INFO:root:You are including the PSR terms in your synthetic data generation\n",
      "INFO:root:Welcome to the Kalman Filter Nested Sampler for PTA GW systems\n",
      "INFO:root:Random seed is 1237\n",
      "INFO:root:You are assigning the σp terms randomly\n"
     ]
    },
    {
     "name": "stdout",
     "output_type": "stream",
     "text": [
      "96\n"
     ]
    },
    {
     "name": "stderr",
     "output_type": "stream",
     "text": [
      "INFO:root:You are including the PSR terms in your synthetic data generation\n",
      "INFO:root:Welcome to the Kalman Filter Nested Sampler for PTA GW systems\n",
      "INFO:root:Random seed is 1237\n",
      "INFO:root:You are assigning the σp terms randomly\n"
     ]
    },
    {
     "name": "stdout",
     "output_type": "stream",
     "text": [
      "97\n"
     ]
    },
    {
     "name": "stderr",
     "output_type": "stream",
     "text": [
      "INFO:root:You are including the PSR terms in your synthetic data generation\n",
      "INFO:root:Welcome to the Kalman Filter Nested Sampler for PTA GW systems\n",
      "INFO:root:Random seed is 1237\n",
      "INFO:root:You are assigning the σp terms randomly\n"
     ]
    },
    {
     "name": "stdout",
     "output_type": "stream",
     "text": [
      "98\n"
     ]
    },
    {
     "name": "stderr",
     "output_type": "stream",
     "text": [
      "INFO:root:You are including the PSR terms in your synthetic data generation\n",
      "INFO:root:Welcome to the Kalman Filter Nested Sampler for PTA GW systems\n",
      "INFO:root:Random seed is 1237\n",
      "INFO:root:You are assigning the σp terms randomly\n"
     ]
    },
    {
     "name": "stdout",
     "output_type": "stream",
     "text": [
      "99\n"
     ]
    },
    {
     "name": "stderr",
     "output_type": "stream",
     "text": [
      "INFO:root:You are including the PSR terms in your synthetic data generation\n"
     ]
    }
   ],
   "source": [
    "run(5e-7)\n",
    "\n",
    "\n",
    "tol = 1e-9\n",
    "val = 5e-7\n",
    "x = np.linspace(val-tol,val+tol,100)\n",
    "y = np.zeros_like(x)\n",
    "for i in range(len(x)):\n",
    "    print(i)\n",
    "    y[i] = run(x[i])"
   ]
  },
  {
   "cell_type": "code",
   "execution_count": 21,
   "metadata": {},
   "outputs": [
    {
     "data": {
      "text/plain": [
       "<matplotlib.lines.Line2D at 0x7feb020226e0>"
      ]
     },
     "execution_count": 21,
     "metadata": {},
     "output_type": "execute_result"
    },
    {
     "data": {
      "image/png": "[encoded data removed]",
      "text/plain": [
       "<Figure size 640x480 with 1 Axes>"
      ]
     },
     "metadata": {},
     "output_type": "display_data"
    }
   ],
   "source": [
    "import matplotlib.pyplot as plt \n",
    "plt.plot(x,y)\n",
    "plt.xscale('log')\n",
    "plt.axvline(5e-7,c='0.5',linestyle='--')\n",
    "\n",
    "idx = np.argmax(y)\n",
    "xc = x[idx]\n",
    "plt.axvline(xc,c='C1',linestyle='--')\n"
   ]
  },
  {
   "cell_type": "code",
   "execution_count": 15,
   "metadata": {},
   "outputs": [],
   "source": [
    "idx = np.argmax(y)"
   ]
  },
  {
   "cell_type": "code",
   "execution_count": 16,
   "metadata": {},
   "outputs": [
    {
     "data": {
      "text/plain": [
       "4.998989898989899e-07"
      ]
     },
     "execution_count": 16,
     "metadata": {},
     "output_type": "execute_result"
    }
   ],
   "source": [
    "x[idx]"
   ]
  },
  {
   "cell_type": "markdown",
   "metadata": {},
   "source": []
  }
 ],
 "metadata": {
  "kernelspec": {
   "display_name": "KalmanGW",
   "language": "python",
   "name": "python3"
  },
  "language_info": {
   "codemirror_mode": {
    "name": "ipython",
    "version": 3
   },
   "file_extension": ".py",
   "mimetype": "text/x-python",
   "name": "python",
   "nbconvert_exporter": "python",
   "pygments_lexer": "ipython3",
   "version": "3.10.4"
  },
  "orig_nbformat": 4
 },
 "nbformat": 4,
 "nbformat_minor": 2
}
