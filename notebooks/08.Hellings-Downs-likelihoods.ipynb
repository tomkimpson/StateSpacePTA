{
 "cells": [
  {
   "cell_type": "markdown",
   "metadata": {},
   "source": [
    "# Hellings-Downs curve\n",
    "\n",
    "\n",
    "The [Hellings-Downs curve](https://arxiv.org/abs/2208.07230) is used for the detection of the stochastic GW background.\n",
    "\n",
    "What does _our_ HD-equivalent curve look like using the state-space model and frequencies?\n",
    "\n",
    "---"
   ]
  },
  {
   "cell_type": "markdown",
   "metadata": {},
   "source": [
    "### Setup"
   ]
  },
  {
   "cell_type": "code",
   "execution_count": 1,
   "metadata": {},
   "outputs": [],
   "source": [
    "%load_ext autoreload\n",
    "%autoreload 2"
   ]
  },
  {
   "cell_type": "code",
   "execution_count": 2,
   "metadata": {},
   "outputs": [],
   "source": [
    "import sys\n",
    "import json \n",
    "import pandas as pd \n",
    "try:\n",
    "    sys.path.remove(\"../py_src\") # Hacky way to add higher directory to python modules path. \n",
    "except:\n",
    "    pass\n",
    "sys.path.append(\"../py_src\") # Means that I dont have to make src/ a proper python package"
   ]
  },
  {
   "cell_type": "markdown",
   "metadata": {},
   "source": [
    "Now to start, lets make a function that creates some synthetic data for a particular strain, measurement noise and noise seed AND a function that gets a likelihood value given that data "
   ]
  },
  {
   "cell_type": "markdown",
   "metadata": {},
   "source": [
    "# What do the likelihood curves look like for $K$ sources? "
   ]
  },
  {
   "cell_type": "markdown",
   "metadata": {},
   "source": []
  },
  {
   "cell_type": "code",
   "execution_count": 42,
   "metadata": {},
   "outputs": [],
   "source": [
    "\n",
    "from system_parameters import SystemParameters\n",
    "from pulsars import Pulsars\n",
    "from synthetic_data import SyntheticData\n",
    "from model import LinearModel\n",
    "from kalman_filter import KalmanFilter\n",
    "from priors import priors_dict,bilby_priors_dict\n",
    "import numpy as np \n",
    "\n",
    "import sys\n",
    "#Function to create synthetic data\n",
    "def create_synthetic_data(h,measurement_noise,seed,K):\n",
    "\n",
    "\n",
    "    P    = SystemParameters(h=h,σp=process_noise,σm=measurement_noise,seed=seed,num_gw_sources=K)       #define the system parameters as a class\n",
    "    PTA  = Pulsars(P)               # setup the PTA\n",
    "    data = SyntheticData(PTA,P)     # generate some synthetic data\n",
    "\n",
    "    return P,PTA,data\n",
    "\n",
    "#Fit model to data and return likelihood\n",
    "def get_likelihood(data,parameter_name,parameter_value,parameter_index,P,PTA):\n",
    "\n",
    "    _P = copy.copy(P)\n",
    "    _PTA = copy.copy(PTA)\n",
    "\n",
    "   \n",
    "    #Define the model \n",
    "    model = LinearModel(_P)\n",
    "\n",
    "    #Initialise the Kalman filter\n",
    "    KF = KalmanFilter(model,data.f_measured,_PTA,P.num_gw_sources)\n",
    "\n",
    "    #Get the\n",
    "    guessed_parameters = priors_dict(_PTA,_P) #These are the true parameters\n",
    "   \n",
    "\n",
    "\n",
    "    print(\"the paramters dict is as follows\")\n",
    "    print(guessed_parameters)\n",
    "\n",
    "    #sys.exit()\n",
    "    sliced = guessed_parameters[parameter_name]\n",
    "    sliced[parameter_index] = parameter_value\n",
    "\n",
    "    guessed_parameters[parameter_name] = sliced\n",
    "    \n",
    "    #print(\"value after:\",guessed_parameters[parameter_name] )\n",
    "\n",
    "    \n",
    "    model_likelihood = KF.likelihood(guessed_parameters)\n",
    "\n",
    "    return model_likelihood"
   ]
  },
  {
   "cell_type": "code",
   "execution_count": 77,
   "metadata": {},
   "outputs": [
    {
     "name": "stderr",
     "output_type": "stream",
     "text": [
      "INFO:root:Welcome to the Kalman Filter Nested Sampler for PTA GW systems\n"
     ]
    },
    {
     "name": "stderr",
     "output_type": "stream",
     "text": [
      "INFO:root:Random seed is 1237\n",
      "INFO:root:Multiple GW sources requested. Overwriting default GW parameters and randomly sampling\n",
      "INFO:root:You are assigning the σp terms randomly\n"
     ]
    },
    {
     "name": "stdout",
     "output_type": "stream",
     "text": [
      "Running with 10 GW sources \n"
     ]
    },
    {
     "name": "stderr",
     "output_type": "stream",
     "text": [
      "INFO:root:You are including the PSR terms in your synthetic data generation\n",
      "INFO:root:Generating synthetic data\n",
      "INFO:root:You are using the Pulsar terms measurement model\n",
      "INFO:root:Setting the bilby priors dict\n",
      "INFO:root:Setting fully informative priors on GW parameters\n",
      "INFO:root:Setting fully informative priors on PSR parameters\n",
      "INFO:root:Setting the bilby priors dict\n",
      "INFO:root:Setting uninformative priors on GW parameters\n",
      "INFO:root:Setting uninformative priors on PSR parameters\n",
      "INFO:root:Sigma p true value is sigma_p0 9.769327690311607e-20\n",
      "INFO:root:Sigma p true value is sigma_p1 3.8639377766942156e-20\n",
      "INFO:root:Sigma p true value is sigma_p2 9.240137714263159e-20\n",
      "INFO:root:Sigma p true value is sigma_p3 2.6907549962490873e-20\n",
      "INFO:root:Sigma p true value is sigma_p4 3.2590608783005556e-20\n",
      "INFO:root:Sigma p true value is sigma_p5 1.2691032063697638e-20\n",
      "INFO:root:Sigma p true value is sigma_p6 2.4934863032025724e-20\n",
      "INFO:root:Sigma p true value is sigma_p7 3.2534858949440415e-20\n",
      "INFO:root:Sigma p true value is sigma_p8 9.644384527265925e-20\n",
      "INFO:root:Sigma p true value is sigma_p9 2.7101330623234284e-20\n",
      "INFO:root:Sigma p true value is sigma_p10 4.465960608329763e-20\n",
      "INFO:root:Sigma p true value is sigma_p11 6.137721013282824e-20\n",
      "INFO:root:Sigma p true value is sigma_p12 8.649850836042612e-20\n",
      "INFO:root:Sigma p true value is sigma_p13 8.651200940668387e-20\n",
      "INFO:root:Sigma p true value is sigma_p14 6.781325002161981e-20\n",
      "INFO:root:Sigma p true value is sigma_p15 6.632756044798368e-20\n",
      "INFO:root:Sigma p true value is sigma_p16 7.384001213327948e-20\n",
      "INFO:root:Sigma p true value is sigma_p17 2.305261215500734e-20\n",
      "INFO:root:Sigma p true value is sigma_p18 1.8034552281452716e-20\n",
      "INFO:root:Sigma p true value is sigma_p19 8.71710822764046e-20\n",
      "INFO:root:Sigma p true value is sigma_p20 6.95372712234999e-21\n",
      "INFO:root:Sigma p true value is sigma_p21 6.868520199951505e-20\n",
      "INFO:root:Sigma p true value is sigma_p22 6.745256389493932e-20\n",
      "INFO:root:Sigma p true value is sigma_p23 6.149078012999001e-20\n",
      "INFO:root:Sigma p true value is sigma_p24 6.953593962668689e-21\n",
      "INFO:root:Sigma p true value is sigma_p25 9.779915808715629e-20\n",
      "INFO:root:Sigma p true value is sigma_p26 4.4456211047931417e-20\n",
      "INFO:root:Sigma p true value is sigma_p27 5.372690713076748e-20\n",
      "INFO:root:Sigma p true value is sigma_p28 1.3100964583251047e-21\n",
      "INFO:root:Sigma p true value is sigma_p29 2.5875443443639122e-20\n",
      "INFO:root:Sigma p true value is sigma_p30 8.599055330481073e-20\n",
      "INFO:root:Sigma p true value is sigma_p31 4.310453676843545e-20\n",
      "INFO:root:Sigma p true value is sigma_p32 7.384608040992704e-20\n",
      "INFO:root:Sigma p true value is sigma_p33 9.228227846422025e-20\n",
      "INFO:root:Sigma p true value is sigma_p34 1.619394294168344e-20\n",
      "INFO:root:Sigma p true value is sigma_p35 9.923366371927429e-20\n",
      "INFO:root:Sigma p true value is sigma_p36 1.9050846502046382e-20\n",
      "INFO:root:Sigma p true value is sigma_p37 9.407117732598972e-20\n",
      "INFO:root:Sigma p true value is sigma_p38 9.601422472045455e-21\n",
      "INFO:root:Sigma p true value is sigma_p39 4.735286079231124e-20\n",
      "INFO:root:Sigma p true value is sigma_p40 8.306993079295959e-20\n",
      "INFO:root:Sigma p true value is sigma_p41 2.882417403362176e-20\n",
      "INFO:root:Sigma p true value is sigma_p42 8.704005960706864e-20\n",
      "INFO:root:Sigma p true value is sigma_p43 9.766524085511181e-20\n",
      "INFO:root:Sigma p true value is sigma_p44 8.432965208721012e-20\n",
      "INFO:root:Sigma p true value is sigma_p45 4.543848643198133e-20\n",
      "INFO:root:Sigma p true value is sigma_p46 3.7680334547298164e-20\n"
     ]
    },
    {
     "name": "stdout",
     "output_type": "stream",
     "text": [
      "776\n",
      "585736.316277382 583884.233049336 1852.083228045958\n"
     ]
    }
   ],
   "source": [
    "\n",
    "import copy \n",
    "import logging \n",
    "\n",
    "#Setup parameters for K sources and N pulsars\n",
    "h = None    #set randomly\n",
    "measurement_noise = 1e-11\n",
    "process_noise = None #randomly assigned\n",
    "K = 10\n",
    "seed = 1237\n",
    "\n",
    "\n",
    "\n",
    "#Initialise \n",
    "P    = SystemParameters(h=h,σp=process_noise,σm=measurement_noise,seed=seed,num_gw_sources=K)       #define the system parameters as a class\n",
    "PTA  = Pulsars(P)               # setup the PTA\n",
    "data = SyntheticData(PTA,P)     # generate some synthetic data\n",
    "\n",
    "\n",
    "#Define the model \n",
    "model = LinearModel(P)\n",
    "\n",
    "#Initialise the Kalman filter\n",
    "KF = KalmanFilter(model,data.f_measured,PTA,P.num_gw_sources)\n",
    "\n",
    "#Bilby\n",
    "init_parameters_optimal, priors_optimal = bilby_priors_dict(PTA,P,set_parameters_as_known=True)\n",
    "params = priors_optimal.sample(1)\n",
    "optimal_model_likelihood = KF.likelihood(params)\n",
    "\n",
    "\n",
    "init_parameters, priors = bilby_priors_dict(PTA,P,set_parameters_as_known=False)\n",
    "params = priors.sample(1)\n",
    "model_likelihood = KF.likelihood(params)\n",
    "\n",
    "\n",
    "\n",
    "print(len(params))\n",
    "\n",
    "print(optimal_model_likelihood,model_likelihood,optimal_model_likelihood-model_likelihood)\n",
    "\n",
    "\n",
    "# print(\"the params returned by the bilby sampler are\")\n",
    "# for key,value in params.items():\n",
    "#     print(key,value)\n",
    "\n",
    "# import sys\n",
    "# sys.exit()\n",
    "#Run the KF with some randomly sampled params to check everything looks ok\n",
    "\n",
    "\n",
    "\n"
   ]
  },
  {
   "cell_type": "code",
   "execution_count": 58,
   "metadata": {},
   "outputs": [
    {
     "data": {
      "text/plain": [
       "585658.6185181594"
      ]
     },
     "execution_count": 58,
     "metadata": {},
     "output_type": "execute_result"
    }
   ],
   "source": [
    "model_likelihood"
   ]
  },
  {
   "cell_type": "code",
   "execution_count": null,
   "metadata": {},
   "outputs": [],
   "source": []
  }
 ],
 "metadata": {
  "kernelspec": {
   "display_name": "KalmanGW",
   "language": "python",
   "name": "python3"
  },
  "language_info": {
   "codemirror_mode": {
    "name": "ipython",
    "version": 3
   },
   "file_extension": ".py",
   "mimetype": "text/x-python",
   "name": "python",
   "nbconvert_exporter": "python",
   "pygments_lexer": "ipython3",
   "version": "3.10.4"
  },
  "orig_nbformat": 4
 },
 "nbformat": 4,
 "nbformat_minor": 2
}
