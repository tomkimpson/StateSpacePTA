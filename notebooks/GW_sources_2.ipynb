{
 "cells": [
  {
   "cell_type": "markdown",
   "metadata": {},
   "source": [
    "# Review HD results\n",
    "\n",
    "\n",
    "This notebook compares the posteriors derived using the Earth terms and the pulsar terms \n",
    "\n",
    "---"
   ]
  },
  {
   "cell_type": "markdown",
   "metadata": {},
   "source": [
    "First load everything:"
   ]
  },
  {
   "cell_type": "code",
   "execution_count": 1,
   "metadata": {},
   "outputs": [],
   "source": [
    "%load_ext autoreload\n",
    "%autoreload 2"
   ]
  },
  {
   "cell_type": "code",
   "execution_count": 2,
   "metadata": {},
   "outputs": [],
   "source": [
    "import sys\n",
    "import json \n",
    "import pandas as pd \n",
    "import numpy as np \n",
    "try:\n",
    "    sys.path.remove(\"../py_src\") # Hacky way to add higher directory to python modules path. \n",
    "except:\n",
    "    pass\n",
    "sys.path.append(\"../py_src\") # Means that I dont have to make src/ a proper python package"
   ]
  },
  {
   "cell_type": "markdown",
   "metadata": {},
   "source": [
    "# 2 sources example"
   ]
  },
  {
   "cell_type": "code",
   "execution_count": 4,
   "metadata": {},
   "outputs": [
    {
     "name": "stdout",
     "output_type": "stream",
     "text": [
      "Extracting data from file:  ../data/nested_sampling/new_quick_15_result.json\n",
      "The evidence is: 586562.4982065404\n",
      "The number of samples is: 12285\n",
      "Variable/Injection/Median\n",
      "omega_gw_0 5e-07 5.005220934695806e-07\n",
      "omega_gw_1 5e-07 1.1290249850018108e-07\n",
      "phi0_gw_0 0.2 0.22038930611386445\n",
      "phi0_gw_1 1.5 0.4262116885090414\n",
      "psi_gw_0 2.5 2.576666583777933\n",
      "psi_gw_1 0.35 0.5786186259582089\n",
      "iota_gw_0 1.0 0.6229290246165866\n",
      "iota_gw_1 1.0 1.0345864227632613\n",
      "delta_gw_0 1.0 1.053833334816546\n",
      "delta_gw_1 0.7 0.7414171731301256\n",
      "alpha_gw_0 1.0 0.9717323541499894\n",
      "alpha_gw_1 1.3 1.32347578500354\n",
      "h_0 5e-15 3.909699388293514e-15\n",
      "h_1 5e-15 1.5118401063198244e-15\n",
      "-------------------------------\n"
     ]
    },
    {
     "ename": "ValueError",
     "evalue": "Dimension mismatch between samples and range",
     "output_type": "error",
     "traceback": [
      "\u001b[0;31m---------------------------------------------------------------------------\u001b[0m",
      "\u001b[0;31mValueError\u001b[0m                                Traceback (most recent call last)",
      "\u001b[1;32m/Users/t1/github_repos/StateSpacePTA/notebooks/GW_sources_2.ipynb Cell 6\u001b[0m line \u001b[0;36m<cell line: 62>\u001b[0;34m()\u001b[0m\n\u001b[1;32m     <a href='vscode-notebook-cell:/Users/t1/github_repos/StateSpacePTA/notebooks/GW_sources_2.ipynb#X11sZmlsZQ%3D%3D?line=58'>59</a>\u001b[0m path \u001b[39m=\u001b[39m \u001b[39m'\u001b[39m\u001b[39m../data/nested_sampling/new_quick_15_result.json\u001b[39m\u001b[39m'\u001b[39m\n\u001b[1;32m     <a href='vscode-notebook-cell:/Users/t1/github_repos/StateSpacePTA/notebooks/GW_sources_2.ipynb#X11sZmlsZQ%3D%3D?line=60'>61</a>\u001b[0m \u001b[39m#Corner plot of GW parameters\u001b[39;00m\n\u001b[0;32m---> <a href='vscode-notebook-cell:/Users/t1/github_repos/StateSpacePTA/notebooks/GW_sources_2.ipynb#X11sZmlsZQ%3D%3D?line=61'>62</a>\u001b[0m plot_custom_corner(path,\n\u001b[1;32m     <a href='vscode-notebook-cell:/Users/t1/github_repos/StateSpacePTA/notebooks/GW_sources_2.ipynb#X11sZmlsZQ%3D%3D?line=62'>63</a>\u001b[0m                    np\u001b[39m.\u001b[39;49marray(variables_to_plot),\n\u001b[1;32m     <a href='vscode-notebook-cell:/Users/t1/github_repos/StateSpacePTA/notebooks/GW_sources_2.ipynb#X11sZmlsZQ%3D%3D?line=63'>64</a>\u001b[0m                    labels,\n\u001b[1;32m     <a href='vscode-notebook-cell:/Users/t1/github_repos/StateSpacePTA/notebooks/GW_sources_2.ipynb#X11sZmlsZQ%3D%3D?line=64'>65</a>\u001b[0m                    injection_parameters,\n\u001b[1;32m     <a href='vscode-notebook-cell:/Users/t1/github_repos/StateSpacePTA/notebooks/GW_sources_2.ipynb#X11sZmlsZQ%3D%3D?line=65'>66</a>\u001b[0m                    ranges,\n\u001b[1;32m     <a href='vscode-notebook-cell:/Users/t1/github_repos/StateSpacePTA/notebooks/GW_sources_2.ipynb#X11sZmlsZQ%3D%3D?line=66'>67</a>\u001b[0m                    axes_scales,\n\u001b[1;32m     <a href='vscode-notebook-cell:/Users/t1/github_repos/StateSpacePTA/notebooks/GW_sources_2.ipynb#X11sZmlsZQ%3D%3D?line=67'>68</a>\u001b[0m                    savefig\u001b[39m=\u001b[39;49m\u001b[39mNone\u001b[39;49;00m,\n\u001b[1;32m     <a href='vscode-notebook-cell:/Users/t1/github_repos/StateSpacePTA/notebooks/GW_sources_2.ipynb#X11sZmlsZQ%3D%3D?line=68'>69</a>\u001b[0m                    smooth\u001b[39m=\u001b[39;49m\u001b[39mTrue\u001b[39;49;00m,smooth1d\u001b[39m=\u001b[39;49m\u001b[39mTrue\u001b[39;49;00m)\n",
      "File \u001b[0;32m~/github_repos/StateSpacePTA/notebooks/../py_src/plotting.py:225\u001b[0m, in \u001b[0;36mplot_custom_corner\u001b[0;34m(path, variables_to_plot, labels, injection_parameters, ranges, axes_scales, scalings, savefig, logscale, title, smooth, smooth1d, fig)\u001b[0m\n\u001b[1;32m    223\u001b[0m \u001b[39m#Now plot it using corner.corner\u001b[39;00m\n\u001b[1;32m    224\u001b[0m fs \u001b[39m=\u001b[39m \u001b[39m20\u001b[39m\n\u001b[0;32m--> 225\u001b[0m newfig \u001b[39m=\u001b[39m corner\u001b[39m.\u001b[39;49mcorner(y_post, \n\u001b[1;32m    226\u001b[0m                     color\u001b[39m=\u001b[39;49m\u001b[39m'\u001b[39;49m\u001b[39mC0\u001b[39;49m\u001b[39m'\u001b[39;49m,\n\u001b[1;32m    227\u001b[0m                     show_titles\u001b[39m=\u001b[39;49m\u001b[39mTrue\u001b[39;49;00m,\n\u001b[1;32m    228\u001b[0m                     smooth\u001b[39m=\u001b[39;49msmooth,smooth1d\u001b[39m=\u001b[39;49msmooth1d,\n\u001b[1;32m    229\u001b[0m                     truth_color\u001b[39m=\u001b[39;49m\u001b[39m'\u001b[39;49m\u001b[39mC2\u001b[39;49m\u001b[39m'\u001b[39;49m,\n\u001b[1;32m    230\u001b[0m                     quantiles\u001b[39m=\u001b[39;49m[\u001b[39m0.16\u001b[39;49m, \u001b[39m0.84\u001b[39;49m], \u001b[39m#[0.16, 0.84]\u001b[39;49;00m\n\u001b[1;32m    231\u001b[0m                     truths \u001b[39m=\u001b[39;49m injection_parameters,\n\u001b[1;32m    232\u001b[0m                     \u001b[39mrange\u001b[39;49m\u001b[39m=\u001b[39;49mranges,\n\u001b[1;32m    233\u001b[0m                     labels \u001b[39m=\u001b[39;49m labels,\n\u001b[1;32m    234\u001b[0m                     label_kwargs\u001b[39m=\u001b[39;49m\u001b[39mdict\u001b[39;49m(fontsize\u001b[39m=\u001b[39;49mfs),\n\u001b[1;32m    235\u001b[0m                     axes_scales \u001b[39m=\u001b[39;49m axes_scales,\n\u001b[1;32m    236\u001b[0m                     fig\u001b[39m=\u001b[39;49mfig)\n\u001b[1;32m    239\u001b[0m \u001b[39m#Pretty-ify\u001b[39;00m\n\u001b[1;32m    240\u001b[0m \u001b[39mfor\u001b[39;00m ax \u001b[39min\u001b[39;00m newfig\u001b[39m.\u001b[39maxes:\n",
      "File \u001b[0;32m~/miniconda3/envs/KalmanGW/lib/python3.10/site-packages/corner/corner.py:256\u001b[0m, in \u001b[0;36mcorner\u001b[0;34m(data, bins, range, weights, color, hist_bin_factor, smooth, smooth1d, labels, label_kwargs, titles, show_titles, title_fmt, title_kwargs, truths, truth_color, scale_hist, quantiles, verbose, fig, max_n_ticks, top_ticks, use_math_text, reverse, labelpad, hist_kwargs, group, var_names, filter_vars, coords, divergences, divergences_kwargs, labeller, **hist2d_kwargs)\u001b[0m\n\u001b[1;32m    222\u001b[0m         logging\u001b[39m.\u001b[39mwarning(\n\u001b[1;32m    223\u001b[0m             \u001b[39m\"\u001b[39m\u001b[39mPlease install arviz to use the advanced features of corner\u001b[39m\u001b[39m\"\u001b[39m\n\u001b[1;32m    224\u001b[0m         )\n\u001b[1;32m    226\u001b[0m     \u001b[39mreturn\u001b[39;00m corner_impl(\n\u001b[1;32m    227\u001b[0m         data,\n\u001b[1;32m    228\u001b[0m         bins\u001b[39m=\u001b[39mbins,\n\u001b[0;32m   (...)\u001b[0m\n\u001b[1;32m    253\u001b[0m         \u001b[39m*\u001b[39m\u001b[39m*\u001b[39mhist2d_kwargs,\n\u001b[1;32m    254\u001b[0m     )\n\u001b[0;32m--> 256\u001b[0m \u001b[39mreturn\u001b[39;00m arviz_corner(\n\u001b[1;32m    257\u001b[0m     data,\n\u001b[1;32m    258\u001b[0m     bins\u001b[39m=\u001b[39;49mbins,\n\u001b[1;32m    259\u001b[0m     \u001b[39mrange\u001b[39;49m\u001b[39m=\u001b[39;49m\u001b[39mrange\u001b[39;49m,\n\u001b[1;32m    260\u001b[0m     weights\u001b[39m=\u001b[39;49mweights,\n\u001b[1;32m    261\u001b[0m     color\u001b[39m=\u001b[39;49mcolor,\n\u001b[1;32m    262\u001b[0m     hist_bin_factor\u001b[39m=\u001b[39;49mhist_bin_factor,\n\u001b[1;32m    263\u001b[0m     smooth\u001b[39m=\u001b[39;49msmooth,\n\u001b[1;32m    264\u001b[0m     smooth1d\u001b[39m=\u001b[39;49msmooth1d,\n\u001b[1;32m    265\u001b[0m     labels\u001b[39m=\u001b[39;49mlabels,\n\u001b[1;32m    266\u001b[0m     label_kwargs\u001b[39m=\u001b[39;49mlabel_kwargs,\n\u001b[1;32m    267\u001b[0m     titles\u001b[39m=\u001b[39;49mtitles,\n\u001b[1;32m    268\u001b[0m     show_titles\u001b[39m=\u001b[39;49mshow_titles,\n\u001b[1;32m    269\u001b[0m     title_fmt\u001b[39m=\u001b[39;49mtitle_fmt,\n\u001b[1;32m    270\u001b[0m     title_kwargs\u001b[39m=\u001b[39;49mtitle_kwargs,\n\u001b[1;32m    271\u001b[0m     truths\u001b[39m=\u001b[39;49mtruths,\n\u001b[1;32m    272\u001b[0m     truth_color\u001b[39m=\u001b[39;49mtruth_color,\n\u001b[1;32m    273\u001b[0m     scale_hist\u001b[39m=\u001b[39;49mscale_hist,\n\u001b[1;32m    274\u001b[0m     quantiles\u001b[39m=\u001b[39;49mquantiles,\n\u001b[1;32m    275\u001b[0m     verbose\u001b[39m=\u001b[39;49mverbose,\n\u001b[1;32m    276\u001b[0m     fig\u001b[39m=\u001b[39;49mfig,\n\u001b[1;32m    277\u001b[0m     max_n_ticks\u001b[39m=\u001b[39;49mmax_n_ticks,\n\u001b[1;32m    278\u001b[0m     top_ticks\u001b[39m=\u001b[39;49mtop_ticks,\n\u001b[1;32m    279\u001b[0m     use_math_text\u001b[39m=\u001b[39;49muse_math_text,\n\u001b[1;32m    280\u001b[0m     reverse\u001b[39m=\u001b[39;49mreverse,\n\u001b[1;32m    281\u001b[0m     labelpad\u001b[39m=\u001b[39;49mlabelpad,\n\u001b[1;32m    282\u001b[0m     hist_kwargs\u001b[39m=\u001b[39;49mhist_kwargs,\n\u001b[1;32m    283\u001b[0m     group\u001b[39m=\u001b[39;49mgroup,\n\u001b[1;32m    284\u001b[0m     var_names\u001b[39m=\u001b[39;49mvar_names,\n\u001b[1;32m    285\u001b[0m     filter_vars\u001b[39m=\u001b[39;49mfilter_vars,\n\u001b[1;32m    286\u001b[0m     coords\u001b[39m=\u001b[39;49mcoords,\n\u001b[1;32m    287\u001b[0m     divergences\u001b[39m=\u001b[39;49mdivergences,\n\u001b[1;32m    288\u001b[0m     divergences_kwargs\u001b[39m=\u001b[39;49mdivergences_kwargs,\n\u001b[1;32m    289\u001b[0m     labeller\u001b[39m=\u001b[39;49mlabeller,\n\u001b[1;32m    290\u001b[0m     \u001b[39m*\u001b[39;49m\u001b[39m*\u001b[39;49mhist2d_kwargs,\n\u001b[1;32m    291\u001b[0m )\n",
      "File \u001b[0;32m~/miniconda3/envs/KalmanGW/lib/python3.10/site-packages/corner/arviz_corner.py:136\u001b[0m, in \u001b[0;36marviz_corner\u001b[0;34m(data, bins, range, weights, color, hist_bin_factor, smooth, smooth1d, labels, label_kwargs, titles, show_titles, title_fmt, title_kwargs, truths, truth_color, scale_hist, quantiles, verbose, fig, max_n_ticks, top_ticks, use_math_text, reverse, labelpad, hist_kwargs, group, var_names, filter_vars, coords, divergences, divergences_kwargs, labeller, **hist2d_kwargs)\u001b[0m\n\u001b[1;32m    134\u001b[0m \u001b[39m# Coerce the samples into the expected format\u001b[39;00m\n\u001b[1;32m    135\u001b[0m samples \u001b[39m=\u001b[39m np\u001b[39m.\u001b[39mstack([x[\u001b[39m-\u001b[39m\u001b[39m1\u001b[39m]\u001b[39m.\u001b[39mflatten() \u001b[39mfor\u001b[39;00m x \u001b[39min\u001b[39;00m plotters], axis\u001b[39m=\u001b[39m\u001b[39m-\u001b[39m\u001b[39m1\u001b[39m)\n\u001b[0;32m--> 136\u001b[0m fig \u001b[39m=\u001b[39m corner_impl(\n\u001b[1;32m    137\u001b[0m     samples,\n\u001b[1;32m    138\u001b[0m     bins\u001b[39m=\u001b[39;49mbins,\n\u001b[1;32m    139\u001b[0m     \u001b[39mrange\u001b[39;49m\u001b[39m=\u001b[39;49m\u001b[39mrange\u001b[39;49m,\n\u001b[1;32m    140\u001b[0m     weights\u001b[39m=\u001b[39;49mweights,\n\u001b[1;32m    141\u001b[0m     color\u001b[39m=\u001b[39;49mcolor,\n\u001b[1;32m    142\u001b[0m     hist_bin_factor\u001b[39m=\u001b[39;49mhist_bin_factor,\n\u001b[1;32m    143\u001b[0m     smooth\u001b[39m=\u001b[39;49msmooth,\n\u001b[1;32m    144\u001b[0m     smooth1d\u001b[39m=\u001b[39;49msmooth1d,\n\u001b[1;32m    145\u001b[0m     labels\u001b[39m=\u001b[39;49mlabels,\n\u001b[1;32m    146\u001b[0m     label_kwargs\u001b[39m=\u001b[39;49mlabel_kwargs,\n\u001b[1;32m    147\u001b[0m     titles\u001b[39m=\u001b[39;49mtitles,\n\u001b[1;32m    148\u001b[0m     show_titles\u001b[39m=\u001b[39;49mshow_titles,\n\u001b[1;32m    149\u001b[0m     title_fmt\u001b[39m=\u001b[39;49mtitle_fmt,\n\u001b[1;32m    150\u001b[0m     title_kwargs\u001b[39m=\u001b[39;49mtitle_kwargs,\n\u001b[1;32m    151\u001b[0m     truths\u001b[39m=\u001b[39;49mtruths,\n\u001b[1;32m    152\u001b[0m     truth_color\u001b[39m=\u001b[39;49mtruth_color,\n\u001b[1;32m    153\u001b[0m     scale_hist\u001b[39m=\u001b[39;49mscale_hist,\n\u001b[1;32m    154\u001b[0m     quantiles\u001b[39m=\u001b[39;49mquantiles,\n\u001b[1;32m    155\u001b[0m     verbose\u001b[39m=\u001b[39;49mverbose,\n\u001b[1;32m    156\u001b[0m     fig\u001b[39m=\u001b[39;49mfig,\n\u001b[1;32m    157\u001b[0m     max_n_ticks\u001b[39m=\u001b[39;49mmax_n_ticks,\n\u001b[1;32m    158\u001b[0m     top_ticks\u001b[39m=\u001b[39;49mtop_ticks,\n\u001b[1;32m    159\u001b[0m     use_math_text\u001b[39m=\u001b[39;49muse_math_text,\n\u001b[1;32m    160\u001b[0m     reverse\u001b[39m=\u001b[39;49mreverse,\n\u001b[1;32m    161\u001b[0m     labelpad\u001b[39m=\u001b[39;49mlabelpad,\n\u001b[1;32m    162\u001b[0m     hist_kwargs\u001b[39m=\u001b[39;49mhist_kwargs,\n\u001b[1;32m    163\u001b[0m     \u001b[39m*\u001b[39;49m\u001b[39m*\u001b[39;49mhist2d_kwargs,\n\u001b[1;32m    164\u001b[0m )\n\u001b[1;32m    166\u001b[0m \u001b[39m# Get diverging draws and combine chains\u001b[39;00m\n\u001b[1;32m    167\u001b[0m \u001b[39mif\u001b[39;00m divergences:\n",
      "File \u001b[0;32m~/miniconda3/envs/KalmanGW/lib/python3.10/site-packages/corner/core.py:143\u001b[0m, in \u001b[0;36mcorner_impl\u001b[0;34m(xs, bins, range, weights, color, hist_bin_factor, smooth, smooth1d, labels, label_kwargs, titles, show_titles, title_fmt, title_kwargs, truths, truth_color, scale_hist, quantiles, verbose, fig, max_n_ticks, top_ticks, use_math_text, reverse, labelpad, hist_kwargs, **hist2d_kwargs)\u001b[0m\n\u001b[1;32m    140\u001b[0m             \u001b[39mrange\u001b[39m[i] \u001b[39m=\u001b[39m quantile(xs[i], q, weights\u001b[39m=\u001b[39mweights)\n\u001b[1;32m    142\u001b[0m \u001b[39mif\u001b[39;00m \u001b[39mlen\u001b[39m(\u001b[39mrange\u001b[39m) \u001b[39m!=\u001b[39m xs\u001b[39m.\u001b[39mshape[\u001b[39m0\u001b[39m]:\n\u001b[0;32m--> 143\u001b[0m     \u001b[39mraise\u001b[39;00m \u001b[39mValueError\u001b[39;00m(\u001b[39m\"\u001b[39m\u001b[39mDimension mismatch between samples and range\u001b[39m\u001b[39m\"\u001b[39m)\n\u001b[1;32m    145\u001b[0m \u001b[39m# Parse the bin specifications.\u001b[39;00m\n\u001b[1;32m    146\u001b[0m \u001b[39mtry\u001b[39;00m:\n",
      "\u001b[0;31mValueError\u001b[0m: Dimension mismatch between samples and range"
     ]
    },
    {
     "name": "stdout",
     "output_type": "stream",
     "text": [
      "Error in callback <function flush_figures at 0x7f9849aecc10> (for post_execute):\n"
     ]
    },
    {
     "ename": "KeyboardInterrupt",
     "evalue": "",
     "output_type": "error",
     "traceback": [
      "\u001b[0;31m---------------------------------------------------------------------------\u001b[0m",
      "\u001b[0;31mKeyboardInterrupt\u001b[0m                         Traceback (most recent call last)",
      "File \u001b[0;32m~/miniconda3/envs/KalmanGW/lib/python3.10/site-packages/matplotlib_inline/backend_inline.py:126\u001b[0m, in \u001b[0;36mflush_figures\u001b[0;34m()\u001b[0m\n\u001b[1;32m    123\u001b[0m \u001b[39mif\u001b[39;00m InlineBackend\u001b[39m.\u001b[39minstance()\u001b[39m.\u001b[39mclose_figures:\n\u001b[1;32m    124\u001b[0m     \u001b[39m# ignore the tracking, just draw and close all figures\u001b[39;00m\n\u001b[1;32m    125\u001b[0m     \u001b[39mtry\u001b[39;00m:\n\u001b[0;32m--> 126\u001b[0m         \u001b[39mreturn\u001b[39;00m show(\u001b[39mTrue\u001b[39;49;00m)\n\u001b[1;32m    127\u001b[0m     \u001b[39mexcept\u001b[39;00m \u001b[39mException\u001b[39;00m \u001b[39mas\u001b[39;00m e:\n\u001b[1;32m    128\u001b[0m         \u001b[39m# safely show traceback if in IPython, else raise\u001b[39;00m\n\u001b[1;32m    129\u001b[0m         ip \u001b[39m=\u001b[39m get_ipython()\n",
      "File \u001b[0;32m~/miniconda3/envs/KalmanGW/lib/python3.10/site-packages/matplotlib_inline/backend_inline.py:90\u001b[0m, in \u001b[0;36mshow\u001b[0;34m(close, block)\u001b[0m\n\u001b[1;32m     88\u001b[0m \u001b[39mtry\u001b[39;00m:\n\u001b[1;32m     89\u001b[0m     \u001b[39mfor\u001b[39;00m figure_manager \u001b[39min\u001b[39;00m Gcf\u001b[39m.\u001b[39mget_all_fig_managers():\n\u001b[0;32m---> 90\u001b[0m         display(\n\u001b[1;32m     91\u001b[0m             figure_manager\u001b[39m.\u001b[39;49mcanvas\u001b[39m.\u001b[39;49mfigure,\n\u001b[1;32m     92\u001b[0m             metadata\u001b[39m=\u001b[39;49m_fetch_figure_metadata(figure_manager\u001b[39m.\u001b[39;49mcanvas\u001b[39m.\u001b[39;49mfigure)\n\u001b[1;32m     93\u001b[0m         )\n\u001b[1;32m     94\u001b[0m \u001b[39mfinally\u001b[39;00m:\n\u001b[1;32m     95\u001b[0m     show\u001b[39m.\u001b[39m_to_draw \u001b[39m=\u001b[39m []\n",
      "File \u001b[0;32m~/miniconda3/envs/KalmanGW/lib/python3.10/site-packages/IPython/core/display_functions.py:298\u001b[0m, in \u001b[0;36mdisplay\u001b[0;34m(include, exclude, metadata, transient, display_id, raw, clear, *objs, **kwargs)\u001b[0m\n\u001b[1;32m    296\u001b[0m     publish_display_data(data\u001b[39m=\u001b[39mobj, metadata\u001b[39m=\u001b[39mmetadata, \u001b[39m*\u001b[39m\u001b[39m*\u001b[39mkwargs)\n\u001b[1;32m    297\u001b[0m \u001b[39melse\u001b[39;00m:\n\u001b[0;32m--> 298\u001b[0m     format_dict, md_dict \u001b[39m=\u001b[39m \u001b[39mformat\u001b[39;49m(obj, include\u001b[39m=\u001b[39;49minclude, exclude\u001b[39m=\u001b[39;49mexclude)\n\u001b[1;32m    299\u001b[0m     \u001b[39mif\u001b[39;00m \u001b[39mnot\u001b[39;00m format_dict:\n\u001b[1;32m    300\u001b[0m         \u001b[39m# nothing to display (e.g. _ipython_display_ took over)\u001b[39;00m\n\u001b[1;32m    301\u001b[0m         \u001b[39mcontinue\u001b[39;00m\n",
      "File \u001b[0;32m~/miniconda3/envs/KalmanGW/lib/python3.10/site-packages/IPython/core/formatters.py:178\u001b[0m, in \u001b[0;36mDisplayFormatter.format\u001b[0;34m(self, obj, include, exclude)\u001b[0m\n\u001b[1;32m    176\u001b[0m md \u001b[39m=\u001b[39m \u001b[39mNone\u001b[39;00m\n\u001b[1;32m    177\u001b[0m \u001b[39mtry\u001b[39;00m:\n\u001b[0;32m--> 178\u001b[0m     data \u001b[39m=\u001b[39m formatter(obj)\n\u001b[1;32m    179\u001b[0m \u001b[39mexcept\u001b[39;00m:\n\u001b[1;32m    180\u001b[0m     \u001b[39m# FIXME: log the exception\u001b[39;00m\n\u001b[1;32m    181\u001b[0m     \u001b[39mraise\u001b[39;00m\n",
      "File \u001b[0;32m~/miniconda3/envs/KalmanGW/lib/python3.10/site-packages/decorator.py:232\u001b[0m, in \u001b[0;36mdecorate.<locals>.fun\u001b[0;34m(*args, **kw)\u001b[0m\n\u001b[1;32m    230\u001b[0m \u001b[39mif\u001b[39;00m \u001b[39mnot\u001b[39;00m kwsyntax:\n\u001b[1;32m    231\u001b[0m     args, kw \u001b[39m=\u001b[39m fix(args, kw, sig)\n\u001b[0;32m--> 232\u001b[0m \u001b[39mreturn\u001b[39;00m caller(func, \u001b[39m*\u001b[39;49m(extras \u001b[39m+\u001b[39;49m args), \u001b[39m*\u001b[39;49m\u001b[39m*\u001b[39;49mkw)\n",
      "File \u001b[0;32m~/miniconda3/envs/KalmanGW/lib/python3.10/site-packages/IPython/core/formatters.py:222\u001b[0m, in \u001b[0;36mcatch_format_error\u001b[0;34m(method, self, *args, **kwargs)\u001b[0m\n\u001b[1;32m    220\u001b[0m \u001b[39m\"\"\"show traceback on failed format call\"\"\"\u001b[39;00m\n\u001b[1;32m    221\u001b[0m \u001b[39mtry\u001b[39;00m:\n\u001b[0;32m--> 222\u001b[0m     r \u001b[39m=\u001b[39m method(\u001b[39mself\u001b[39;49m, \u001b[39m*\u001b[39;49margs, \u001b[39m*\u001b[39;49m\u001b[39m*\u001b[39;49mkwargs)\n\u001b[1;32m    223\u001b[0m \u001b[39mexcept\u001b[39;00m \u001b[39mNotImplementedError\u001b[39;00m:\n\u001b[1;32m    224\u001b[0m     \u001b[39m# don't warn on NotImplementedErrors\u001b[39;00m\n\u001b[1;32m    225\u001b[0m     \u001b[39mreturn\u001b[39;00m \u001b[39mself\u001b[39m\u001b[39m.\u001b[39m_check_return(\u001b[39mNone\u001b[39;00m, args[\u001b[39m0\u001b[39m])\n",
      "File \u001b[0;32m~/miniconda3/envs/KalmanGW/lib/python3.10/site-packages/IPython/core/formatters.py:339\u001b[0m, in \u001b[0;36mBaseFormatter.__call__\u001b[0;34m(self, obj)\u001b[0m\n\u001b[1;32m    337\u001b[0m     \u001b[39mpass\u001b[39;00m\n\u001b[1;32m    338\u001b[0m \u001b[39melse\u001b[39;00m:\n\u001b[0;32m--> 339\u001b[0m     \u001b[39mreturn\u001b[39;00m printer(obj)\n\u001b[1;32m    340\u001b[0m \u001b[39m# Finally look for special method names\u001b[39;00m\n\u001b[1;32m    341\u001b[0m method \u001b[39m=\u001b[39m get_real_method(obj, \u001b[39mself\u001b[39m\u001b[39m.\u001b[39mprint_method)\n",
      "File \u001b[0;32m~/miniconda3/envs/KalmanGW/lib/python3.10/site-packages/IPython/core/pylabtools.py:151\u001b[0m, in \u001b[0;36mprint_figure\u001b[0;34m(fig, fmt, bbox_inches, base64, **kwargs)\u001b[0m\n\u001b[1;32m    148\u001b[0m     \u001b[39mfrom\u001b[39;00m \u001b[39mmatplotlib\u001b[39;00m\u001b[39m.\u001b[39;00m\u001b[39mbackend_bases\u001b[39;00m \u001b[39mimport\u001b[39;00m FigureCanvasBase\n\u001b[1;32m    149\u001b[0m     FigureCanvasBase(fig)\n\u001b[0;32m--> 151\u001b[0m fig\u001b[39m.\u001b[39;49mcanvas\u001b[39m.\u001b[39;49mprint_figure(bytes_io, \u001b[39m*\u001b[39;49m\u001b[39m*\u001b[39;49mkw)\n\u001b[1;32m    152\u001b[0m data \u001b[39m=\u001b[39m bytes_io\u001b[39m.\u001b[39mgetvalue()\n\u001b[1;32m    153\u001b[0m \u001b[39mif\u001b[39;00m fmt \u001b[39m==\u001b[39m \u001b[39m'\u001b[39m\u001b[39msvg\u001b[39m\u001b[39m'\u001b[39m:\n",
      "File \u001b[0;32m~/miniconda3/envs/KalmanGW/lib/python3.10/site-packages/matplotlib/backend_bases.py:2299\u001b[0m, in \u001b[0;36mFigureCanvasBase.print_figure\u001b[0;34m(self, filename, dpi, facecolor, edgecolor, orientation, format, bbox_inches, pad_inches, bbox_extra_artists, backend, **kwargs)\u001b[0m\n\u001b[1;32m   2297\u001b[0m \u001b[39mif\u001b[39;00m bbox_inches:\n\u001b[1;32m   2298\u001b[0m     \u001b[39mif\u001b[39;00m bbox_inches \u001b[39m==\u001b[39m \u001b[39m\"\u001b[39m\u001b[39mtight\u001b[39m\u001b[39m\"\u001b[39m:\n\u001b[0;32m-> 2299\u001b[0m         bbox_inches \u001b[39m=\u001b[39m \u001b[39mself\u001b[39;49m\u001b[39m.\u001b[39;49mfigure\u001b[39m.\u001b[39;49mget_tightbbox(\n\u001b[1;32m   2300\u001b[0m             renderer, bbox_extra_artists\u001b[39m=\u001b[39;49mbbox_extra_artists)\n\u001b[1;32m   2301\u001b[0m         \u001b[39mif\u001b[39;00m pad_inches \u001b[39mis\u001b[39;00m \u001b[39mNone\u001b[39;00m:\n\u001b[1;32m   2302\u001b[0m             pad_inches \u001b[39m=\u001b[39m rcParams[\u001b[39m'\u001b[39m\u001b[39msavefig.pad_inches\u001b[39m\u001b[39m'\u001b[39m]\n",
      "File \u001b[0;32m~/miniconda3/envs/KalmanGW/lib/python3.10/site-packages/matplotlib/figure.py:1684\u001b[0m, in \u001b[0;36mFigureBase.get_tightbbox\u001b[0;34m(self, renderer, bbox_extra_artists)\u001b[0m\n\u001b[1;32m   1681\u001b[0m     artists \u001b[39m=\u001b[39m bbox_extra_artists\n\u001b[1;32m   1683\u001b[0m \u001b[39mfor\u001b[39;00m a \u001b[39min\u001b[39;00m artists:\n\u001b[0;32m-> 1684\u001b[0m     bbox \u001b[39m=\u001b[39m a\u001b[39m.\u001b[39;49mget_tightbbox(renderer)\n\u001b[1;32m   1685\u001b[0m     \u001b[39mif\u001b[39;00m bbox \u001b[39mis\u001b[39;00m \u001b[39mnot\u001b[39;00m \u001b[39mNone\u001b[39;00m \u001b[39mand\u001b[39;00m (bbox\u001b[39m.\u001b[39mwidth \u001b[39m!=\u001b[39m \u001b[39m0\u001b[39m \u001b[39mor\u001b[39;00m bbox\u001b[39m.\u001b[39mheight \u001b[39m!=\u001b[39m \u001b[39m0\u001b[39m):\n\u001b[1;32m   1686\u001b[0m         bb\u001b[39m.\u001b[39mappend(bbox)\n",
      "File \u001b[0;32m~/miniconda3/envs/KalmanGW/lib/python3.10/site-packages/matplotlib/axis.py:1103\u001b[0m, in \u001b[0;36mAxis.get_tightbbox\u001b[0;34m(self, renderer, for_layout_only)\u001b[0m\n\u001b[1;32m   1100\u001b[0m \u001b[39mif\u001b[39;00m \u001b[39mnot\u001b[39;00m \u001b[39mself\u001b[39m\u001b[39m.\u001b[39mget_visible():\n\u001b[1;32m   1101\u001b[0m     \u001b[39mreturn\u001b[39;00m\n\u001b[0;32m-> 1103\u001b[0m ticks_to_draw \u001b[39m=\u001b[39m \u001b[39mself\u001b[39;49m\u001b[39m.\u001b[39;49m_update_ticks()\n\u001b[1;32m   1105\u001b[0m \u001b[39mself\u001b[39m\u001b[39m.\u001b[39m_update_label_position(renderer)\n\u001b[1;32m   1107\u001b[0m \u001b[39m# go back to just this axis's tick labels\u001b[39;00m\n",
      "File \u001b[0;32m~/miniconda3/envs/KalmanGW/lib/python3.10/site-packages/matplotlib/axis.py:1045\u001b[0m, in \u001b[0;36mAxis._update_ticks\u001b[0;34m(self)\u001b[0m\n\u001b[1;32m   1040\u001b[0m \u001b[39mdef\u001b[39;00m \u001b[39m_update_ticks\u001b[39m(\u001b[39mself\u001b[39m):\n\u001b[1;32m   1041\u001b[0m     \u001b[39m\"\"\"\u001b[39;00m\n\u001b[1;32m   1042\u001b[0m \u001b[39m    Update ticks (position and labels) using the current data interval of\u001b[39;00m\n\u001b[1;32m   1043\u001b[0m \u001b[39m    the axes.  Return the list of ticks that will be drawn.\u001b[39;00m\n\u001b[1;32m   1044\u001b[0m \u001b[39m    \"\"\"\u001b[39;00m\n\u001b[0;32m-> 1045\u001b[0m     major_locs \u001b[39m=\u001b[39m \u001b[39mself\u001b[39;49m\u001b[39m.\u001b[39;49mget_majorticklocs()\n\u001b[1;32m   1046\u001b[0m     major_labels \u001b[39m=\u001b[39m \u001b[39mself\u001b[39m\u001b[39m.\u001b[39mmajor\u001b[39m.\u001b[39mformatter\u001b[39m.\u001b[39mformat_ticks(major_locs)\n\u001b[1;32m   1047\u001b[0m     major_ticks \u001b[39m=\u001b[39m \u001b[39mself\u001b[39m\u001b[39m.\u001b[39mget_major_ticks(\u001b[39mlen\u001b[39m(major_locs))\n",
      "File \u001b[0;32m~/miniconda3/envs/KalmanGW/lib/python3.10/site-packages/matplotlib/axis.py:1277\u001b[0m, in \u001b[0;36mAxis.get_majorticklocs\u001b[0;34m(self)\u001b[0m\n\u001b[1;32m   1275\u001b[0m \u001b[39mdef\u001b[39;00m \u001b[39mget_majorticklocs\u001b[39m(\u001b[39mself\u001b[39m):\n\u001b[1;32m   1276\u001b[0m     \u001b[39m\"\"\"Return this Axis' major tick locations in data coordinates.\"\"\"\u001b[39;00m\n\u001b[0;32m-> 1277\u001b[0m     \u001b[39mreturn\u001b[39;00m \u001b[39mself\u001b[39;49m\u001b[39m.\u001b[39;49mmajor\u001b[39m.\u001b[39;49mlocator()\n",
      "File \u001b[0;32m~/miniconda3/envs/KalmanGW/lib/python3.10/site-packages/matplotlib/ticker.py:2115\u001b[0m, in \u001b[0;36mMaxNLocator.__call__\u001b[0;34m(self)\u001b[0m\n\u001b[1;32m   2113\u001b[0m \u001b[39mdef\u001b[39;00m \u001b[39m__call__\u001b[39m(\u001b[39mself\u001b[39m):\n\u001b[1;32m   2114\u001b[0m     vmin, vmax \u001b[39m=\u001b[39m \u001b[39mself\u001b[39m\u001b[39m.\u001b[39maxis\u001b[39m.\u001b[39mget_view_interval()\n\u001b[0;32m-> 2115\u001b[0m     \u001b[39mreturn\u001b[39;00m \u001b[39mself\u001b[39;49m\u001b[39m.\u001b[39;49mtick_values(vmin, vmax)\n",
      "File \u001b[0;32m~/miniconda3/envs/KalmanGW/lib/python3.10/site-packages/matplotlib/ticker.py:2123\u001b[0m, in \u001b[0;36mMaxNLocator.tick_values\u001b[0;34m(self, vmin, vmax)\u001b[0m\n\u001b[1;32m   2120\u001b[0m     vmin \u001b[39m=\u001b[39m \u001b[39m-\u001b[39mvmax\n\u001b[1;32m   2121\u001b[0m vmin, vmax \u001b[39m=\u001b[39m mtransforms\u001b[39m.\u001b[39mnonsingular(\n\u001b[1;32m   2122\u001b[0m     vmin, vmax, expander\u001b[39m=\u001b[39m\u001b[39m1e-13\u001b[39m, tiny\u001b[39m=\u001b[39m\u001b[39m1e-14\u001b[39m)\n\u001b[0;32m-> 2123\u001b[0m locs \u001b[39m=\u001b[39m \u001b[39mself\u001b[39;49m\u001b[39m.\u001b[39;49m_raw_ticks(vmin, vmax)\n\u001b[1;32m   2125\u001b[0m prune \u001b[39m=\u001b[39m \u001b[39mself\u001b[39m\u001b[39m.\u001b[39m_prune\n\u001b[1;32m   2126\u001b[0m \u001b[39mif\u001b[39;00m prune \u001b[39m==\u001b[39m \u001b[39m'\u001b[39m\u001b[39mlower\u001b[39m\u001b[39m'\u001b[39m:\n",
      "File \u001b[0;32m~/miniconda3/envs/KalmanGW/lib/python3.10/site-packages/matplotlib/ticker.py:2062\u001b[0m, in \u001b[0;36mMaxNLocator._raw_ticks\u001b[0;34m(self, vmin, vmax)\u001b[0m\n\u001b[1;32m   2060\u001b[0m \u001b[39mif\u001b[39;00m \u001b[39mself\u001b[39m\u001b[39m.\u001b[39m_nbins \u001b[39m==\u001b[39m \u001b[39m'\u001b[39m\u001b[39mauto\u001b[39m\u001b[39m'\u001b[39m:\n\u001b[1;32m   2061\u001b[0m     \u001b[39mif\u001b[39;00m \u001b[39mself\u001b[39m\u001b[39m.\u001b[39maxis \u001b[39mis\u001b[39;00m \u001b[39mnot\u001b[39;00m \u001b[39mNone\u001b[39;00m:\n\u001b[0;32m-> 2062\u001b[0m         nbins \u001b[39m=\u001b[39m np\u001b[39m.\u001b[39mclip(\u001b[39mself\u001b[39;49m\u001b[39m.\u001b[39;49maxis\u001b[39m.\u001b[39;49mget_tick_space(),\n\u001b[1;32m   2063\u001b[0m                         \u001b[39mmax\u001b[39m(\u001b[39m1\u001b[39m, \u001b[39mself\u001b[39m\u001b[39m.\u001b[39m_min_n_ticks \u001b[39m-\u001b[39m \u001b[39m1\u001b[39m), \u001b[39m9\u001b[39m)\n\u001b[1;32m   2064\u001b[0m     \u001b[39melse\u001b[39;00m:\n\u001b[1;32m   2065\u001b[0m         nbins \u001b[39m=\u001b[39m \u001b[39m9\u001b[39m\n",
      "File \u001b[0;32m~/miniconda3/envs/KalmanGW/lib/python3.10/site-packages/matplotlib/axis.py:2265\u001b[0m, in \u001b[0;36mXAxis.get_tick_space\u001b[0;34m(self)\u001b[0m\n\u001b[1;32m   2262\u001b[0m length \u001b[39m=\u001b[39m ends\u001b[39m.\u001b[39mwidth \u001b[39m*\u001b[39m \u001b[39m72\u001b[39m\n\u001b[1;32m   2263\u001b[0m \u001b[39m# There is a heuristic here that the aspect ratio of tick text\u001b[39;00m\n\u001b[1;32m   2264\u001b[0m \u001b[39m# is no more than 3:1\u001b[39;00m\n\u001b[0;32m-> 2265\u001b[0m size \u001b[39m=\u001b[39m \u001b[39mself\u001b[39;49m\u001b[39m.\u001b[39;49m_get_tick_label_size(\u001b[39m'\u001b[39;49m\u001b[39mx\u001b[39;49m\u001b[39m'\u001b[39;49m) \u001b[39m*\u001b[39m \u001b[39m3\u001b[39m\n\u001b[1;32m   2266\u001b[0m \u001b[39mif\u001b[39;00m size \u001b[39m>\u001b[39m \u001b[39m0\u001b[39m:\n\u001b[1;32m   2267\u001b[0m     \u001b[39mreturn\u001b[39;00m \u001b[39mint\u001b[39m(np\u001b[39m.\u001b[39mfloor(length \u001b[39m/\u001b[39m size))\n",
      "File \u001b[0;32m~/miniconda3/envs/KalmanGW/lib/python3.10/site-packages/matplotlib/axis.py:1335\u001b[0m, in \u001b[0;36mAxis._get_tick_label_size\u001b[0;34m(self, axis_name)\u001b[0m\n\u001b[1;32m   1327\u001b[0m \u001b[39m\"\"\"\u001b[39;00m\n\u001b[1;32m   1328\u001b[0m \u001b[39mReturn the text size of tick labels for this Axis.\u001b[39;00m\n\u001b[1;32m   1329\u001b[0m \n\u001b[1;32m   1330\u001b[0m \u001b[39mThis is a convenience function to avoid having to create a `Tick` in\u001b[39;00m\n\u001b[1;32m   1331\u001b[0m \u001b[39m`.get_tick_space`, since it is expensive.\u001b[39;00m\n\u001b[1;32m   1332\u001b[0m \u001b[39m\"\"\"\u001b[39;00m\n\u001b[1;32m   1333\u001b[0m tick_kw \u001b[39m=\u001b[39m \u001b[39mself\u001b[39m\u001b[39m.\u001b[39m_major_tick_kw\n\u001b[1;32m   1334\u001b[0m size \u001b[39m=\u001b[39m tick_kw\u001b[39m.\u001b[39mget(\u001b[39m'\u001b[39m\u001b[39mlabelsize\u001b[39m\u001b[39m'\u001b[39m,\n\u001b[0;32m-> 1335\u001b[0m                    mpl\u001b[39m.\u001b[39;49mrcParams[\u001b[39mf\u001b[39;49m\u001b[39m'\u001b[39;49m\u001b[39m{\u001b[39;49;00maxis_name\u001b[39m}\u001b[39;49;00m\u001b[39mtick.labelsize\u001b[39;49m\u001b[39m'\u001b[39;49m])\n\u001b[1;32m   1336\u001b[0m \u001b[39mreturn\u001b[39;00m mtext\u001b[39m.\u001b[39mFontProperties(size\u001b[39m=\u001b[39msize)\u001b[39m.\u001b[39mget_size_in_points()\n",
      "File \u001b[0;32m~/miniconda3/envs/KalmanGW/lib/python3.10/site-packages/matplotlib/__init__.py:660\u001b[0m, in \u001b[0;36mRcParams.__getitem__\u001b[0;34m(self, key)\u001b[0m\n\u001b[1;32m    656\u001b[0m     _api\u001b[39m.\u001b[39mwarn_deprecated(\n\u001b[1;32m    657\u001b[0m         version, name\u001b[39m=\u001b[39mkey, obj_type\u001b[39m=\u001b[39m\u001b[39m\"\u001b[39m\u001b[39mrcparam\u001b[39m\u001b[39m\"\u001b[39m, alternative\u001b[39m=\u001b[39malt_key)\n\u001b[1;32m    658\u001b[0m     \u001b[39mreturn\u001b[39;00m inverse_alt(\u001b[39mdict\u001b[39m\u001b[39m.\u001b[39m\u001b[39m__getitem__\u001b[39m(\u001b[39mself\u001b[39m, alt_key))\n\u001b[0;32m--> 660\u001b[0m \u001b[39melif\u001b[39;00m key \u001b[39min\u001b[39;00m _deprecated_ignore_map:\n\u001b[1;32m    661\u001b[0m     version, alt_key \u001b[39m=\u001b[39m _deprecated_ignore_map[key]\n\u001b[1;32m    662\u001b[0m     _api\u001b[39m.\u001b[39mwarn_deprecated(\n\u001b[1;32m    663\u001b[0m         version, name\u001b[39m=\u001b[39mkey, obj_type\u001b[39m=\u001b[39m\u001b[39m\"\u001b[39m\u001b[39mrcparam\u001b[39m\u001b[39m\"\u001b[39m, alternative\u001b[39m=\u001b[39malt_key)\n",
      "\u001b[0;31mKeyboardInterrupt\u001b[0m: "
     ]
    }
   ],
   "source": [
    "from plotting import plot_custom_corner\n",
    "\n",
    "\n",
    "\n",
    "ranges = None \n",
    "labels = None\n",
    "axes_scales = None\n",
    "\n",
    "\n",
    "\n",
    "\n",
    "        \n",
    "omegas = np.array([5e-7,5e-7])\n",
    "phis= np.array([0.20,1.50])\n",
    "psis= np.array([2.50,0.35])\n",
    "iotas= np.array([1.0,1.0])\n",
    "deltas= np.array([1.0,0.70])\n",
    "alphas= np.array([1.0,1.30])\n",
    "hs   = np.array([5e-15,5e-15])\n",
    "injection_parameters = np.array([omegas,phis,psis,iotas,deltas,alphas,hs]).flatten()\n",
    "\n",
    "\n",
    "num = 2\n",
    "omegas = [f\"omega_gw_{i}\" for i in range(num)]\n",
    "phis   = [f\"phi0_gw_{i}\" for i in range(num)]\n",
    "psis   = [f\"psi_gw_{i}\" for i in range(num)]\n",
    "iotas  = [f\"iota_gw_{i}\" for i in range(num)]\n",
    "deltas = [f\"delta_gw_{i}\" for i in range(num)]\n",
    "alphas = [f\"alpha_gw_{i}\" for i in range(num)]\n",
    "hs     = [f\"h_{i}\" for i in range(num)]\n",
    "variables_to_plot = np.array([omegas,phis,psis,iotas,deltas,alphas,hs]).flatten()\n",
    "\n",
    "\n",
    "\n",
    "\n",
    "\n",
    "\n",
    "\n",
    "\n",
    "\n",
    "\n",
    "omegas_ranges = [(1e-7,9e-7) for i in range(num)]\n",
    "phis_ranges = [(1e-15,9e-15) for i in range(num)]\n",
    "psis_ranges = [(1e-15,9e-15) for i in range(num)]\n",
    "iotas_ranges = [(1e-15,9e-15) for i in range(num)]\n",
    "deltas_ranges = [(1e-15,9e-15) for i in range(num)]\n",
    "alphas_ranges = [(1e-15,9e-15) for i in range(num)]\n",
    "hs_ranges = [(1e-15,9e-15) for i in range(num)]\n",
    "ranges = np.array([omegas_ranges,phis_ranges,psis_ranges,iotas_ranges,deltas_ranges,alphas_ranges,hs_ranges])\n",
    "\n",
    "\n",
    "\n",
    "\n",
    "\n",
    "\n",
    "\n",
    "\n",
    "\n",
    "path = '../data/nested_sampling/new_quick_15_result.json'\n",
    "\n",
    "#Corner plot of GW parameters\n",
    "plot_custom_corner(path,\n",
    "                   np.array(variables_to_plot),\n",
    "                   labels,\n",
    "                   injection_parameters,\n",
    "                   ranges,\n",
    "                   axes_scales,\n",
    "                   savefig=None,\n",
    "                   smooth=True,smooth1d=True)\n",
    "\n"
   ]
  },
  {
   "cell_type": "code",
   "execution_count": 5,
   "metadata": {},
   "outputs": [
    {
     "data": {
      "text/plain": [
       "7"
      ]
     },
     "execution_count": 5,
     "metadata": {},
     "output_type": "execute_result"
    }
   ],
   "source": [
    "len(ranges)"
   ]
  },
  {
   "cell_type": "code",
   "execution_count": 8,
   "metadata": {},
   "outputs": [],
   "source": [
    "\n",
    "\n",
    "omegas_ranges = [(1e-7,9e-7) for i in range(num)]\n",
    "phis_ranges = [(1e-15,9e-15) for i in range(num)]\n",
    "psis_ranges = [(1e-15,9e-15) for i in range(num)]\n",
    "iotas_ranges = [(1e-15,9e-15) for i in range(num)]\n",
    "deltas_ranges = [(1e-15,9e-15) for i in range(num)]\n",
    "alphas_ranges = [(1e-15,9e-15) for i in range(num)]\n",
    "hs_ranges = [(1e-15,9e-15) for i in range(num)]\n",
    "ranges = np.array([omegas_ranges,phis_ranges,psis_ranges,iotas_ranges,deltas_ranges,alphas_ranges,hs_ranges]).flatten()\n",
    "\n"
   ]
  },
  {
   "cell_type": "code",
   "execution_count": 9,
   "metadata": {},
   "outputs": [
    {
     "data": {
      "text/plain": [
       "28"
      ]
     },
     "execution_count": 9,
     "metadata": {},
     "output_type": "execute_result"
    }
   ],
   "source": [
    "len(ranges)"
   ]
  },
  {
   "cell_type": "code",
   "execution_count": 13,
   "metadata": {},
   "outputs": [
    {
     "data": {
      "text/plain": [
       "(1e-07, 9e-07)"
      ]
     },
     "execution_count": 13,
     "metadata": {},
     "output_type": "execute_result"
    }
   ],
   "source": [
    "omegas_ranges[0]"
   ]
  },
  {
   "cell_type": "code",
   "execution_count": null,
   "metadata": {},
   "outputs": [],
   "source": []
  }
 ],
 "metadata": {
  "kernelspec": {
   "display_name": "KalmanGW",
   "language": "python",
   "name": "python3"
  },
  "language_info": {
   "codemirror_mode": {
    "name": "ipython",
    "version": 3
   },
   "file_extension": ".py",
   "mimetype": "text/x-python",
   "name": "python",
   "nbconvert_exporter": "python",
   "pygments_lexer": "ipython3",
   "version": "3.10.4"
  },
  "orig_nbformat": 4
 },
 "nbformat": 4,
 "nbformat_minor": 2
}
