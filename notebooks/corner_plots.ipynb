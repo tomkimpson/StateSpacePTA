{
 "cells": [
  {
   "cell_type": "code",
   "execution_count": null,
   "metadata": {},
   "outputs": [],
   "source": []
  },
  {
   "attachments": {},
   "cell_type": "markdown",
   "metadata": {},
   "source": [
    "## Custom plotting Bilby results\n",
    "\n",
    "\n",
    "This notebook plots the results from the Bilby sampler"
   ]
  },
  {
   "cell_type": "code",
   "execution_count": 1,
   "metadata": {},
   "outputs": [],
   "source": [
    "import json\n",
    "path = \"../data/nested_sampling/testrun1_result.json\"\n",
    "\n"
   ]
  },
  {
   "cell_type": "code",
   "execution_count": 2,
   "metadata": {},
   "outputs": [],
   "source": [
    "injection_parameters = dict(\n",
    "    omega_gw=5e-7,\n",
    "    phi0_gw=0.20,\n",
    "    psi_gw=2.50,\n",
    "    iota_gw=1.0,\n",
    "    delta_gw=1.0,\n",
    "    alpha_gw=1.0,\n",
    "    h=1e-2,\n",
    "    f0=327.8470205611185,\n",
    "    fdot=-1.227834e-15,\n",
    "    distance=181816860005.41092,\n",
    "    gamma=1e-13,\n",
    "    sigma_p=1e-8,\n",
    "    sigma_m=1e-08\n",
    ")"
   ]
  },
  {
   "cell_type": "code",
   "execution_count": 3,
   "metadata": {},
   "outputs": [
    {
     "data": {
      "text/plain": [
       "{'mass_1': 36.0,\n",
       " 'mass_2': 29.0,\n",
       " 'a_1': 0.4,\n",
       " 'a_2': 0.3,\n",
       " 'tilt_1': 0.5,\n",
       " 'tilt_2': 1.0,\n",
       " 'phi_12': 1.7,\n",
       " 'phi_jl': 0.3,\n",
       " 'luminosity_distance': 2000.0,\n",
       " 'theta_jn': 0.4,\n",
       " 'psi': 2.659,\n",
       " 'phase': 1.3,\n",
       " 'geocent_time': 1126259642.413,\n",
       " 'ra': 1.375,\n",
       " 'dec': -1.2108}"
      ]
     },
     "execution_count": 3,
     "metadata": {},
     "output_type": "execute_result"
    }
   ],
   "source": [
    "injection_parameters"
   ]
  },
  {
   "attachments": {},
   "cell_type": "markdown",
   "metadata": {},
   "source": [
    "samples = result.samples\n",
    "labels = result.parameter_labels\n",
    "fig = corner.corner(samples, labels=labels)\n",
    "plt.show()\n",
    "plt.close()"
   ]
  }
 ],
 "metadata": {
  "kernelspec": {
   "display_name": "KalmanGW",
   "language": "python",
   "name": "python3"
  },
  "language_info": {
   "codemirror_mode": {
    "name": "ipython",
    "version": 3
   },
   "file_extension": ".py",
   "mimetype": "text/x-python",
   "name": "python",
   "nbconvert_exporter": "python",
   "pygments_lexer": "ipython3",
   "version": "3.10.4"
  },
  "orig_nbformat": 4
 },
 "nbformat": 4,
 "nbformat_minor": 2
}
