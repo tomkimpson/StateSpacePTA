{
 "cells": [
  {
   "attachments": {},
   "cell_type": "markdown",
   "metadata": {},
   "source": [
    "## Custom plotting Bilby results\n",
    "\n",
    "\n",
    "This notebook plots the results from the Bilby sampler"
   ]
  },
  {
   "cell_type": "code",
   "execution_count": 116,
   "metadata": {},
   "outputs": [],
   "source": [
    "path = \"../data/nested_sampling/diagonal9_03_result.json\"\n",
    "path = \"../data/nested_sampling/original_params_w_alpha_result.json\"\n",
    "\n",
    "path = \"../data/nested_sampling/original_params_w_alpha_retry_result.json\"\n",
    "path = \"../data/nested_sampling/run_0304a_result.json\"\n",
    "\n",
    "#run_0304a"
   ]
  },
  {
   "cell_type": "code",
   "execution_count": 117,
   "metadata": {},
   "outputs": [],
   "source": [
    "import pandas as pd\n",
    "import json\n",
    "\n",
    "\n",
    "def analysis(path):\n",
    "\n",
    "    # Opening JSON file\n",
    "    f = open(path)\n",
    "  \n",
    "    # returns JSON object as \n",
    "    # a dictionary\n",
    "    data = json.load(f)\n",
    "\n",
    "    #Make the posterior a dataframe\n",
    "    df = pd.DataFrame(data[\"posterior\"][\"content\"])\n",
    "\n",
    "    #Surface median values\n",
    "    print(\"Number of posterior samples:\")\n",
    "    print(len(df))\n",
    "    print(\"Median values:\")\n",
    "    print(df.median())\n",
    "\n",
    "\n"
   ]
  },
  {
   "cell_type": "code",
   "execution_count": 118,
   "metadata": {},
   "outputs": [
    {
     "name": "stdout",
     "output_type": "stream",
     "text": [
      "Number of posterior samples:\n",
      "400\n",
      "Median values:\n",
      "omega_gw          1.553413e-09\n",
      "phi0_gw           3.361448e+00\n",
      "psi_gw            2.514578e-01\n",
      "alpha_gw          7.486528e-01\n",
      "h                 1.000000e+00\n",
      "                      ...     \n",
      "gamma46           1.000000e-13\n",
      "sigma_p           1.000000e-14\n",
      "sigma_m           1.000000e-10\n",
      "log_likelihood   -1.839921e+24\n",
      "log_prior                 -inf\n",
      "Length: 199, dtype: float64\n"
     ]
    }
   ],
   "source": [
    "\n",
    "analysis(path)"
   ]
  },
  {
   "cell_type": "code",
   "execution_count": 103,
   "metadata": {},
   "outputs": [],
   "source": [
    "\n",
    "df = pd.DataFrame(data[\"samples\"][\"content\"])#.to_numpy() #posterior\n",
    "\n",
    "y = df.to_numpy()\n",
    "y1 = df2.to_numpy()\n",
    "\n",
    "#df.columns\n",
    "#y.shape"
   ]
  },
  {
   "cell_type": "code",
   "execution_count": 104,
   "metadata": {},
   "outputs": [
    {
     "data": {
      "text/plain": [
       "400"
      ]
     },
     "execution_count": 104,
     "metadata": {},
     "output_type": "execute_result"
    }
   ],
   "source": [
    "len(y)"
   ]
  },
  {
   "cell_type": "code",
   "execution_count": 105,
   "metadata": {},
   "outputs": [
    {
     "data": {
      "text/plain": [
       "400"
      ]
     },
     "execution_count": 105,
     "metadata": {},
     "output_type": "execute_result"
    }
   ],
   "source": [
    "len(y1)"
   ]
  },
  {
   "cell_type": "code",
   "execution_count": 106,
   "metadata": {},
   "outputs": [
    {
     "data": {
      "text/html": [
       "<div>\n",
       "<style scoped>\n",
       "    .dataframe tbody tr th:only-of-type {\n",
       "        vertical-align: middle;\n",
       "    }\n",
       "\n",
       "    .dataframe tbody tr th {\n",
       "        vertical-align: top;\n",
       "    }\n",
       "\n",
       "    .dataframe thead th {\n",
       "        text-align: right;\n",
       "    }\n",
       "</style>\n",
       "<table border=\"1\" class=\"dataframe\">\n",
       "  <thead>\n",
       "    <tr style=\"text-align: right;\">\n",
       "      <th></th>\n",
       "      <th>omega_gw</th>\n",
       "      <th>phi0_gw</th>\n",
       "      <th>psi_gw</th>\n",
       "      <th>alpha_gw</th>\n",
       "      <th>h</th>\n",
       "      <th>iota_gw</th>\n",
       "      <th>delta_gw</th>\n",
       "      <th>f00</th>\n",
       "      <th>f01</th>\n",
       "      <th>f02</th>\n",
       "      <th>...</th>\n",
       "      <th>gamma41</th>\n",
       "      <th>gamma42</th>\n",
       "      <th>gamma43</th>\n",
       "      <th>gamma44</th>\n",
       "      <th>gamma45</th>\n",
       "      <th>gamma46</th>\n",
       "      <th>sigma_p</th>\n",
       "      <th>sigma_m</th>\n",
       "      <th>log_likelihood</th>\n",
       "      <th>log_prior</th>\n",
       "    </tr>\n",
       "  </thead>\n",
       "  <tbody>\n",
       "    <tr>\n",
       "      <th>0</th>\n",
       "      <td>1.553413e-09</td>\n",
       "      <td>0.219855</td>\n",
       "      <td>1.822254</td>\n",
       "      <td>0.748653</td>\n",
       "      <td>1.0</td>\n",
       "      <td>0.4</td>\n",
       "      <td>0.0</td>\n",
       "      <td>327.847021</td>\n",
       "      <td>205.530699</td>\n",
       "      <td>303.090979</td>\n",
       "      <td>...</td>\n",
       "      <td>1.000000e-13</td>\n",
       "      <td>1.000000e-13</td>\n",
       "      <td>1.000000e-13</td>\n",
       "      <td>1.000000e-13</td>\n",
       "      <td>1.000000e-13</td>\n",
       "      <td>1.000000e-13</td>\n",
       "      <td>1.000000e-14</td>\n",
       "      <td>1.000000e-10</td>\n",
       "      <td>-1.839921e+24</td>\n",
       "      <td>-inf</td>\n",
       "    </tr>\n",
       "    <tr>\n",
       "      <th>1</th>\n",
       "      <td>1.553413e-09</td>\n",
       "      <td>0.219855</td>\n",
       "      <td>1.822254</td>\n",
       "      <td>0.748653</td>\n",
       "      <td>1.0</td>\n",
       "      <td>0.4</td>\n",
       "      <td>0.0</td>\n",
       "      <td>327.847021</td>\n",
       "      <td>205.530699</td>\n",
       "      <td>303.090979</td>\n",
       "      <td>...</td>\n",
       "      <td>1.000000e-13</td>\n",
       "      <td>1.000000e-13</td>\n",
       "      <td>1.000000e-13</td>\n",
       "      <td>1.000000e-13</td>\n",
       "      <td>1.000000e-13</td>\n",
       "      <td>1.000000e-13</td>\n",
       "      <td>1.000000e-14</td>\n",
       "      <td>1.000000e-10</td>\n",
       "      <td>-1.839921e+24</td>\n",
       "      <td>-inf</td>\n",
       "    </tr>\n",
       "    <tr>\n",
       "      <th>2</th>\n",
       "      <td>1.553413e-09</td>\n",
       "      <td>0.219855</td>\n",
       "      <td>1.822254</td>\n",
       "      <td>0.748653</td>\n",
       "      <td>1.0</td>\n",
       "      <td>0.4</td>\n",
       "      <td>0.0</td>\n",
       "      <td>327.847021</td>\n",
       "      <td>205.530699</td>\n",
       "      <td>303.090979</td>\n",
       "      <td>...</td>\n",
       "      <td>1.000000e-13</td>\n",
       "      <td>1.000000e-13</td>\n",
       "      <td>1.000000e-13</td>\n",
       "      <td>1.000000e-13</td>\n",
       "      <td>1.000000e-13</td>\n",
       "      <td>1.000000e-13</td>\n",
       "      <td>1.000000e-14</td>\n",
       "      <td>1.000000e-10</td>\n",
       "      <td>-1.839921e+24</td>\n",
       "      <td>-inf</td>\n",
       "    </tr>\n",
       "    <tr>\n",
       "      <th>3</th>\n",
       "      <td>1.553413e-09</td>\n",
       "      <td>0.219855</td>\n",
       "      <td>1.822254</td>\n",
       "      <td>0.748653</td>\n",
       "      <td>1.0</td>\n",
       "      <td>0.4</td>\n",
       "      <td>0.0</td>\n",
       "      <td>327.847021</td>\n",
       "      <td>205.530699</td>\n",
       "      <td>303.090979</td>\n",
       "      <td>...</td>\n",
       "      <td>1.000000e-13</td>\n",
       "      <td>1.000000e-13</td>\n",
       "      <td>1.000000e-13</td>\n",
       "      <td>1.000000e-13</td>\n",
       "      <td>1.000000e-13</td>\n",
       "      <td>1.000000e-13</td>\n",
       "      <td>1.000000e-14</td>\n",
       "      <td>1.000000e-10</td>\n",
       "      <td>-1.839921e+24</td>\n",
       "      <td>-inf</td>\n",
       "    </tr>\n",
       "    <tr>\n",
       "      <th>4</th>\n",
       "      <td>1.553413e-09</td>\n",
       "      <td>0.219855</td>\n",
       "      <td>1.822254</td>\n",
       "      <td>0.748653</td>\n",
       "      <td>1.0</td>\n",
       "      <td>0.4</td>\n",
       "      <td>0.0</td>\n",
       "      <td>327.847021</td>\n",
       "      <td>205.530699</td>\n",
       "      <td>303.090979</td>\n",
       "      <td>...</td>\n",
       "      <td>1.000000e-13</td>\n",
       "      <td>1.000000e-13</td>\n",
       "      <td>1.000000e-13</td>\n",
       "      <td>1.000000e-13</td>\n",
       "      <td>1.000000e-13</td>\n",
       "      <td>1.000000e-13</td>\n",
       "      <td>1.000000e-14</td>\n",
       "      <td>1.000000e-10</td>\n",
       "      <td>-1.839921e+24</td>\n",
       "      <td>-inf</td>\n",
       "    </tr>\n",
       "    <tr>\n",
       "      <th>...</th>\n",
       "      <td>...</td>\n",
       "      <td>...</td>\n",
       "      <td>...</td>\n",
       "      <td>...</td>\n",
       "      <td>...</td>\n",
       "      <td>...</td>\n",
       "      <td>...</td>\n",
       "      <td>...</td>\n",
       "      <td>...</td>\n",
       "      <td>...</td>\n",
       "      <td>...</td>\n",
       "      <td>...</td>\n",
       "      <td>...</td>\n",
       "      <td>...</td>\n",
       "      <td>...</td>\n",
       "      <td>...</td>\n",
       "      <td>...</td>\n",
       "      <td>...</td>\n",
       "      <td>...</td>\n",
       "      <td>...</td>\n",
       "      <td>...</td>\n",
       "    </tr>\n",
       "    <tr>\n",
       "      <th>395</th>\n",
       "      <td>1.553413e-09</td>\n",
       "      <td>0.219855</td>\n",
       "      <td>1.822254</td>\n",
       "      <td>0.748653</td>\n",
       "      <td>1.0</td>\n",
       "      <td>0.4</td>\n",
       "      <td>0.0</td>\n",
       "      <td>327.847021</td>\n",
       "      <td>205.530699</td>\n",
       "      <td>303.090979</td>\n",
       "      <td>...</td>\n",
       "      <td>1.000000e-13</td>\n",
       "      <td>1.000000e-13</td>\n",
       "      <td>1.000000e-13</td>\n",
       "      <td>1.000000e-13</td>\n",
       "      <td>1.000000e-13</td>\n",
       "      <td>1.000000e-13</td>\n",
       "      <td>1.000000e-14</td>\n",
       "      <td>1.000000e-10</td>\n",
       "      <td>-1.839921e+24</td>\n",
       "      <td>-inf</td>\n",
       "    </tr>\n",
       "    <tr>\n",
       "      <th>396</th>\n",
       "      <td>1.553413e-09</td>\n",
       "      <td>0.219855</td>\n",
       "      <td>1.822254</td>\n",
       "      <td>0.748653</td>\n",
       "      <td>1.0</td>\n",
       "      <td>0.4</td>\n",
       "      <td>0.0</td>\n",
       "      <td>327.847021</td>\n",
       "      <td>205.530699</td>\n",
       "      <td>303.090979</td>\n",
       "      <td>...</td>\n",
       "      <td>1.000000e-13</td>\n",
       "      <td>1.000000e-13</td>\n",
       "      <td>1.000000e-13</td>\n",
       "      <td>1.000000e-13</td>\n",
       "      <td>1.000000e-13</td>\n",
       "      <td>1.000000e-13</td>\n",
       "      <td>1.000000e-14</td>\n",
       "      <td>1.000000e-10</td>\n",
       "      <td>-1.839921e+24</td>\n",
       "      <td>-inf</td>\n",
       "    </tr>\n",
       "    <tr>\n",
       "      <th>397</th>\n",
       "      <td>1.553413e-09</td>\n",
       "      <td>0.219855</td>\n",
       "      <td>1.822254</td>\n",
       "      <td>0.748653</td>\n",
       "      <td>1.0</td>\n",
       "      <td>0.4</td>\n",
       "      <td>0.0</td>\n",
       "      <td>327.847021</td>\n",
       "      <td>205.530699</td>\n",
       "      <td>303.090979</td>\n",
       "      <td>...</td>\n",
       "      <td>1.000000e-13</td>\n",
       "      <td>1.000000e-13</td>\n",
       "      <td>1.000000e-13</td>\n",
       "      <td>1.000000e-13</td>\n",
       "      <td>1.000000e-13</td>\n",
       "      <td>1.000000e-13</td>\n",
       "      <td>1.000000e-14</td>\n",
       "      <td>1.000000e-10</td>\n",
       "      <td>-1.839921e+24</td>\n",
       "      <td>-inf</td>\n",
       "    </tr>\n",
       "    <tr>\n",
       "      <th>398</th>\n",
       "      <td>1.553413e-09</td>\n",
       "      <td>0.219855</td>\n",
       "      <td>1.822254</td>\n",
       "      <td>0.748653</td>\n",
       "      <td>1.0</td>\n",
       "      <td>0.4</td>\n",
       "      <td>0.0</td>\n",
       "      <td>327.847021</td>\n",
       "      <td>205.530699</td>\n",
       "      <td>303.090979</td>\n",
       "      <td>...</td>\n",
       "      <td>1.000000e-13</td>\n",
       "      <td>1.000000e-13</td>\n",
       "      <td>1.000000e-13</td>\n",
       "      <td>1.000000e-13</td>\n",
       "      <td>1.000000e-13</td>\n",
       "      <td>1.000000e-13</td>\n",
       "      <td>1.000000e-14</td>\n",
       "      <td>1.000000e-10</td>\n",
       "      <td>-1.839921e+24</td>\n",
       "      <td>-inf</td>\n",
       "    </tr>\n",
       "    <tr>\n",
       "      <th>399</th>\n",
       "      <td>1.553413e-09</td>\n",
       "      <td>0.219855</td>\n",
       "      <td>1.822254</td>\n",
       "      <td>0.748653</td>\n",
       "      <td>1.0</td>\n",
       "      <td>0.4</td>\n",
       "      <td>0.0</td>\n",
       "      <td>327.847021</td>\n",
       "      <td>205.530699</td>\n",
       "      <td>303.090979</td>\n",
       "      <td>...</td>\n",
       "      <td>1.000000e-13</td>\n",
       "      <td>1.000000e-13</td>\n",
       "      <td>1.000000e-13</td>\n",
       "      <td>1.000000e-13</td>\n",
       "      <td>1.000000e-13</td>\n",
       "      <td>1.000000e-13</td>\n",
       "      <td>1.000000e-14</td>\n",
       "      <td>1.000000e-10</td>\n",
       "      <td>-1.839921e+24</td>\n",
       "      <td>-inf</td>\n",
       "    </tr>\n",
       "  </tbody>\n",
       "</table>\n",
       "<p>400 rows × 199 columns</p>\n",
       "</div>"
      ],
      "text/plain": [
       "         omega_gw   phi0_gw    psi_gw  alpha_gw    h  iota_gw  delta_gw  \\\n",
       "0    1.553413e-09  0.219855  1.822254  0.748653  1.0      0.4       0.0   \n",
       "1    1.553413e-09  0.219855  1.822254  0.748653  1.0      0.4       0.0   \n",
       "2    1.553413e-09  0.219855  1.822254  0.748653  1.0      0.4       0.0   \n",
       "3    1.553413e-09  0.219855  1.822254  0.748653  1.0      0.4       0.0   \n",
       "4    1.553413e-09  0.219855  1.822254  0.748653  1.0      0.4       0.0   \n",
       "..            ...       ...       ...       ...  ...      ...       ...   \n",
       "395  1.553413e-09  0.219855  1.822254  0.748653  1.0      0.4       0.0   \n",
       "396  1.553413e-09  0.219855  1.822254  0.748653  1.0      0.4       0.0   \n",
       "397  1.553413e-09  0.219855  1.822254  0.748653  1.0      0.4       0.0   \n",
       "398  1.553413e-09  0.219855  1.822254  0.748653  1.0      0.4       0.0   \n",
       "399  1.553413e-09  0.219855  1.822254  0.748653  1.0      0.4       0.0   \n",
       "\n",
       "            f00         f01         f02  ...       gamma41       gamma42  \\\n",
       "0    327.847021  205.530699  303.090979  ...  1.000000e-13  1.000000e-13   \n",
       "1    327.847021  205.530699  303.090979  ...  1.000000e-13  1.000000e-13   \n",
       "2    327.847021  205.530699  303.090979  ...  1.000000e-13  1.000000e-13   \n",
       "3    327.847021  205.530699  303.090979  ...  1.000000e-13  1.000000e-13   \n",
       "4    327.847021  205.530699  303.090979  ...  1.000000e-13  1.000000e-13   \n",
       "..          ...         ...         ...  ...           ...           ...   \n",
       "395  327.847021  205.530699  303.090979  ...  1.000000e-13  1.000000e-13   \n",
       "396  327.847021  205.530699  303.090979  ...  1.000000e-13  1.000000e-13   \n",
       "397  327.847021  205.530699  303.090979  ...  1.000000e-13  1.000000e-13   \n",
       "398  327.847021  205.530699  303.090979  ...  1.000000e-13  1.000000e-13   \n",
       "399  327.847021  205.530699  303.090979  ...  1.000000e-13  1.000000e-13   \n",
       "\n",
       "          gamma43       gamma44       gamma45       gamma46       sigma_p  \\\n",
       "0    1.000000e-13  1.000000e-13  1.000000e-13  1.000000e-13  1.000000e-14   \n",
       "1    1.000000e-13  1.000000e-13  1.000000e-13  1.000000e-13  1.000000e-14   \n",
       "2    1.000000e-13  1.000000e-13  1.000000e-13  1.000000e-13  1.000000e-14   \n",
       "3    1.000000e-13  1.000000e-13  1.000000e-13  1.000000e-13  1.000000e-14   \n",
       "4    1.000000e-13  1.000000e-13  1.000000e-13  1.000000e-13  1.000000e-14   \n",
       "..            ...           ...           ...           ...           ...   \n",
       "395  1.000000e-13  1.000000e-13  1.000000e-13  1.000000e-13  1.000000e-14   \n",
       "396  1.000000e-13  1.000000e-13  1.000000e-13  1.000000e-13  1.000000e-14   \n",
       "397  1.000000e-13  1.000000e-13  1.000000e-13  1.000000e-13  1.000000e-14   \n",
       "398  1.000000e-13  1.000000e-13  1.000000e-13  1.000000e-13  1.000000e-14   \n",
       "399  1.000000e-13  1.000000e-13  1.000000e-13  1.000000e-13  1.000000e-14   \n",
       "\n",
       "          sigma_m  log_likelihood  log_prior  \n",
       "0    1.000000e-10   -1.839921e+24       -inf  \n",
       "1    1.000000e-10   -1.839921e+24       -inf  \n",
       "2    1.000000e-10   -1.839921e+24       -inf  \n",
       "3    1.000000e-10   -1.839921e+24       -inf  \n",
       "4    1.000000e-10   -1.839921e+24       -inf  \n",
       "..            ...             ...        ...  \n",
       "395  1.000000e-10   -1.839921e+24       -inf  \n",
       "396  1.000000e-10   -1.839921e+24       -inf  \n",
       "397  1.000000e-10   -1.839921e+24       -inf  \n",
       "398  1.000000e-10   -1.839921e+24       -inf  \n",
       "399  1.000000e-10   -1.839921e+24       -inf  \n",
       "\n",
       "[400 rows x 199 columns]"
      ]
     },
     "execution_count": 106,
     "metadata": {},
     "output_type": "execute_result"
    }
   ],
   "source": [
    "df2"
   ]
  },
  {
   "cell_type": "code",
   "execution_count": 107,
   "metadata": {},
   "outputs": [
    {
     "data": {
      "text/plain": [
       "1.0"
      ]
     },
     "execution_count": 107,
     "metadata": {},
     "output_type": "execute_result"
    }
   ],
   "source": [
    "import numpy as np \n",
    "np.cos(df2[\"delta_gw\"].median()) #.median()\n"
   ]
  },
  {
   "cell_type": "code",
   "execution_count": 108,
   "metadata": {},
   "outputs": [
    {
     "data": {
      "text/plain": [
       "0.0"
      ]
     },
     "execution_count": 108,
     "metadata": {},
     "output_type": "execute_result"
    }
   ],
   "source": [
    "df2[\"delta_gw\"].median() #.median()\n"
   ]
  },
  {
   "cell_type": "code",
   "execution_count": 109,
   "metadata": {},
   "outputs": [
    {
     "data": {
      "text/plain": [
       "4.942737501384785e-32"
      ]
     },
     "execution_count": 109,
     "metadata": {},
     "output_type": "execute_result"
    }
   ],
   "source": [
    "df2[\"h\"].var()\n"
   ]
  },
  {
   "cell_type": "code",
   "execution_count": 100,
   "metadata": {},
   "outputs": [
    {
     "data": {
      "text/plain": [
       "omega_gw          1.123250e-44\n",
       "phi0_gw           2.472114e+00\n",
       "psi_gw            6.180286e-01\n",
       "alpha_gw          1.166954e-33\n",
       "h                 1.222778e-28\n",
       "                      ...     \n",
       "gamma46           1.596234e-58\n",
       "sigma_p           2.494116e-60\n",
       "sigma_m           0.000000e+00\n",
       "log_likelihood    1.921576e+00\n",
       "log_prior         1.222767e-24\n",
       "Length: 199, dtype: float64"
      ]
     },
     "execution_count": 100,
     "metadata": {},
     "output_type": "execute_result"
    }
   ],
   "source": [
    "df2.var()"
   ]
  },
  {
   "cell_type": "code",
   "execution_count": 101,
   "metadata": {},
   "outputs": [
    {
     "data": {
      "text/plain": [
       "4.999999999999999e-07"
      ]
     },
     "execution_count": 101,
     "metadata": {},
     "output_type": "execute_result"
    }
   ],
   "source": [
    "df2[\"omega_gw\"].max()"
   ]
  },
  {
   "cell_type": "code",
   "execution_count": 90,
   "metadata": {},
   "outputs": [
    {
     "data": {
      "text/plain": [
       "4.999999999999999e-07"
      ]
     },
     "execution_count": 90,
     "metadata": {},
     "output_type": "execute_result"
    }
   ],
   "source": [
    "df2[\"omega_gw\"].min()"
   ]
  },
  {
   "cell_type": "code",
   "execution_count": 91,
   "metadata": {},
   "outputs": [
    {
     "data": {
      "text/plain": [
       "4.999999999999999e-07"
      ]
     },
     "execution_count": 91,
     "metadata": {},
     "output_type": "execute_result"
    }
   ],
   "source": [
    "df2[\"omega_gw\"].median()\n"
   ]
  },
  {
   "cell_type": "code",
   "execution_count": 74,
   "metadata": {},
   "outputs": [],
   "source": [
    "y  = df2[[\"phi0_gw\"]]"
   ]
  },
  {
   "cell_type": "code",
   "execution_count": 75,
   "metadata": {},
   "outputs": [
    {
     "data": {
      "text/html": [
       "<div>\n",
       "<style scoped>\n",
       "    .dataframe tbody tr th:only-of-type {\n",
       "        vertical-align: middle;\n",
       "    }\n",
       "\n",
       "    .dataframe tbody tr th {\n",
       "        vertical-align: top;\n",
       "    }\n",
       "\n",
       "    .dataframe thead th {\n",
       "        text-align: right;\n",
       "    }\n",
       "</style>\n",
       "<table border=\"1\" class=\"dataframe\">\n",
       "  <thead>\n",
       "    <tr style=\"text-align: right;\">\n",
       "      <th></th>\n",
       "      <th>phi0_gw</th>\n",
       "    </tr>\n",
       "  </thead>\n",
       "  <tbody>\n",
       "    <tr>\n",
       "      <th>0</th>\n",
       "      <td>3.300862</td>\n",
       "    </tr>\n",
       "    <tr>\n",
       "      <th>1</th>\n",
       "      <td>3.300862</td>\n",
       "    </tr>\n",
       "    <tr>\n",
       "      <th>2</th>\n",
       "      <td>3.300862</td>\n",
       "    </tr>\n",
       "    <tr>\n",
       "      <th>3</th>\n",
       "      <td>3.300862</td>\n",
       "    </tr>\n",
       "    <tr>\n",
       "      <th>4</th>\n",
       "      <td>3.300862</td>\n",
       "    </tr>\n",
       "    <tr>\n",
       "      <th>...</th>\n",
       "      <td>...</td>\n",
       "    </tr>\n",
       "    <tr>\n",
       "      <th>395</th>\n",
       "      <td>3.300862</td>\n",
       "    </tr>\n",
       "    <tr>\n",
       "      <th>396</th>\n",
       "      <td>3.300862</td>\n",
       "    </tr>\n",
       "    <tr>\n",
       "      <th>397</th>\n",
       "      <td>3.300862</td>\n",
       "    </tr>\n",
       "    <tr>\n",
       "      <th>398</th>\n",
       "      <td>3.300862</td>\n",
       "    </tr>\n",
       "    <tr>\n",
       "      <th>399</th>\n",
       "      <td>3.300862</td>\n",
       "    </tr>\n",
       "  </tbody>\n",
       "</table>\n",
       "<p>400 rows × 1 columns</p>\n",
       "</div>"
      ],
      "text/plain": [
       "      phi0_gw\n",
       "0    3.300862\n",
       "1    3.300862\n",
       "2    3.300862\n",
       "3    3.300862\n",
       "4    3.300862\n",
       "..        ...\n",
       "395  3.300862\n",
       "396  3.300862\n",
       "397  3.300862\n",
       "398  3.300862\n",
       "399  3.300862\n",
       "\n",
       "[400 rows x 1 columns]"
      ]
     },
     "execution_count": 75,
     "metadata": {},
     "output_type": "execute_result"
    }
   ],
   "source": [
    "y"
   ]
  },
  {
   "cell_type": "code",
   "execution_count": 76,
   "metadata": {},
   "outputs": [
    {
     "data": {
      "text/html": [
       "<div>\n",
       "<style scoped>\n",
       "    .dataframe tbody tr th:only-of-type {\n",
       "        vertical-align: middle;\n",
       "    }\n",
       "\n",
       "    .dataframe tbody tr th {\n",
       "        vertical-align: top;\n",
       "    }\n",
       "\n",
       "    .dataframe thead th {\n",
       "        text-align: right;\n",
       "    }\n",
       "</style>\n",
       "<table border=\"1\" class=\"dataframe\">\n",
       "  <thead>\n",
       "    <tr style=\"text-align: right;\">\n",
       "      <th></th>\n",
       "      <th>omega_gw</th>\n",
       "      <th>phi0_gw</th>\n",
       "      <th>psi_gw</th>\n",
       "      <th>delta_gw</th>\n",
       "      <th>alpha_gw</th>\n",
       "      <th>h</th>\n",
       "      <th>iota_gw</th>\n",
       "      <th>f00</th>\n",
       "      <th>f01</th>\n",
       "      <th>f02</th>\n",
       "      <th>...</th>\n",
       "      <th>gamma41</th>\n",
       "      <th>gamma42</th>\n",
       "      <th>gamma43</th>\n",
       "      <th>gamma44</th>\n",
       "      <th>gamma45</th>\n",
       "      <th>gamma46</th>\n",
       "      <th>sigma_p</th>\n",
       "      <th>sigma_m</th>\n",
       "      <th>log_likelihood</th>\n",
       "      <th>log_prior</th>\n",
       "    </tr>\n",
       "  </thead>\n",
       "  <tbody>\n",
       "    <tr>\n",
       "      <th>0</th>\n",
       "      <td>1.213625e-09</td>\n",
       "      <td>3.300862</td>\n",
       "      <td>0.248358</td>\n",
       "      <td>2.939433</td>\n",
       "      <td>4.009831</td>\n",
       "      <td>1.0</td>\n",
       "      <td>0.4</td>\n",
       "      <td>327.847021</td>\n",
       "      <td>205.530699</td>\n",
       "      <td>303.090979</td>\n",
       "      <td>...</td>\n",
       "      <td>1.000000e-13</td>\n",
       "      <td>1.000000e-13</td>\n",
       "      <td>1.000000e-13</td>\n",
       "      <td>1.000000e-13</td>\n",
       "      <td>1.000000e-13</td>\n",
       "      <td>1.000000e-13</td>\n",
       "      <td>1.000000e-14</td>\n",
       "      <td>1.000000e-10</td>\n",
       "      <td>-1.759132e+24</td>\n",
       "      <td>-inf</td>\n",
       "    </tr>\n",
       "    <tr>\n",
       "      <th>1</th>\n",
       "      <td>1.213625e-09</td>\n",
       "      <td>3.300862</td>\n",
       "      <td>0.248358</td>\n",
       "      <td>2.939433</td>\n",
       "      <td>4.009831</td>\n",
       "      <td>1.0</td>\n",
       "      <td>0.4</td>\n",
       "      <td>327.847021</td>\n",
       "      <td>205.530699</td>\n",
       "      <td>303.090979</td>\n",
       "      <td>...</td>\n",
       "      <td>1.000000e-13</td>\n",
       "      <td>1.000000e-13</td>\n",
       "      <td>1.000000e-13</td>\n",
       "      <td>1.000000e-13</td>\n",
       "      <td>1.000000e-13</td>\n",
       "      <td>1.000000e-13</td>\n",
       "      <td>1.000000e-14</td>\n",
       "      <td>1.000000e-10</td>\n",
       "      <td>-1.759132e+24</td>\n",
       "      <td>-inf</td>\n",
       "    </tr>\n",
       "    <tr>\n",
       "      <th>2</th>\n",
       "      <td>1.213625e-09</td>\n",
       "      <td>3.300862</td>\n",
       "      <td>0.248358</td>\n",
       "      <td>2.939433</td>\n",
       "      <td>4.009831</td>\n",
       "      <td>1.0</td>\n",
       "      <td>0.4</td>\n",
       "      <td>327.847021</td>\n",
       "      <td>205.530699</td>\n",
       "      <td>303.090979</td>\n",
       "      <td>...</td>\n",
       "      <td>1.000000e-13</td>\n",
       "      <td>1.000000e-13</td>\n",
       "      <td>1.000000e-13</td>\n",
       "      <td>1.000000e-13</td>\n",
       "      <td>1.000000e-13</td>\n",
       "      <td>1.000000e-13</td>\n",
       "      <td>1.000000e-14</td>\n",
       "      <td>1.000000e-10</td>\n",
       "      <td>-1.759132e+24</td>\n",
       "      <td>-inf</td>\n",
       "    </tr>\n",
       "    <tr>\n",
       "      <th>3</th>\n",
       "      <td>1.213625e-09</td>\n",
       "      <td>3.300862</td>\n",
       "      <td>0.248358</td>\n",
       "      <td>2.939433</td>\n",
       "      <td>4.009831</td>\n",
       "      <td>1.0</td>\n",
       "      <td>0.4</td>\n",
       "      <td>327.847021</td>\n",
       "      <td>205.530699</td>\n",
       "      <td>303.090979</td>\n",
       "      <td>...</td>\n",
       "      <td>1.000000e-13</td>\n",
       "      <td>1.000000e-13</td>\n",
       "      <td>1.000000e-13</td>\n",
       "      <td>1.000000e-13</td>\n",
       "      <td>1.000000e-13</td>\n",
       "      <td>1.000000e-13</td>\n",
       "      <td>1.000000e-14</td>\n",
       "      <td>1.000000e-10</td>\n",
       "      <td>-1.759132e+24</td>\n",
       "      <td>-inf</td>\n",
       "    </tr>\n",
       "    <tr>\n",
       "      <th>4</th>\n",
       "      <td>1.213625e-09</td>\n",
       "      <td>3.300862</td>\n",
       "      <td>0.248358</td>\n",
       "      <td>2.939433</td>\n",
       "      <td>4.009831</td>\n",
       "      <td>1.0</td>\n",
       "      <td>0.4</td>\n",
       "      <td>327.847021</td>\n",
       "      <td>205.530699</td>\n",
       "      <td>303.090979</td>\n",
       "      <td>...</td>\n",
       "      <td>1.000000e-13</td>\n",
       "      <td>1.000000e-13</td>\n",
       "      <td>1.000000e-13</td>\n",
       "      <td>1.000000e-13</td>\n",
       "      <td>1.000000e-13</td>\n",
       "      <td>1.000000e-13</td>\n",
       "      <td>1.000000e-14</td>\n",
       "      <td>1.000000e-10</td>\n",
       "      <td>-1.759132e+24</td>\n",
       "      <td>-inf</td>\n",
       "    </tr>\n",
       "    <tr>\n",
       "      <th>...</th>\n",
       "      <td>...</td>\n",
       "      <td>...</td>\n",
       "      <td>...</td>\n",
       "      <td>...</td>\n",
       "      <td>...</td>\n",
       "      <td>...</td>\n",
       "      <td>...</td>\n",
       "      <td>...</td>\n",
       "      <td>...</td>\n",
       "      <td>...</td>\n",
       "      <td>...</td>\n",
       "      <td>...</td>\n",
       "      <td>...</td>\n",
       "      <td>...</td>\n",
       "      <td>...</td>\n",
       "      <td>...</td>\n",
       "      <td>...</td>\n",
       "      <td>...</td>\n",
       "      <td>...</td>\n",
       "      <td>...</td>\n",
       "      <td>...</td>\n",
       "    </tr>\n",
       "    <tr>\n",
       "      <th>395</th>\n",
       "      <td>1.213625e-09</td>\n",
       "      <td>3.300862</td>\n",
       "      <td>0.248358</td>\n",
       "      <td>2.939433</td>\n",
       "      <td>4.009831</td>\n",
       "      <td>1.0</td>\n",
       "      <td>0.4</td>\n",
       "      <td>327.847021</td>\n",
       "      <td>205.530699</td>\n",
       "      <td>303.090979</td>\n",
       "      <td>...</td>\n",
       "      <td>1.000000e-13</td>\n",
       "      <td>1.000000e-13</td>\n",
       "      <td>1.000000e-13</td>\n",
       "      <td>1.000000e-13</td>\n",
       "      <td>1.000000e-13</td>\n",
       "      <td>1.000000e-13</td>\n",
       "      <td>1.000000e-14</td>\n",
       "      <td>1.000000e-10</td>\n",
       "      <td>-1.759132e+24</td>\n",
       "      <td>-inf</td>\n",
       "    </tr>\n",
       "    <tr>\n",
       "      <th>396</th>\n",
       "      <td>1.213625e-09</td>\n",
       "      <td>3.300862</td>\n",
       "      <td>0.248358</td>\n",
       "      <td>2.939433</td>\n",
       "      <td>4.009831</td>\n",
       "      <td>1.0</td>\n",
       "      <td>0.4</td>\n",
       "      <td>327.847021</td>\n",
       "      <td>205.530699</td>\n",
       "      <td>303.090979</td>\n",
       "      <td>...</td>\n",
       "      <td>1.000000e-13</td>\n",
       "      <td>1.000000e-13</td>\n",
       "      <td>1.000000e-13</td>\n",
       "      <td>1.000000e-13</td>\n",
       "      <td>1.000000e-13</td>\n",
       "      <td>1.000000e-13</td>\n",
       "      <td>1.000000e-14</td>\n",
       "      <td>1.000000e-10</td>\n",
       "      <td>-1.759132e+24</td>\n",
       "      <td>-inf</td>\n",
       "    </tr>\n",
       "    <tr>\n",
       "      <th>397</th>\n",
       "      <td>1.213625e-09</td>\n",
       "      <td>3.300862</td>\n",
       "      <td>0.248358</td>\n",
       "      <td>2.939433</td>\n",
       "      <td>4.009831</td>\n",
       "      <td>1.0</td>\n",
       "      <td>0.4</td>\n",
       "      <td>327.847021</td>\n",
       "      <td>205.530699</td>\n",
       "      <td>303.090979</td>\n",
       "      <td>...</td>\n",
       "      <td>1.000000e-13</td>\n",
       "      <td>1.000000e-13</td>\n",
       "      <td>1.000000e-13</td>\n",
       "      <td>1.000000e-13</td>\n",
       "      <td>1.000000e-13</td>\n",
       "      <td>1.000000e-13</td>\n",
       "      <td>1.000000e-14</td>\n",
       "      <td>1.000000e-10</td>\n",
       "      <td>-1.759132e+24</td>\n",
       "      <td>-inf</td>\n",
       "    </tr>\n",
       "    <tr>\n",
       "      <th>398</th>\n",
       "      <td>1.213625e-09</td>\n",
       "      <td>3.300862</td>\n",
       "      <td>0.248358</td>\n",
       "      <td>2.939433</td>\n",
       "      <td>4.009831</td>\n",
       "      <td>1.0</td>\n",
       "      <td>0.4</td>\n",
       "      <td>327.847021</td>\n",
       "      <td>205.530699</td>\n",
       "      <td>303.090979</td>\n",
       "      <td>...</td>\n",
       "      <td>1.000000e-13</td>\n",
       "      <td>1.000000e-13</td>\n",
       "      <td>1.000000e-13</td>\n",
       "      <td>1.000000e-13</td>\n",
       "      <td>1.000000e-13</td>\n",
       "      <td>1.000000e-13</td>\n",
       "      <td>1.000000e-14</td>\n",
       "      <td>1.000000e-10</td>\n",
       "      <td>-1.759132e+24</td>\n",
       "      <td>-inf</td>\n",
       "    </tr>\n",
       "    <tr>\n",
       "      <th>399</th>\n",
       "      <td>1.213625e-09</td>\n",
       "      <td>3.300862</td>\n",
       "      <td>0.248358</td>\n",
       "      <td>2.939433</td>\n",
       "      <td>4.009831</td>\n",
       "      <td>1.0</td>\n",
       "      <td>0.4</td>\n",
       "      <td>327.847021</td>\n",
       "      <td>205.530699</td>\n",
       "      <td>303.090979</td>\n",
       "      <td>...</td>\n",
       "      <td>1.000000e-13</td>\n",
       "      <td>1.000000e-13</td>\n",
       "      <td>1.000000e-13</td>\n",
       "      <td>1.000000e-13</td>\n",
       "      <td>1.000000e-13</td>\n",
       "      <td>1.000000e-13</td>\n",
       "      <td>1.000000e-14</td>\n",
       "      <td>1.000000e-10</td>\n",
       "      <td>-1.759132e+24</td>\n",
       "      <td>-inf</td>\n",
       "    </tr>\n",
       "  </tbody>\n",
       "</table>\n",
       "<p>400 rows × 199 columns</p>\n",
       "</div>"
      ],
      "text/plain": [
       "         omega_gw   phi0_gw    psi_gw  delta_gw  alpha_gw    h  iota_gw  \\\n",
       "0    1.213625e-09  3.300862  0.248358  2.939433  4.009831  1.0      0.4   \n",
       "1    1.213625e-09  3.300862  0.248358  2.939433  4.009831  1.0      0.4   \n",
       "2    1.213625e-09  3.300862  0.248358  2.939433  4.009831  1.0      0.4   \n",
       "3    1.213625e-09  3.300862  0.248358  2.939433  4.009831  1.0      0.4   \n",
       "4    1.213625e-09  3.300862  0.248358  2.939433  4.009831  1.0      0.4   \n",
       "..            ...       ...       ...       ...       ...  ...      ...   \n",
       "395  1.213625e-09  3.300862  0.248358  2.939433  4.009831  1.0      0.4   \n",
       "396  1.213625e-09  3.300862  0.248358  2.939433  4.009831  1.0      0.4   \n",
       "397  1.213625e-09  3.300862  0.248358  2.939433  4.009831  1.0      0.4   \n",
       "398  1.213625e-09  3.300862  0.248358  2.939433  4.009831  1.0      0.4   \n",
       "399  1.213625e-09  3.300862  0.248358  2.939433  4.009831  1.0      0.4   \n",
       "\n",
       "            f00         f01         f02  ...       gamma41       gamma42  \\\n",
       "0    327.847021  205.530699  303.090979  ...  1.000000e-13  1.000000e-13   \n",
       "1    327.847021  205.530699  303.090979  ...  1.000000e-13  1.000000e-13   \n",
       "2    327.847021  205.530699  303.090979  ...  1.000000e-13  1.000000e-13   \n",
       "3    327.847021  205.530699  303.090979  ...  1.000000e-13  1.000000e-13   \n",
       "4    327.847021  205.530699  303.090979  ...  1.000000e-13  1.000000e-13   \n",
       "..          ...         ...         ...  ...           ...           ...   \n",
       "395  327.847021  205.530699  303.090979  ...  1.000000e-13  1.000000e-13   \n",
       "396  327.847021  205.530699  303.090979  ...  1.000000e-13  1.000000e-13   \n",
       "397  327.847021  205.530699  303.090979  ...  1.000000e-13  1.000000e-13   \n",
       "398  327.847021  205.530699  303.090979  ...  1.000000e-13  1.000000e-13   \n",
       "399  327.847021  205.530699  303.090979  ...  1.000000e-13  1.000000e-13   \n",
       "\n",
       "          gamma43       gamma44       gamma45       gamma46       sigma_p  \\\n",
       "0    1.000000e-13  1.000000e-13  1.000000e-13  1.000000e-13  1.000000e-14   \n",
       "1    1.000000e-13  1.000000e-13  1.000000e-13  1.000000e-13  1.000000e-14   \n",
       "2    1.000000e-13  1.000000e-13  1.000000e-13  1.000000e-13  1.000000e-14   \n",
       "3    1.000000e-13  1.000000e-13  1.000000e-13  1.000000e-13  1.000000e-14   \n",
       "4    1.000000e-13  1.000000e-13  1.000000e-13  1.000000e-13  1.000000e-14   \n",
       "..            ...           ...           ...           ...           ...   \n",
       "395  1.000000e-13  1.000000e-13  1.000000e-13  1.000000e-13  1.000000e-14   \n",
       "396  1.000000e-13  1.000000e-13  1.000000e-13  1.000000e-13  1.000000e-14   \n",
       "397  1.000000e-13  1.000000e-13  1.000000e-13  1.000000e-13  1.000000e-14   \n",
       "398  1.000000e-13  1.000000e-13  1.000000e-13  1.000000e-13  1.000000e-14   \n",
       "399  1.000000e-13  1.000000e-13  1.000000e-13  1.000000e-13  1.000000e-14   \n",
       "\n",
       "          sigma_m  log_likelihood  log_prior  \n",
       "0    1.000000e-10   -1.759132e+24       -inf  \n",
       "1    1.000000e-10   -1.759132e+24       -inf  \n",
       "2    1.000000e-10   -1.759132e+24       -inf  \n",
       "3    1.000000e-10   -1.759132e+24       -inf  \n",
       "4    1.000000e-10   -1.759132e+24       -inf  \n",
       "..            ...             ...        ...  \n",
       "395  1.000000e-10   -1.759132e+24       -inf  \n",
       "396  1.000000e-10   -1.759132e+24       -inf  \n",
       "397  1.000000e-10   -1.759132e+24       -inf  \n",
       "398  1.000000e-10   -1.759132e+24       -inf  \n",
       "399  1.000000e-10   -1.759132e+24       -inf  \n",
       "\n",
       "[400 rows x 199 columns]"
      ]
     },
     "execution_count": 76,
     "metadata": {},
     "output_type": "execute_result"
    }
   ],
   "source": [
    "df2"
   ]
  },
  {
   "cell_type": "code",
   "execution_count": 73,
   "metadata": {},
   "outputs": [
    {
     "ename": "ValueError",
     "evalue": "It looks like the parameter(s) in column(s) 0 have no dynamic range. Please provide a `range` argument.",
     "output_type": "error",
     "traceback": [
      "\u001b[0;31m---------------------------------------------------------------------------\u001b[0m",
      "\u001b[0;31mValueError\u001b[0m                                Traceback (most recent call last)",
      "\u001b[1;32m/Users/t1/github_repos/StateSpacePTA/notebooks/corner_plots.ipynb Cell 16\u001b[0m in \u001b[0;36m<cell line: 4>\u001b[0;34m()\u001b[0m\n\u001b[1;32m      <a href='vscode-notebook-cell:/Users/t1/github_repos/StateSpacePTA/notebooks/corner_plots.ipynb#X40sZmlsZQ%3D%3D?line=0'>1</a>\u001b[0m y  \u001b[39m=\u001b[39m df2[[\u001b[39m\"\u001b[39m\u001b[39mphi0_gw\u001b[39m\u001b[39m\"\u001b[39m]]\u001b[39m.\u001b[39mto_numpy()\u001b[39m#,\"psi_gw\",\"alpha_gw\",\"delta_gw\"]].to_numpy()\u001b[39;00m\n\u001b[0;32m----> <a href='vscode-notebook-cell:/Users/t1/github_repos/StateSpacePTA/notebooks/corner_plots.ipynb#X40sZmlsZQ%3D%3D?line=3'>4</a>\u001b[0m fig \u001b[39m=\u001b[39m corner\u001b[39m.\u001b[39;49mcorner(y,color\u001b[39m=\u001b[39;49m\u001b[39m'\u001b[39;49m\u001b[39mC0\u001b[39;49m\u001b[39m'\u001b[39;49m,show_titles\u001b[39m=\u001b[39;49m\u001b[39mTrue\u001b[39;49;00m,smooth\u001b[39m=\u001b[39;49m\u001b[39mTrue\u001b[39;49;00m, smooth1d\u001b[39m=\u001b[39;49m\u001b[39mTrue\u001b[39;49;00m,quantiles\u001b[39m=\u001b[39;49m[\u001b[39m0.16\u001b[39;49m, \u001b[39m0.84\u001b[39;49m])\n",
      "File \u001b[0;32m~/miniconda3/envs/KalmanGW/lib/python3.10/site-packages/corner/corner.py:256\u001b[0m, in \u001b[0;36mcorner\u001b[0;34m(data, bins, range, weights, color, hist_bin_factor, smooth, smooth1d, labels, label_kwargs, titles, show_titles, title_fmt, title_kwargs, truths, truth_color, scale_hist, quantiles, verbose, fig, max_n_ticks, top_ticks, use_math_text, reverse, labelpad, hist_kwargs, group, var_names, filter_vars, coords, divergences, divergences_kwargs, labeller, **hist2d_kwargs)\u001b[0m\n\u001b[1;32m    222\u001b[0m         logging\u001b[39m.\u001b[39mwarning(\n\u001b[1;32m    223\u001b[0m             \u001b[39m\"\u001b[39m\u001b[39mPlease install arviz to use the advanced features of corner\u001b[39m\u001b[39m\"\u001b[39m\n\u001b[1;32m    224\u001b[0m         )\n\u001b[1;32m    226\u001b[0m     \u001b[39mreturn\u001b[39;00m corner_impl(\n\u001b[1;32m    227\u001b[0m         data,\n\u001b[1;32m    228\u001b[0m         bins\u001b[39m=\u001b[39mbins,\n\u001b[0;32m   (...)\u001b[0m\n\u001b[1;32m    253\u001b[0m         \u001b[39m*\u001b[39m\u001b[39m*\u001b[39mhist2d_kwargs,\n\u001b[1;32m    254\u001b[0m     )\n\u001b[0;32m--> 256\u001b[0m \u001b[39mreturn\u001b[39;00m arviz_corner(\n\u001b[1;32m    257\u001b[0m     data,\n\u001b[1;32m    258\u001b[0m     bins\u001b[39m=\u001b[39;49mbins,\n\u001b[1;32m    259\u001b[0m     \u001b[39mrange\u001b[39;49m\u001b[39m=\u001b[39;49m\u001b[39mrange\u001b[39;49m,\n\u001b[1;32m    260\u001b[0m     weights\u001b[39m=\u001b[39;49mweights,\n\u001b[1;32m    261\u001b[0m     color\u001b[39m=\u001b[39;49mcolor,\n\u001b[1;32m    262\u001b[0m     hist_bin_factor\u001b[39m=\u001b[39;49mhist_bin_factor,\n\u001b[1;32m    263\u001b[0m     smooth\u001b[39m=\u001b[39;49msmooth,\n\u001b[1;32m    264\u001b[0m     smooth1d\u001b[39m=\u001b[39;49msmooth1d,\n\u001b[1;32m    265\u001b[0m     labels\u001b[39m=\u001b[39;49mlabels,\n\u001b[1;32m    266\u001b[0m     label_kwargs\u001b[39m=\u001b[39;49mlabel_kwargs,\n\u001b[1;32m    267\u001b[0m     titles\u001b[39m=\u001b[39;49mtitles,\n\u001b[1;32m    268\u001b[0m     show_titles\u001b[39m=\u001b[39;49mshow_titles,\n\u001b[1;32m    269\u001b[0m     title_fmt\u001b[39m=\u001b[39;49mtitle_fmt,\n\u001b[1;32m    270\u001b[0m     title_kwargs\u001b[39m=\u001b[39;49mtitle_kwargs,\n\u001b[1;32m    271\u001b[0m     truths\u001b[39m=\u001b[39;49mtruths,\n\u001b[1;32m    272\u001b[0m     truth_color\u001b[39m=\u001b[39;49mtruth_color,\n\u001b[1;32m    273\u001b[0m     scale_hist\u001b[39m=\u001b[39;49mscale_hist,\n\u001b[1;32m    274\u001b[0m     quantiles\u001b[39m=\u001b[39;49mquantiles,\n\u001b[1;32m    275\u001b[0m     verbose\u001b[39m=\u001b[39;49mverbose,\n\u001b[1;32m    276\u001b[0m     fig\u001b[39m=\u001b[39;49mfig,\n\u001b[1;32m    277\u001b[0m     max_n_ticks\u001b[39m=\u001b[39;49mmax_n_ticks,\n\u001b[1;32m    278\u001b[0m     top_ticks\u001b[39m=\u001b[39;49mtop_ticks,\n\u001b[1;32m    279\u001b[0m     use_math_text\u001b[39m=\u001b[39;49muse_math_text,\n\u001b[1;32m    280\u001b[0m     reverse\u001b[39m=\u001b[39;49mreverse,\n\u001b[1;32m    281\u001b[0m     labelpad\u001b[39m=\u001b[39;49mlabelpad,\n\u001b[1;32m    282\u001b[0m     hist_kwargs\u001b[39m=\u001b[39;49mhist_kwargs,\n\u001b[1;32m    283\u001b[0m     group\u001b[39m=\u001b[39;49mgroup,\n\u001b[1;32m    284\u001b[0m     var_names\u001b[39m=\u001b[39;49mvar_names,\n\u001b[1;32m    285\u001b[0m     filter_vars\u001b[39m=\u001b[39;49mfilter_vars,\n\u001b[1;32m    286\u001b[0m     coords\u001b[39m=\u001b[39;49mcoords,\n\u001b[1;32m    287\u001b[0m     divergences\u001b[39m=\u001b[39;49mdivergences,\n\u001b[1;32m    288\u001b[0m     divergences_kwargs\u001b[39m=\u001b[39;49mdivergences_kwargs,\n\u001b[1;32m    289\u001b[0m     labeller\u001b[39m=\u001b[39;49mlabeller,\n\u001b[1;32m    290\u001b[0m     \u001b[39m*\u001b[39;49m\u001b[39m*\u001b[39;49mhist2d_kwargs,\n\u001b[1;32m    291\u001b[0m )\n",
      "File \u001b[0;32m~/miniconda3/envs/KalmanGW/lib/python3.10/site-packages/corner/arviz_corner.py:136\u001b[0m, in \u001b[0;36marviz_corner\u001b[0;34m(data, bins, range, weights, color, hist_bin_factor, smooth, smooth1d, labels, label_kwargs, titles, show_titles, title_fmt, title_kwargs, truths, truth_color, scale_hist, quantiles, verbose, fig, max_n_ticks, top_ticks, use_math_text, reverse, labelpad, hist_kwargs, group, var_names, filter_vars, coords, divergences, divergences_kwargs, labeller, **hist2d_kwargs)\u001b[0m\n\u001b[1;32m    134\u001b[0m \u001b[39m# Coerce the samples into the expected format\u001b[39;00m\n\u001b[1;32m    135\u001b[0m samples \u001b[39m=\u001b[39m np\u001b[39m.\u001b[39mstack([x[\u001b[39m-\u001b[39m\u001b[39m1\u001b[39m]\u001b[39m.\u001b[39mflatten() \u001b[39mfor\u001b[39;00m x \u001b[39min\u001b[39;00m plotters], axis\u001b[39m=\u001b[39m\u001b[39m-\u001b[39m\u001b[39m1\u001b[39m)\n\u001b[0;32m--> 136\u001b[0m fig \u001b[39m=\u001b[39m corner_impl(\n\u001b[1;32m    137\u001b[0m     samples,\n\u001b[1;32m    138\u001b[0m     bins\u001b[39m=\u001b[39;49mbins,\n\u001b[1;32m    139\u001b[0m     \u001b[39mrange\u001b[39;49m\u001b[39m=\u001b[39;49m\u001b[39mrange\u001b[39;49m,\n\u001b[1;32m    140\u001b[0m     weights\u001b[39m=\u001b[39;49mweights,\n\u001b[1;32m    141\u001b[0m     color\u001b[39m=\u001b[39;49mcolor,\n\u001b[1;32m    142\u001b[0m     hist_bin_factor\u001b[39m=\u001b[39;49mhist_bin_factor,\n\u001b[1;32m    143\u001b[0m     smooth\u001b[39m=\u001b[39;49msmooth,\n\u001b[1;32m    144\u001b[0m     smooth1d\u001b[39m=\u001b[39;49msmooth1d,\n\u001b[1;32m    145\u001b[0m     labels\u001b[39m=\u001b[39;49mlabels,\n\u001b[1;32m    146\u001b[0m     label_kwargs\u001b[39m=\u001b[39;49mlabel_kwargs,\n\u001b[1;32m    147\u001b[0m     titles\u001b[39m=\u001b[39;49mtitles,\n\u001b[1;32m    148\u001b[0m     show_titles\u001b[39m=\u001b[39;49mshow_titles,\n\u001b[1;32m    149\u001b[0m     title_fmt\u001b[39m=\u001b[39;49mtitle_fmt,\n\u001b[1;32m    150\u001b[0m     title_kwargs\u001b[39m=\u001b[39;49mtitle_kwargs,\n\u001b[1;32m    151\u001b[0m     truths\u001b[39m=\u001b[39;49mtruths,\n\u001b[1;32m    152\u001b[0m     truth_color\u001b[39m=\u001b[39;49mtruth_color,\n\u001b[1;32m    153\u001b[0m     scale_hist\u001b[39m=\u001b[39;49mscale_hist,\n\u001b[1;32m    154\u001b[0m     quantiles\u001b[39m=\u001b[39;49mquantiles,\n\u001b[1;32m    155\u001b[0m     verbose\u001b[39m=\u001b[39;49mverbose,\n\u001b[1;32m    156\u001b[0m     fig\u001b[39m=\u001b[39;49mfig,\n\u001b[1;32m    157\u001b[0m     max_n_ticks\u001b[39m=\u001b[39;49mmax_n_ticks,\n\u001b[1;32m    158\u001b[0m     top_ticks\u001b[39m=\u001b[39;49mtop_ticks,\n\u001b[1;32m    159\u001b[0m     use_math_text\u001b[39m=\u001b[39;49muse_math_text,\n\u001b[1;32m    160\u001b[0m     reverse\u001b[39m=\u001b[39;49mreverse,\n\u001b[1;32m    161\u001b[0m     labelpad\u001b[39m=\u001b[39;49mlabelpad,\n\u001b[1;32m    162\u001b[0m     hist_kwargs\u001b[39m=\u001b[39;49mhist_kwargs,\n\u001b[1;32m    163\u001b[0m     \u001b[39m*\u001b[39;49m\u001b[39m*\u001b[39;49mhist2d_kwargs,\n\u001b[1;32m    164\u001b[0m )\n\u001b[1;32m    166\u001b[0m \u001b[39m# Get diverging draws and combine chains\u001b[39;00m\n\u001b[1;32m    167\u001b[0m \u001b[39mif\u001b[39;00m divergences:\n",
      "File \u001b[0;32m~/miniconda3/envs/KalmanGW/lib/python3.10/site-packages/corner/core.py:121\u001b[0m, in \u001b[0;36mcorner_impl\u001b[0;34m(xs, bins, range, weights, color, hist_bin_factor, smooth, smooth1d, labels, label_kwargs, titles, show_titles, title_fmt, title_kwargs, truths, truth_color, scale_hist, quantiles, verbose, fig, max_n_ticks, top_ticks, use_math_text, reverse, labelpad, hist_kwargs, **hist2d_kwargs)\u001b[0m\n\u001b[1;32m    119\u001b[0m         m \u001b[39m=\u001b[39m np\u001b[39m.\u001b[39marray([e[\u001b[39m0\u001b[39m] \u001b[39m==\u001b[39m e[\u001b[39m1\u001b[39m] \u001b[39mfor\u001b[39;00m e \u001b[39min\u001b[39;00m \u001b[39mrange\u001b[39m], dtype\u001b[39m=\u001b[39m\u001b[39mbool\u001b[39m)\n\u001b[1;32m    120\u001b[0m         \u001b[39mif\u001b[39;00m np\u001b[39m.\u001b[39many(m):\n\u001b[0;32m--> 121\u001b[0m             \u001b[39mraise\u001b[39;00m \u001b[39mValueError\u001b[39;00m(\n\u001b[1;32m    122\u001b[0m                 (\n\u001b[1;32m    123\u001b[0m                     \u001b[39m\"\u001b[39m\u001b[39mIt looks like the parameter(s) in \u001b[39m\u001b[39m\"\u001b[39m\n\u001b[1;32m    124\u001b[0m                     \u001b[39m\"\u001b[39m\u001b[39mcolumn(s) \u001b[39m\u001b[39m{0}\u001b[39;00m\u001b[39m have no dynamic range. \u001b[39m\u001b[39m\"\u001b[39m\n\u001b[1;32m    125\u001b[0m                     \u001b[39m\"\u001b[39m\u001b[39mPlease provide a `range` argument.\u001b[39m\u001b[39m\"\u001b[39m\n\u001b[1;32m    126\u001b[0m                 )\u001b[39m.\u001b[39mformat(\n\u001b[1;32m    127\u001b[0m                     \u001b[39m\"\u001b[39m\u001b[39m, \u001b[39m\u001b[39m\"\u001b[39m\u001b[39m.\u001b[39mjoin(\u001b[39mmap\u001b[39m(\u001b[39m\"\u001b[39m\u001b[39m{0}\u001b[39;00m\u001b[39m\"\u001b[39m\u001b[39m.\u001b[39mformat, np\u001b[39m.\u001b[39marange(\u001b[39mlen\u001b[39m(m))[m]))\n\u001b[1;32m    128\u001b[0m                 )\n\u001b[1;32m    129\u001b[0m             )\n\u001b[1;32m    131\u001b[0m \u001b[39melse\u001b[39;00m:\n\u001b[1;32m    132\u001b[0m     \u001b[39m# If any of the extents are percentiles, convert them to ranges.\u001b[39;00m\n\u001b[1;32m    133\u001b[0m     \u001b[39m# Also make sure it's a normal list.\u001b[39;00m\n\u001b[1;32m    134\u001b[0m     \u001b[39mrange\u001b[39m \u001b[39m=\u001b[39m \u001b[39mlist\u001b[39m(\u001b[39mrange\u001b[39m)\n",
      "\u001b[0;31mValueError\u001b[0m: It looks like the parameter(s) in column(s) 0 have no dynamic range. Please provide a `range` argument."
     ]
    },
    {
     "data": {
      "image/png": "[encoded data removed]",
      "text/plain": [
       "<Figure size 340x340 with 1 Axes>"
      ]
     },
     "metadata": {},
     "output_type": "display_data"
    }
   ],
   "source": [
    "\n",
    "y  = df2[[\"phi0_gw\"]].to_numpy()#,\"psi_gw\",\"alpha_gw\",\"delta_gw\"]].to_numpy()\n",
    "\n",
    "\n",
    "fig = corner.corner(y,color='C0',show_titles=True,smooth=True, smooth1d=True,quantiles=[0.16, 0.84])\n"
   ]
  },
  {
   "cell_type": "code",
   "execution_count": 32,
   "metadata": {},
   "outputs": [
    {
     "ename": "ValueError",
     "evalue": "It looks like the parameter(s) in column(s) 0 have no dynamic range. Please provide a `range` argument.",
     "output_type": "error",
     "traceback": [
      "\u001b[0;31m---------------------------------------------------------------------------\u001b[0m",
      "\u001b[0;31mValueError\u001b[0m                                Traceback (most recent call last)",
      "\u001b[1;32m/Users/t1/github_repos/StateSpacePTA/notebooks/corner_plots.ipynb Cell 15\u001b[0m in \u001b[0;36m<cell line: 17>\u001b[0;34m()\u001b[0m\n\u001b[1;32m     <a href='vscode-notebook-cell:/Users/t1/github_repos/StateSpacePTA/notebooks/corner_plots.ipynb#X12sZmlsZQ%3D%3D?line=13'>14</a>\u001b[0m truths \u001b[39m=\u001b[39m [\u001b[39m5e-7\u001b[39m,\u001b[39m1e-2\u001b[39m]\n\u001b[1;32m     <a href='vscode-notebook-cell:/Users/t1/github_repos/StateSpacePTA/notebooks/corner_plots.ipynb#X12sZmlsZQ%3D%3D?line=14'>15</a>\u001b[0m axes_scale \u001b[39m=\u001b[39m [\u001b[39m\"\u001b[39m\u001b[39mlog\u001b[39m\u001b[39m\"\u001b[39m, \u001b[39m\"\u001b[39m\u001b[39mlinear\u001b[39m\u001b[39m\"\u001b[39m]\u001b[39m#,\"linear\",\"linear\",\"linear\",\"linear\",\"linear\",\"linear\"]\u001b[39;00m\n\u001b[0;32m---> <a href='vscode-notebook-cell:/Users/t1/github_repos/StateSpacePTA/notebooks/corner_plots.ipynb#X12sZmlsZQ%3D%3D?line=16'>17</a>\u001b[0m fig \u001b[39m=\u001b[39m corner\u001b[39m.\u001b[39;49mcorner(y,color\u001b[39m=\u001b[39;49m\u001b[39m'\u001b[39;49m\u001b[39mC0\u001b[39;49m\u001b[39m'\u001b[39;49m,show_titles\u001b[39m=\u001b[39;49m\u001b[39mTrue\u001b[39;49;00m,smooth\u001b[39m=\u001b[39;49m\u001b[39mTrue\u001b[39;49;00m, smooth1d\u001b[39m=\u001b[39;49m\u001b[39mTrue\u001b[39;49;00m,labels\u001b[39m=\u001b[39;49mlabels,truth_color\u001b[39m=\u001b[39;49m\u001b[39m'\u001b[39;49m\u001b[39mC1\u001b[39;49m\u001b[39m'\u001b[39;49m,quantiles\u001b[39m=\u001b[39;49m[\u001b[39m0.16\u001b[39;49m, \u001b[39m0.84\u001b[39;49m])\n",
      "File \u001b[0;32m~/miniconda3/envs/KalmanGW/lib/python3.10/site-packages/corner/corner.py:256\u001b[0m, in \u001b[0;36mcorner\u001b[0;34m(data, bins, range, weights, color, hist_bin_factor, smooth, smooth1d, labels, label_kwargs, titles, show_titles, title_fmt, title_kwargs, truths, truth_color, scale_hist, quantiles, verbose, fig, max_n_ticks, top_ticks, use_math_text, reverse, labelpad, hist_kwargs, group, var_names, filter_vars, coords, divergences, divergences_kwargs, labeller, **hist2d_kwargs)\u001b[0m\n\u001b[1;32m    222\u001b[0m         logging\u001b[39m.\u001b[39mwarning(\n\u001b[1;32m    223\u001b[0m             \u001b[39m\"\u001b[39m\u001b[39mPlease install arviz to use the advanced features of corner\u001b[39m\u001b[39m\"\u001b[39m\n\u001b[1;32m    224\u001b[0m         )\n\u001b[1;32m    226\u001b[0m     \u001b[39mreturn\u001b[39;00m corner_impl(\n\u001b[1;32m    227\u001b[0m         data,\n\u001b[1;32m    228\u001b[0m         bins\u001b[39m=\u001b[39mbins,\n\u001b[0;32m   (...)\u001b[0m\n\u001b[1;32m    253\u001b[0m         \u001b[39m*\u001b[39m\u001b[39m*\u001b[39mhist2d_kwargs,\n\u001b[1;32m    254\u001b[0m     )\n\u001b[0;32m--> 256\u001b[0m \u001b[39mreturn\u001b[39;00m arviz_corner(\n\u001b[1;32m    257\u001b[0m     data,\n\u001b[1;32m    258\u001b[0m     bins\u001b[39m=\u001b[39;49mbins,\n\u001b[1;32m    259\u001b[0m     \u001b[39mrange\u001b[39;49m\u001b[39m=\u001b[39;49m\u001b[39mrange\u001b[39;49m,\n\u001b[1;32m    260\u001b[0m     weights\u001b[39m=\u001b[39;49mweights,\n\u001b[1;32m    261\u001b[0m     color\u001b[39m=\u001b[39;49mcolor,\n\u001b[1;32m    262\u001b[0m     hist_bin_factor\u001b[39m=\u001b[39;49mhist_bin_factor,\n\u001b[1;32m    263\u001b[0m     smooth\u001b[39m=\u001b[39;49msmooth,\n\u001b[1;32m    264\u001b[0m     smooth1d\u001b[39m=\u001b[39;49msmooth1d,\n\u001b[1;32m    265\u001b[0m     labels\u001b[39m=\u001b[39;49mlabels,\n\u001b[1;32m    266\u001b[0m     label_kwargs\u001b[39m=\u001b[39;49mlabel_kwargs,\n\u001b[1;32m    267\u001b[0m     titles\u001b[39m=\u001b[39;49mtitles,\n\u001b[1;32m    268\u001b[0m     show_titles\u001b[39m=\u001b[39;49mshow_titles,\n\u001b[1;32m    269\u001b[0m     title_fmt\u001b[39m=\u001b[39;49mtitle_fmt,\n\u001b[1;32m    270\u001b[0m     title_kwargs\u001b[39m=\u001b[39;49mtitle_kwargs,\n\u001b[1;32m    271\u001b[0m     truths\u001b[39m=\u001b[39;49mtruths,\n\u001b[1;32m    272\u001b[0m     truth_color\u001b[39m=\u001b[39;49mtruth_color,\n\u001b[1;32m    273\u001b[0m     scale_hist\u001b[39m=\u001b[39;49mscale_hist,\n\u001b[1;32m    274\u001b[0m     quantiles\u001b[39m=\u001b[39;49mquantiles,\n\u001b[1;32m    275\u001b[0m     verbose\u001b[39m=\u001b[39;49mverbose,\n\u001b[1;32m    276\u001b[0m     fig\u001b[39m=\u001b[39;49mfig,\n\u001b[1;32m    277\u001b[0m     max_n_ticks\u001b[39m=\u001b[39;49mmax_n_ticks,\n\u001b[1;32m    278\u001b[0m     top_ticks\u001b[39m=\u001b[39;49mtop_ticks,\n\u001b[1;32m    279\u001b[0m     use_math_text\u001b[39m=\u001b[39;49muse_math_text,\n\u001b[1;32m    280\u001b[0m     reverse\u001b[39m=\u001b[39;49mreverse,\n\u001b[1;32m    281\u001b[0m     labelpad\u001b[39m=\u001b[39;49mlabelpad,\n\u001b[1;32m    282\u001b[0m     hist_kwargs\u001b[39m=\u001b[39;49mhist_kwargs,\n\u001b[1;32m    283\u001b[0m     group\u001b[39m=\u001b[39;49mgroup,\n\u001b[1;32m    284\u001b[0m     var_names\u001b[39m=\u001b[39;49mvar_names,\n\u001b[1;32m    285\u001b[0m     filter_vars\u001b[39m=\u001b[39;49mfilter_vars,\n\u001b[1;32m    286\u001b[0m     coords\u001b[39m=\u001b[39;49mcoords,\n\u001b[1;32m    287\u001b[0m     divergences\u001b[39m=\u001b[39;49mdivergences,\n\u001b[1;32m    288\u001b[0m     divergences_kwargs\u001b[39m=\u001b[39;49mdivergences_kwargs,\n\u001b[1;32m    289\u001b[0m     labeller\u001b[39m=\u001b[39;49mlabeller,\n\u001b[1;32m    290\u001b[0m     \u001b[39m*\u001b[39;49m\u001b[39m*\u001b[39;49mhist2d_kwargs,\n\u001b[1;32m    291\u001b[0m )\n",
      "File \u001b[0;32m~/miniconda3/envs/KalmanGW/lib/python3.10/site-packages/corner/arviz_corner.py:136\u001b[0m, in \u001b[0;36marviz_corner\u001b[0;34m(data, bins, range, weights, color, hist_bin_factor, smooth, smooth1d, labels, label_kwargs, titles, show_titles, title_fmt, title_kwargs, truths, truth_color, scale_hist, quantiles, verbose, fig, max_n_ticks, top_ticks, use_math_text, reverse, labelpad, hist_kwargs, group, var_names, filter_vars, coords, divergences, divergences_kwargs, labeller, **hist2d_kwargs)\u001b[0m\n\u001b[1;32m    134\u001b[0m \u001b[39m# Coerce the samples into the expected format\u001b[39;00m\n\u001b[1;32m    135\u001b[0m samples \u001b[39m=\u001b[39m np\u001b[39m.\u001b[39mstack([x[\u001b[39m-\u001b[39m\u001b[39m1\u001b[39m]\u001b[39m.\u001b[39mflatten() \u001b[39mfor\u001b[39;00m x \u001b[39min\u001b[39;00m plotters], axis\u001b[39m=\u001b[39m\u001b[39m-\u001b[39m\u001b[39m1\u001b[39m)\n\u001b[0;32m--> 136\u001b[0m fig \u001b[39m=\u001b[39m corner_impl(\n\u001b[1;32m    137\u001b[0m     samples,\n\u001b[1;32m    138\u001b[0m     bins\u001b[39m=\u001b[39;49mbins,\n\u001b[1;32m    139\u001b[0m     \u001b[39mrange\u001b[39;49m\u001b[39m=\u001b[39;49m\u001b[39mrange\u001b[39;49m,\n\u001b[1;32m    140\u001b[0m     weights\u001b[39m=\u001b[39;49mweights,\n\u001b[1;32m    141\u001b[0m     color\u001b[39m=\u001b[39;49mcolor,\n\u001b[1;32m    142\u001b[0m     hist_bin_factor\u001b[39m=\u001b[39;49mhist_bin_factor,\n\u001b[1;32m    143\u001b[0m     smooth\u001b[39m=\u001b[39;49msmooth,\n\u001b[1;32m    144\u001b[0m     smooth1d\u001b[39m=\u001b[39;49msmooth1d,\n\u001b[1;32m    145\u001b[0m     labels\u001b[39m=\u001b[39;49mlabels,\n\u001b[1;32m    146\u001b[0m     label_kwargs\u001b[39m=\u001b[39;49mlabel_kwargs,\n\u001b[1;32m    147\u001b[0m     titles\u001b[39m=\u001b[39;49mtitles,\n\u001b[1;32m    148\u001b[0m     show_titles\u001b[39m=\u001b[39;49mshow_titles,\n\u001b[1;32m    149\u001b[0m     title_fmt\u001b[39m=\u001b[39;49mtitle_fmt,\n\u001b[1;32m    150\u001b[0m     title_kwargs\u001b[39m=\u001b[39;49mtitle_kwargs,\n\u001b[1;32m    151\u001b[0m     truths\u001b[39m=\u001b[39;49mtruths,\n\u001b[1;32m    152\u001b[0m     truth_color\u001b[39m=\u001b[39;49mtruth_color,\n\u001b[1;32m    153\u001b[0m     scale_hist\u001b[39m=\u001b[39;49mscale_hist,\n\u001b[1;32m    154\u001b[0m     quantiles\u001b[39m=\u001b[39;49mquantiles,\n\u001b[1;32m    155\u001b[0m     verbose\u001b[39m=\u001b[39;49mverbose,\n\u001b[1;32m    156\u001b[0m     fig\u001b[39m=\u001b[39;49mfig,\n\u001b[1;32m    157\u001b[0m     max_n_ticks\u001b[39m=\u001b[39;49mmax_n_ticks,\n\u001b[1;32m    158\u001b[0m     top_ticks\u001b[39m=\u001b[39;49mtop_ticks,\n\u001b[1;32m    159\u001b[0m     use_math_text\u001b[39m=\u001b[39;49muse_math_text,\n\u001b[1;32m    160\u001b[0m     reverse\u001b[39m=\u001b[39;49mreverse,\n\u001b[1;32m    161\u001b[0m     labelpad\u001b[39m=\u001b[39;49mlabelpad,\n\u001b[1;32m    162\u001b[0m     hist_kwargs\u001b[39m=\u001b[39;49mhist_kwargs,\n\u001b[1;32m    163\u001b[0m     \u001b[39m*\u001b[39;49m\u001b[39m*\u001b[39;49mhist2d_kwargs,\n\u001b[1;32m    164\u001b[0m )\n\u001b[1;32m    166\u001b[0m \u001b[39m# Get diverging draws and combine chains\u001b[39;00m\n\u001b[1;32m    167\u001b[0m \u001b[39mif\u001b[39;00m divergences:\n",
      "File \u001b[0;32m~/miniconda3/envs/KalmanGW/lib/python3.10/site-packages/corner/core.py:121\u001b[0m, in \u001b[0;36mcorner_impl\u001b[0;34m(xs, bins, range, weights, color, hist_bin_factor, smooth, smooth1d, labels, label_kwargs, titles, show_titles, title_fmt, title_kwargs, truths, truth_color, scale_hist, quantiles, verbose, fig, max_n_ticks, top_ticks, use_math_text, reverse, labelpad, hist_kwargs, **hist2d_kwargs)\u001b[0m\n\u001b[1;32m    119\u001b[0m         m \u001b[39m=\u001b[39m np\u001b[39m.\u001b[39marray([e[\u001b[39m0\u001b[39m] \u001b[39m==\u001b[39m e[\u001b[39m1\u001b[39m] \u001b[39mfor\u001b[39;00m e \u001b[39min\u001b[39;00m \u001b[39mrange\u001b[39m], dtype\u001b[39m=\u001b[39m\u001b[39mbool\u001b[39m)\n\u001b[1;32m    120\u001b[0m         \u001b[39mif\u001b[39;00m np\u001b[39m.\u001b[39many(m):\n\u001b[0;32m--> 121\u001b[0m             \u001b[39mraise\u001b[39;00m \u001b[39mValueError\u001b[39;00m(\n\u001b[1;32m    122\u001b[0m                 (\n\u001b[1;32m    123\u001b[0m                     \u001b[39m\"\u001b[39m\u001b[39mIt looks like the parameter(s) in \u001b[39m\u001b[39m\"\u001b[39m\n\u001b[1;32m    124\u001b[0m                     \u001b[39m\"\u001b[39m\u001b[39mcolumn(s) \u001b[39m\u001b[39m{0}\u001b[39;00m\u001b[39m have no dynamic range. \u001b[39m\u001b[39m\"\u001b[39m\n\u001b[1;32m    125\u001b[0m                     \u001b[39m\"\u001b[39m\u001b[39mPlease provide a `range` argument.\u001b[39m\u001b[39m\"\u001b[39m\n\u001b[1;32m    126\u001b[0m                 )\u001b[39m.\u001b[39mformat(\n\u001b[1;32m    127\u001b[0m                     \u001b[39m\"\u001b[39m\u001b[39m, \u001b[39m\u001b[39m\"\u001b[39m\u001b[39m.\u001b[39mjoin(\u001b[39mmap\u001b[39m(\u001b[39m\"\u001b[39m\u001b[39m{0}\u001b[39;00m\u001b[39m\"\u001b[39m\u001b[39m.\u001b[39mformat, np\u001b[39m.\u001b[39marange(\u001b[39mlen\u001b[39m(m))[m]))\n\u001b[1;32m    128\u001b[0m                 )\n\u001b[1;32m    129\u001b[0m             )\n\u001b[1;32m    131\u001b[0m \u001b[39melse\u001b[39;00m:\n\u001b[1;32m    132\u001b[0m     \u001b[39m# If any of the extents are percentiles, convert them to ranges.\u001b[39;00m\n\u001b[1;32m    133\u001b[0m     \u001b[39m# Also make sure it's a normal list.\u001b[39;00m\n\u001b[1;32m    134\u001b[0m     \u001b[39mrange\u001b[39m \u001b[39m=\u001b[39m \u001b[39mlist\u001b[39m(\u001b[39mrange\u001b[39m)\n",
      "\u001b[0;31mValueError\u001b[0m: It looks like the parameter(s) in column(s) 0 have no dynamic range. Please provide a `range` argument."
     ]
    },
    {
     "data": {
      "image/png": "[encoded data removed]",
      "text/plain": [
       "<Figure size 970x970 with 16 Axes>"
      ]
     },
     "metadata": {},
     "output_type": "display_data"
    }
   ],
   "source": [
    "import matplotlib.pyplot as plt \n",
    "import corner\n",
    "labels = [r'$\\omega$', r'h']\n",
    "\n",
    "\n",
    "\n",
    "# r'$\\Phi_0$', r'$\\psi$', r'$\\iota$', r'$\\delta$', r'$\\alpha$', 'h',\n",
    "#        r'$\\sigma_p$']\n",
    "\n",
    "truths = [5e-7,0.20,2.50,1.0,1.0,1.0,1e-2,1e-8]\n",
    "\n",
    "\n",
    "#truths = [3.33,3.33,3.33,3.33,3.33,3.33,3.33,3.33]\n",
    "truths = [5e-7,1e-2]\n",
    "axes_scale = [\"log\", \"linear\"]#,\"linear\",\"linear\",\"linear\",\"linear\",\"linear\",\"linear\"]\n",
    "\n",
    "fig = corner.corner(y,color='C0',show_titles=True,smooth=True, smooth1d=True,labels=labels,truth_color='C1',quantiles=[0.16, 0.84])\n",
    "\n",
    "\n",
    "#corner.overplot_lines(fig, truths, color=\"C1\")\n",
    "\n",
    "\n",
    "#plt.savefig(\"../data/plots/example_corner_plot.png\",dpi=300, bbox_inches = \"tight\")\n",
    "\n",
    "\n",
    "\n",
    "\n",
    "#fig = corner.corner(y,truths=truths)\n"
   ]
  },
  {
   "cell_type": "code",
   "execution_count": 41,
   "metadata": {},
   "outputs": [],
   "source": [
    "\n",
    "\n",
    "import matplotlib.pyplot as plt \n",
    "import corner\n",
    "import scienceplots\n",
    "import json\n",
    "import pandas as pd\n",
    "\n",
    "\n",
    "\n",
    "\n",
    "\n",
    "\n",
    "\n",
    "def plot_custom_corner(path,labels, injection_parameters,axes_scales):\n",
    "\n",
    "\n",
    "    # Opening JSON file\n",
    "    f = open(path)\n",
    "    \n",
    "    # returns JSON object as \n",
    "    # a dictionary\n",
    "    data = json.load(f)\n",
    "\n",
    "    #Make it a dataframe. Nice for surfacing\n",
    "    df = pd.DataFrame(data[\"samples\"][\"content\"])[[0,1,3]] # posterior\n",
    "    y = df.to_numpy() \n",
    "\n",
    "    print(df.median())\n",
    "\n",
    "    plt.style.use('science')\n",
    "\n",
    "    fig = corner.corner(y,\n",
    "                        color='C0',\n",
    "                        show_titles=True,\n",
    "                        smooth=True, \n",
    "                        smooth1d=True,\n",
    "                        labels=labels,\n",
    "                        truth_color='C2',\n",
    "                        quantiles=[0.16, 0.84],\n",
    "                        truths=injection_parameters,\n",
    "                        axes_scales = axes_scales)\n",
    "    \n",
    "\n",
    "    plt.show()\n",
    "\n"
   ]
  },
  {
   "cell_type": "code",
   "execution_count": 42,
   "metadata": {},
   "outputs": [
    {
     "name": "stdout",
     "output_type": "stream",
     "text": [
      "0    5.000000e-07\n",
      "1    3.341593e+00\n",
      "3    1.000000e-02\n",
      "dtype: float64\n"
     ]
    },
    {
     "ename": "ValueError",
     "evalue": "It looks like the parameter(s) in column(s) 0 have no dynamic range. Please provide a `range` argument.",
     "output_type": "error",
     "traceback": [
      "\u001b[0;31m---------------------------------------------------------------------------\u001b[0m",
      "\u001b[0;31mValueError\u001b[0m                                Traceback (most recent call last)",
      "\u001b[1;32m/Users/t1/github_repos/StateSpacePTA/notebooks/corner_plots.ipynb Cell 18\u001b[0m in \u001b[0;36m<cell line: 6>\u001b[0;34m()\u001b[0m\n\u001b[1;32m      <a href='vscode-notebook-cell:/Users/t1/github_repos/StateSpacePTA/notebooks/corner_plots.ipynb#X14sZmlsZQ%3D%3D?line=3'>4</a>\u001b[0m \u001b[39m#path = \"../data/nested_sampling/diagonal55_result.json\"\u001b[39;00m\n\u001b[1;32m      <a href='vscode-notebook-cell:/Users/t1/github_repos/StateSpacePTA/notebooks/corner_plots.ipynb#X14sZmlsZQ%3D%3D?line=4'>5</a>\u001b[0m path \u001b[39m=\u001b[39m \u001b[39m\"\u001b[39m\u001b[39m../data/nested_sampling/original_params_result.json\u001b[39m\u001b[39m\"\u001b[39m\n\u001b[0;32m----> <a href='vscode-notebook-cell:/Users/t1/github_repos/StateSpacePTA/notebooks/corner_plots.ipynb#X14sZmlsZQ%3D%3D?line=5'>6</a>\u001b[0m plot_custom_corner(path,labels, injection_parameters,axes_scales)\n",
      "\u001b[1;32m/Users/t1/github_repos/StateSpacePTA/notebooks/corner_plots.ipynb Cell 18\u001b[0m in \u001b[0;36mplot_custom_corner\u001b[0;34m(path, labels, injection_parameters, axes_scales)\u001b[0m\n\u001b[1;32m     <a href='vscode-notebook-cell:/Users/t1/github_repos/StateSpacePTA/notebooks/corner_plots.ipynb#X14sZmlsZQ%3D%3D?line=26'>27</a>\u001b[0m \u001b[39mprint\u001b[39m(df\u001b[39m.\u001b[39mmedian())\n\u001b[1;32m     <a href='vscode-notebook-cell:/Users/t1/github_repos/StateSpacePTA/notebooks/corner_plots.ipynb#X14sZmlsZQ%3D%3D?line=28'>29</a>\u001b[0m plt\u001b[39m.\u001b[39mstyle\u001b[39m.\u001b[39muse(\u001b[39m'\u001b[39m\u001b[39mscience\u001b[39m\u001b[39m'\u001b[39m)\n\u001b[0;32m---> <a href='vscode-notebook-cell:/Users/t1/github_repos/StateSpacePTA/notebooks/corner_plots.ipynb#X14sZmlsZQ%3D%3D?line=30'>31</a>\u001b[0m fig \u001b[39m=\u001b[39m corner\u001b[39m.\u001b[39;49mcorner(y,\n\u001b[1;32m     <a href='vscode-notebook-cell:/Users/t1/github_repos/StateSpacePTA/notebooks/corner_plots.ipynb#X14sZmlsZQ%3D%3D?line=31'>32</a>\u001b[0m                     color\u001b[39m=\u001b[39;49m\u001b[39m'\u001b[39;49m\u001b[39mC0\u001b[39;49m\u001b[39m'\u001b[39;49m,\n\u001b[1;32m     <a href='vscode-notebook-cell:/Users/t1/github_repos/StateSpacePTA/notebooks/corner_plots.ipynb#X14sZmlsZQ%3D%3D?line=32'>33</a>\u001b[0m                     show_titles\u001b[39m=\u001b[39;49m\u001b[39mTrue\u001b[39;49;00m,\n\u001b[1;32m     <a href='vscode-notebook-cell:/Users/t1/github_repos/StateSpacePTA/notebooks/corner_plots.ipynb#X14sZmlsZQ%3D%3D?line=33'>34</a>\u001b[0m                     smooth\u001b[39m=\u001b[39;49m\u001b[39mTrue\u001b[39;49;00m, \n\u001b[1;32m     <a href='vscode-notebook-cell:/Users/t1/github_repos/StateSpacePTA/notebooks/corner_plots.ipynb#X14sZmlsZQ%3D%3D?line=34'>35</a>\u001b[0m                     smooth1d\u001b[39m=\u001b[39;49m\u001b[39mTrue\u001b[39;49;00m,\n\u001b[1;32m     <a href='vscode-notebook-cell:/Users/t1/github_repos/StateSpacePTA/notebooks/corner_plots.ipynb#X14sZmlsZQ%3D%3D?line=35'>36</a>\u001b[0m                     labels\u001b[39m=\u001b[39;49mlabels,\n\u001b[1;32m     <a href='vscode-notebook-cell:/Users/t1/github_repos/StateSpacePTA/notebooks/corner_plots.ipynb#X14sZmlsZQ%3D%3D?line=36'>37</a>\u001b[0m                     truth_color\u001b[39m=\u001b[39;49m\u001b[39m'\u001b[39;49m\u001b[39mC2\u001b[39;49m\u001b[39m'\u001b[39;49m,\n\u001b[1;32m     <a href='vscode-notebook-cell:/Users/t1/github_repos/StateSpacePTA/notebooks/corner_plots.ipynb#X14sZmlsZQ%3D%3D?line=37'>38</a>\u001b[0m                     quantiles\u001b[39m=\u001b[39;49m[\u001b[39m0.16\u001b[39;49m, \u001b[39m0.84\u001b[39;49m],\n\u001b[1;32m     <a href='vscode-notebook-cell:/Users/t1/github_repos/StateSpacePTA/notebooks/corner_plots.ipynb#X14sZmlsZQ%3D%3D?line=38'>39</a>\u001b[0m                     truths\u001b[39m=\u001b[39;49minjection_parameters,\n\u001b[1;32m     <a href='vscode-notebook-cell:/Users/t1/github_repos/StateSpacePTA/notebooks/corner_plots.ipynb#X14sZmlsZQ%3D%3D?line=39'>40</a>\u001b[0m                     axes_scales \u001b[39m=\u001b[39;49m axes_scales)\n\u001b[1;32m     <a href='vscode-notebook-cell:/Users/t1/github_repos/StateSpacePTA/notebooks/corner_plots.ipynb#X14sZmlsZQ%3D%3D?line=42'>43</a>\u001b[0m plt\u001b[39m.\u001b[39mshow()\n",
      "File \u001b[0;32m~/miniconda3/envs/KalmanGW/lib/python3.10/site-packages/corner/corner.py:256\u001b[0m, in \u001b[0;36mcorner\u001b[0;34m(data, bins, range, weights, color, hist_bin_factor, smooth, smooth1d, labels, label_kwargs, titles, show_titles, title_fmt, title_kwargs, truths, truth_color, scale_hist, quantiles, verbose, fig, max_n_ticks, top_ticks, use_math_text, reverse, labelpad, hist_kwargs, group, var_names, filter_vars, coords, divergences, divergences_kwargs, labeller, **hist2d_kwargs)\u001b[0m\n\u001b[1;32m    222\u001b[0m         logging\u001b[39m.\u001b[39mwarning(\n\u001b[1;32m    223\u001b[0m             \u001b[39m\"\u001b[39m\u001b[39mPlease install arviz to use the advanced features of corner\u001b[39m\u001b[39m\"\u001b[39m\n\u001b[1;32m    224\u001b[0m         )\n\u001b[1;32m    226\u001b[0m     \u001b[39mreturn\u001b[39;00m corner_impl(\n\u001b[1;32m    227\u001b[0m         data,\n\u001b[1;32m    228\u001b[0m         bins\u001b[39m=\u001b[39mbins,\n\u001b[0;32m   (...)\u001b[0m\n\u001b[1;32m    253\u001b[0m         \u001b[39m*\u001b[39m\u001b[39m*\u001b[39mhist2d_kwargs,\n\u001b[1;32m    254\u001b[0m     )\n\u001b[0;32m--> 256\u001b[0m \u001b[39mreturn\u001b[39;00m arviz_corner(\n\u001b[1;32m    257\u001b[0m     data,\n\u001b[1;32m    258\u001b[0m     bins\u001b[39m=\u001b[39;49mbins,\n\u001b[1;32m    259\u001b[0m     \u001b[39mrange\u001b[39;49m\u001b[39m=\u001b[39;49m\u001b[39mrange\u001b[39;49m,\n\u001b[1;32m    260\u001b[0m     weights\u001b[39m=\u001b[39;49mweights,\n\u001b[1;32m    261\u001b[0m     color\u001b[39m=\u001b[39;49mcolor,\n\u001b[1;32m    262\u001b[0m     hist_bin_factor\u001b[39m=\u001b[39;49mhist_bin_factor,\n\u001b[1;32m    263\u001b[0m     smooth\u001b[39m=\u001b[39;49msmooth,\n\u001b[1;32m    264\u001b[0m     smooth1d\u001b[39m=\u001b[39;49msmooth1d,\n\u001b[1;32m    265\u001b[0m     labels\u001b[39m=\u001b[39;49mlabels,\n\u001b[1;32m    266\u001b[0m     label_kwargs\u001b[39m=\u001b[39;49mlabel_kwargs,\n\u001b[1;32m    267\u001b[0m     titles\u001b[39m=\u001b[39;49mtitles,\n\u001b[1;32m    268\u001b[0m     show_titles\u001b[39m=\u001b[39;49mshow_titles,\n\u001b[1;32m    269\u001b[0m     title_fmt\u001b[39m=\u001b[39;49mtitle_fmt,\n\u001b[1;32m    270\u001b[0m     title_kwargs\u001b[39m=\u001b[39;49mtitle_kwargs,\n\u001b[1;32m    271\u001b[0m     truths\u001b[39m=\u001b[39;49mtruths,\n\u001b[1;32m    272\u001b[0m     truth_color\u001b[39m=\u001b[39;49mtruth_color,\n\u001b[1;32m    273\u001b[0m     scale_hist\u001b[39m=\u001b[39;49mscale_hist,\n\u001b[1;32m    274\u001b[0m     quantiles\u001b[39m=\u001b[39;49mquantiles,\n\u001b[1;32m    275\u001b[0m     verbose\u001b[39m=\u001b[39;49mverbose,\n\u001b[1;32m    276\u001b[0m     fig\u001b[39m=\u001b[39;49mfig,\n\u001b[1;32m    277\u001b[0m     max_n_ticks\u001b[39m=\u001b[39;49mmax_n_ticks,\n\u001b[1;32m    278\u001b[0m     top_ticks\u001b[39m=\u001b[39;49mtop_ticks,\n\u001b[1;32m    279\u001b[0m     use_math_text\u001b[39m=\u001b[39;49muse_math_text,\n\u001b[1;32m    280\u001b[0m     reverse\u001b[39m=\u001b[39;49mreverse,\n\u001b[1;32m    281\u001b[0m     labelpad\u001b[39m=\u001b[39;49mlabelpad,\n\u001b[1;32m    282\u001b[0m     hist_kwargs\u001b[39m=\u001b[39;49mhist_kwargs,\n\u001b[1;32m    283\u001b[0m     group\u001b[39m=\u001b[39;49mgroup,\n\u001b[1;32m    284\u001b[0m     var_names\u001b[39m=\u001b[39;49mvar_names,\n\u001b[1;32m    285\u001b[0m     filter_vars\u001b[39m=\u001b[39;49mfilter_vars,\n\u001b[1;32m    286\u001b[0m     coords\u001b[39m=\u001b[39;49mcoords,\n\u001b[1;32m    287\u001b[0m     divergences\u001b[39m=\u001b[39;49mdivergences,\n\u001b[1;32m    288\u001b[0m     divergences_kwargs\u001b[39m=\u001b[39;49mdivergences_kwargs,\n\u001b[1;32m    289\u001b[0m     labeller\u001b[39m=\u001b[39;49mlabeller,\n\u001b[1;32m    290\u001b[0m     \u001b[39m*\u001b[39;49m\u001b[39m*\u001b[39;49mhist2d_kwargs,\n\u001b[1;32m    291\u001b[0m )\n",
      "File \u001b[0;32m~/miniconda3/envs/KalmanGW/lib/python3.10/site-packages/corner/arviz_corner.py:136\u001b[0m, in \u001b[0;36marviz_corner\u001b[0;34m(data, bins, range, weights, color, hist_bin_factor, smooth, smooth1d, labels, label_kwargs, titles, show_titles, title_fmt, title_kwargs, truths, truth_color, scale_hist, quantiles, verbose, fig, max_n_ticks, top_ticks, use_math_text, reverse, labelpad, hist_kwargs, group, var_names, filter_vars, coords, divergences, divergences_kwargs, labeller, **hist2d_kwargs)\u001b[0m\n\u001b[1;32m    134\u001b[0m \u001b[39m# Coerce the samples into the expected format\u001b[39;00m\n\u001b[1;32m    135\u001b[0m samples \u001b[39m=\u001b[39m np\u001b[39m.\u001b[39mstack([x[\u001b[39m-\u001b[39m\u001b[39m1\u001b[39m]\u001b[39m.\u001b[39mflatten() \u001b[39mfor\u001b[39;00m x \u001b[39min\u001b[39;00m plotters], axis\u001b[39m=\u001b[39m\u001b[39m-\u001b[39m\u001b[39m1\u001b[39m)\n\u001b[0;32m--> 136\u001b[0m fig \u001b[39m=\u001b[39m corner_impl(\n\u001b[1;32m    137\u001b[0m     samples,\n\u001b[1;32m    138\u001b[0m     bins\u001b[39m=\u001b[39;49mbins,\n\u001b[1;32m    139\u001b[0m     \u001b[39mrange\u001b[39;49m\u001b[39m=\u001b[39;49m\u001b[39mrange\u001b[39;49m,\n\u001b[1;32m    140\u001b[0m     weights\u001b[39m=\u001b[39;49mweights,\n\u001b[1;32m    141\u001b[0m     color\u001b[39m=\u001b[39;49mcolor,\n\u001b[1;32m    142\u001b[0m     hist_bin_factor\u001b[39m=\u001b[39;49mhist_bin_factor,\n\u001b[1;32m    143\u001b[0m     smooth\u001b[39m=\u001b[39;49msmooth,\n\u001b[1;32m    144\u001b[0m     smooth1d\u001b[39m=\u001b[39;49msmooth1d,\n\u001b[1;32m    145\u001b[0m     labels\u001b[39m=\u001b[39;49mlabels,\n\u001b[1;32m    146\u001b[0m     label_kwargs\u001b[39m=\u001b[39;49mlabel_kwargs,\n\u001b[1;32m    147\u001b[0m     titles\u001b[39m=\u001b[39;49mtitles,\n\u001b[1;32m    148\u001b[0m     show_titles\u001b[39m=\u001b[39;49mshow_titles,\n\u001b[1;32m    149\u001b[0m     title_fmt\u001b[39m=\u001b[39;49mtitle_fmt,\n\u001b[1;32m    150\u001b[0m     title_kwargs\u001b[39m=\u001b[39;49mtitle_kwargs,\n\u001b[1;32m    151\u001b[0m     truths\u001b[39m=\u001b[39;49mtruths,\n\u001b[1;32m    152\u001b[0m     truth_color\u001b[39m=\u001b[39;49mtruth_color,\n\u001b[1;32m    153\u001b[0m     scale_hist\u001b[39m=\u001b[39;49mscale_hist,\n\u001b[1;32m    154\u001b[0m     quantiles\u001b[39m=\u001b[39;49mquantiles,\n\u001b[1;32m    155\u001b[0m     verbose\u001b[39m=\u001b[39;49mverbose,\n\u001b[1;32m    156\u001b[0m     fig\u001b[39m=\u001b[39;49mfig,\n\u001b[1;32m    157\u001b[0m     max_n_ticks\u001b[39m=\u001b[39;49mmax_n_ticks,\n\u001b[1;32m    158\u001b[0m     top_ticks\u001b[39m=\u001b[39;49mtop_ticks,\n\u001b[1;32m    159\u001b[0m     use_math_text\u001b[39m=\u001b[39;49muse_math_text,\n\u001b[1;32m    160\u001b[0m     reverse\u001b[39m=\u001b[39;49mreverse,\n\u001b[1;32m    161\u001b[0m     labelpad\u001b[39m=\u001b[39;49mlabelpad,\n\u001b[1;32m    162\u001b[0m     hist_kwargs\u001b[39m=\u001b[39;49mhist_kwargs,\n\u001b[1;32m    163\u001b[0m     \u001b[39m*\u001b[39;49m\u001b[39m*\u001b[39;49mhist2d_kwargs,\n\u001b[1;32m    164\u001b[0m )\n\u001b[1;32m    166\u001b[0m \u001b[39m# Get diverging draws and combine chains\u001b[39;00m\n\u001b[1;32m    167\u001b[0m \u001b[39mif\u001b[39;00m divergences:\n",
      "File \u001b[0;32m~/miniconda3/envs/KalmanGW/lib/python3.10/site-packages/corner/core.py:121\u001b[0m, in \u001b[0;36mcorner_impl\u001b[0;34m(xs, bins, range, weights, color, hist_bin_factor, smooth, smooth1d, labels, label_kwargs, titles, show_titles, title_fmt, title_kwargs, truths, truth_color, scale_hist, quantiles, verbose, fig, max_n_ticks, top_ticks, use_math_text, reverse, labelpad, hist_kwargs, **hist2d_kwargs)\u001b[0m\n\u001b[1;32m    119\u001b[0m         m \u001b[39m=\u001b[39m np\u001b[39m.\u001b[39marray([e[\u001b[39m0\u001b[39m] \u001b[39m==\u001b[39m e[\u001b[39m1\u001b[39m] \u001b[39mfor\u001b[39;00m e \u001b[39min\u001b[39;00m \u001b[39mrange\u001b[39m], dtype\u001b[39m=\u001b[39m\u001b[39mbool\u001b[39m)\n\u001b[1;32m    120\u001b[0m         \u001b[39mif\u001b[39;00m np\u001b[39m.\u001b[39many(m):\n\u001b[0;32m--> 121\u001b[0m             \u001b[39mraise\u001b[39;00m \u001b[39mValueError\u001b[39;00m(\n\u001b[1;32m    122\u001b[0m                 (\n\u001b[1;32m    123\u001b[0m                     \u001b[39m\"\u001b[39m\u001b[39mIt looks like the parameter(s) in \u001b[39m\u001b[39m\"\u001b[39m\n\u001b[1;32m    124\u001b[0m                     \u001b[39m\"\u001b[39m\u001b[39mcolumn(s) \u001b[39m\u001b[39m{0}\u001b[39;00m\u001b[39m have no dynamic range. \u001b[39m\u001b[39m\"\u001b[39m\n\u001b[1;32m    125\u001b[0m                     \u001b[39m\"\u001b[39m\u001b[39mPlease provide a `range` argument.\u001b[39m\u001b[39m\"\u001b[39m\n\u001b[1;32m    126\u001b[0m                 )\u001b[39m.\u001b[39mformat(\n\u001b[1;32m    127\u001b[0m                     \u001b[39m\"\u001b[39m\u001b[39m, \u001b[39m\u001b[39m\"\u001b[39m\u001b[39m.\u001b[39mjoin(\u001b[39mmap\u001b[39m(\u001b[39m\"\u001b[39m\u001b[39m{0}\u001b[39;00m\u001b[39m\"\u001b[39m\u001b[39m.\u001b[39mformat, np\u001b[39m.\u001b[39marange(\u001b[39mlen\u001b[39m(m))[m]))\n\u001b[1;32m    128\u001b[0m                 )\n\u001b[1;32m    129\u001b[0m             )\n\u001b[1;32m    131\u001b[0m \u001b[39melse\u001b[39;00m:\n\u001b[1;32m    132\u001b[0m     \u001b[39m# If any of the extents are percentiles, convert them to ranges.\u001b[39;00m\n\u001b[1;32m    133\u001b[0m     \u001b[39m# Also make sure it's a normal list.\u001b[39;00m\n\u001b[1;32m    134\u001b[0m     \u001b[39mrange\u001b[39m \u001b[39m=\u001b[39m \u001b[39mlist\u001b[39m(\u001b[39mrange\u001b[39m)\n",
      "\u001b[0;31mValueError\u001b[0m: It looks like the parameter(s) in column(s) 0 have no dynamic range. Please provide a `range` argument."
     ]
    },
    {
     "data": {
      "image/png": "[encoded data removed]",
      "text/plain": [
       "<Figure size 760x760 with 9 Axes>"
      ]
     },
     "metadata": {},
     "output_type": "display_data"
    }
   ],
   "source": [
    "labels = [r'$\\omega$', r'h',r'd',r'd']\n",
    "injection_parameters = [5e-7,1e-2,3.23622243e+10]\n",
    "axes_scales = [\"log\", \"linear\"]\n",
    "#path = \"../data/nested_sampling/diagonal55_result.json\"\n",
    "path = \"../data/nested_sampling/original_params_result.json\"\n",
    "plot_custom_corner(path,labels, injection_parameters,axes_scales)"
   ]
  },
  {
   "cell_type": "code",
   "execution_count": 30,
   "metadata": {},
   "outputs": [
    {
     "name": "stdout",
     "output_type": "stream",
     "text": [
      "AxesSubplot(0.181818,0.563636;0.363636x0.363636)\n",
      "AxesSubplot(0.563636,0.563636;0.363636x0.363636)\n",
      "AxesSubplot(0.181818,0.181818;0.363636x0.363636)\n",
      "AxesSubplot(0.563636,0.181818;0.363636x0.363636)\n"
     ]
    },
    {
     "data": {
      "text/plain": [
       "(1e-09, 1e-06)"
      ]
     },
     "execution_count": 30,
     "metadata": {},
     "output_type": "execute_result"
    },
    {
     "data": {
      "image/png": "[encoded data removed]",
      "text/plain": [
       "<Figure size 550x550 with 4 Axes>"
      ]
     },
     "metadata": {},
     "output_type": "display_data"
    }
   ],
   "source": [
    "\n",
    "\n",
    "\n",
    "\n",
    "\n",
    "# r'$\\Phi_0$', r'$\\psi$', r'$\\iota$', r'$\\delta$', r'$\\alpha$', 'h',\n",
    "#        r'$\\sigma_p$']\n",
    "\n",
    "truths = [5e-7,0.20,2.50,1.0,1.0,1.0,1e-2,1e-8]\n",
    "\n",
    "\n",
    "#truths = [3.33,3.33,3.33,3.33,3.33,3.33,3.33,3.33]\n",
    "#,\"linear\",\"linear\",\"linear\",\"linear\",\"linear\",\"linear\"]\n",
    "\n",
    "\n",
    "\n",
    "axes = fig.get_axes()\n",
    "\n",
    "\n",
    "\n",
    "for ax in axes:\n",
    "    print(ax)\n",
    "axes[0].set_xlim(1e-9,1e-6)\n",
    "#axes[1].set_xlim(1e-9,1e-6)\n",
    "axes[2].set_xlim(1e-9,1e-6)\n",
    "\n",
    "\n",
    "\n",
    "#corner.overplot_lines(fig, truths, color=\"C1\")\n",
    "\n",
    "\n",
    "#plt.savefig(\"../data/plots/example_corner_plot.png\",dpi=300, bbox_inches = \"tight\")\n",
    "\n",
    "\n",
    "\n",
    "\n",
    "#fig = corner.corner(y,truths=truths)\n"
   ]
  },
  {
   "cell_type": "code",
   "execution_count": null,
   "metadata": {},
   "outputs": [],
   "source": [
    "import matplotlib.pyplot as plt \n",
    "import corner\n",
    "labels = [r'$\\omega$', r'h']\n",
    "\n",
    "\n",
    "\n",
    "# r'$\\Phi_0$', r'$\\psi$', r'$\\iota$', r'$\\delta$', r'$\\alpha$', 'h',\n",
    "#        r'$\\sigma_p$']\n",
    "\n",
    "truths = [5e-7,0.20,2.50,1.0,1.0,1.0,1e-2,1e-8]\n",
    "\n",
    "\n",
    "#truths = [3.33,3.33,3.33,3.33,3.33,3.33,3.33,3.33]\n",
    "truths = [5e-7,1e-2]\n",
    "axes_scale = [\"log\", \"linear\"]#,\"linear\",\"linear\",\"linear\",\"linear\",\"linear\",\"linear\"]\n",
    "\n",
    "fig = corner.corner(y,color='C0',show_titles=True,smooth=True, smooth1d=True,labels=labels,truth_color='C1',quantiles=[0.16, 0.84],truths=truths)\n",
    "\n",
    "\n",
    "\n",
    "\n",
    "\n",
    "#corner.overplot_lines(fig, truths, color=\"C1\")\n",
    "\n",
    "\n",
    "#plt.savefig(\"../data/plots/example_corner_plot.png\",dpi=300, bbox_inches = \"tight\")\n",
    "\n",
    "\n",
    "\n",
    "\n",
    "#fig = corner.corner(y,truths=truths)\n"
   ]
  },
  {
   "cell_type": "code",
   "execution_count": 3,
   "metadata": {},
   "outputs": [
    {
     "data": {
      "text/plain": [
       "{'mass_1': 36.0,\n",
       " 'mass_2': 29.0,\n",
       " 'a_1': 0.4,\n",
       " 'a_2': 0.3,\n",
       " 'tilt_1': 0.5,\n",
       " 'tilt_2': 1.0,\n",
       " 'phi_12': 1.7,\n",
       " 'phi_jl': 0.3,\n",
       " 'luminosity_distance': 2000.0,\n",
       " 'theta_jn': 0.4,\n",
       " 'psi': 2.659,\n",
       " 'phase': 1.3,\n",
       " 'geocent_time': 1126259642.413,\n",
       " 'ra': 1.375,\n",
       " 'dec': -1.2108}"
      ]
     },
     "execution_count": 3,
     "metadata": {},
     "output_type": "execute_result"
    }
   ],
   "source": [
    "samples = result.posterior.to_numpy()[:, :7].copy()\n",
    "\n",
    "\n",
    "samples[:, 0:7] = np.log10(samples[:, 0:7])\n",
    "\n",
    "labels = ['$log_{10} \\\\gamma_{\\\\Omega}$ $[\\\\rm{s^{-1}}]$', '$log_{10} \\\\gamma_{Q}$ $[\\\\rm{s^{-1}}]$', '$log_{10} \\\\gamma_{S}$ $[\\\\rm{s^{-1}}]$', '$log_{10} \\\\gamma_{\\\\eta}$  $[\\\\rm{s^{-1}}]$',\n",
    "                  '$log_{10} \\\\sigma_{Q}$  $[\\\\rm{s^{-1/2}}]$', '$log_{10} \\\\sigma_{S}$  $[\\\\rm{s^{-1/2}}]$', '$log_{10} \\\\sigma_{\\\\eta}$  $[\\\\rm{s^{-1/2}}]$']\n",
    "\n",
    "fig = corner(samples, truths=[np.log10(gamma_omega), np.log10(gamma_Q), np.log10(gamma_S), np.log10(gamma_eta), np.log10(sigma_Q), np.log10(sigma_S), np.log10(sigma_eta)],\n",
    "                     range = [(-14, -8), (-8, -5), (-8, -5), (-8, -5), (-8, -3), (-8, -3), (-8, -3)],\n",
    "                     color='b', smooth=True, smooth1d=True, levels=[1-np.exp(-0.5), 1 - np.exp(-2), 1 - np.exp(-9/2)])\n",
    "\n",
    "axarr = np.reshape(fig.axes, (len(labels), len(labels)))\n",
    "for ii, label in enumerate(labels):\n",
    "            axarr[ii,ii].set_title(label, fontsize=18)\n",
    "            axarr[ii,0].yaxis.set_tick_params(labelsize=15)\n",
    "\n",
    "\n",
    "            \n",
    "for ax in axarr[-1, :]:\n",
    "            ax.xaxis.set_tick_params(labelsize=14)"
   ]
  },
  {
   "cell_type": "code",
   "execution_count": 14,
   "metadata": {},
   "outputs": [],
   "source": [
    "import numpy as np\n",
    "import corner \n",
    "ndim, nsamples = 2, 10000\n",
    "np.random.seed(42)\n",
    "samples = np.random.randn(ndim * nsamples).reshape([nsamples, ndim])"
   ]
  },
  {
   "cell_type": "code",
   "execution_count": 31,
   "metadata": {},
   "outputs": [
    {
     "data": {
      "image/png": "[encoded data removed]",
      "text/plain": [
       "<Figure size 550x550 with 4 Axes>"
      ]
     },
     "metadata": {},
     "output_type": "display_data"
    }
   ],
   "source": [
    "ndim, nsamples = 2, 10000\n",
    "np.random.seed(42)\n",
    "samples = np.random.randn(ndim * nsamples).reshape([nsamples, ndim])\n",
    "figure = corner.corner(samples)"
   ]
  },
  {
   "cell_type": "code",
   "execution_count": 45,
   "metadata": {},
   "outputs": [
    {
     "name": "stdout",
     "output_type": "stream",
     "text": [
      "0 $log_{10} \\gamma_{\\Omega}$ $[\\rm{s^{-1}}]$\n",
      "1 $log_{10} \\gamma_{Q}$ $[\\rm{s^{-1}}]$\n",
      "2 $log_{10} \\gamma_{S}$ $[\\rm{s^{-1}}]$\n",
      "3 $log_{10} \\gamma_{\\eta}$  $[\\rm{s^{-1}}]$\n",
      "4 $log_{10} \\sigma_{Q}$  $[\\rm{s^{-1/2}}]$\n",
      "5 $log_{10} \\sigma_{S}$  $[\\rm{s^{-1/2}}]$\n",
      "6 $log_{10} \\sigma_{\\eta}$  $[\\rm{s^{-1/2}}]$\n"
     ]
    }
   ],
   "source": [
    "\n",
    "labels = ['$log_{10} \\\\gamma_{\\\\Omega}$ $[\\\\rm{s^{-1}}]$', '$log_{10} \\\\gamma_{Q}$ $[\\\\rm{s^{-1}}]$', '$log_{10} \\\\gamma_{S}$ $[\\\\rm{s^{-1}}]$', '$log_{10} \\\\gamma_{\\\\eta}$  $[\\\\rm{s^{-1}}]$',\n",
    "                  '$log_{10} \\\\sigma_{Q}$  $[\\\\rm{s^{-1/2}}]$', '$log_{10} \\\\sigma_{S}$  $[\\\\rm{s^{-1/2}}]$', '$log_{10} \\\\sigma_{\\\\eta}$  $[\\\\rm{s^{-1/2}}]$']\n",
    "\n",
    "\n",
    "for ii, label in enumerate(labels):\n",
    "            print(ii, label)"
   ]
  },
  {
   "cell_type": "code",
   "execution_count": 32,
   "metadata": {},
   "outputs": [
    {
     "data": {
      "text/plain": [
       "array([[ 0.49671415, -0.1382643 ],\n",
       "       [ 0.64768854,  1.52302986],\n",
       "       [-0.23415337, -0.23413696],\n",
       "       ...,\n",
       "       [ 0.95259051,  0.38782734],\n",
       "       [ 1.37736658,  0.37835397],\n",
       "       [ 1.71352973, -1.6199198 ]])"
      ]
     },
     "execution_count": 32,
     "metadata": {},
     "output_type": "execute_result"
    }
   ],
   "source": [
    "samples"
   ]
  },
  {
   "cell_type": "code",
   "execution_count": 33,
   "metadata": {},
   "outputs": [
    {
     "data": {
      "text/plain": [
       "(10000, 2)"
      ]
     },
     "execution_count": 33,
     "metadata": {},
     "output_type": "execute_result"
    }
   ],
   "source": [
    "samples.shape"
   ]
  },
  {
   "cell_type": "code",
   "execution_count": null,
   "metadata": {},
   "outputs": [],
   "source": [
    "injection_parameters = dict(\n",
    "    omega_gw=5e-7,\n",
    "    phi0_gw=0.20,\n",
    "    psi_gw=2.50,\n",
    "    iota_gw=1.0,\n",
    "    delta_gw=1.0,\n",
    "    alpha_gw=1.0,\n",
    "    h=1e-2,\n",
    "    f0=327.8470205611185,\n",
    "    fdot=-1.227834e-15,\n",
    "    distance=181816860005.41092,\n",
    "    gamma=1e-13,\n",
    "    sigma_p=1e-8,\n",
    "    sigma_m=1e-08\n",
    ")"
   ]
  },
  {
   "attachments": {},
   "cell_type": "markdown",
   "metadata": {},
   "source": [
    "samples = result.samples\n",
    "labels = result.parameter_labels\n",
    "fig = corner.corner(samples, labels=labels)\n",
    "plt.show()\n",
    "plt.close()"
   ]
  }
 ],
 "metadata": {
  "kernelspec": {
   "display_name": "KalmanGW",
   "language": "python",
   "name": "python3"
  },
  "language_info": {
   "codemirror_mode": {
    "name": "ipython",
    "version": 3
   },
   "file_extension": ".py",
   "mimetype": "text/x-python",
   "name": "python",
   "nbconvert_exporter": "python",
   "pygments_lexer": "ipython3",
   "version": "3.10.4"
  },
  "orig_nbformat": 4
 },
 "nbformat": 4,
 "nbformat_minor": 2
}
