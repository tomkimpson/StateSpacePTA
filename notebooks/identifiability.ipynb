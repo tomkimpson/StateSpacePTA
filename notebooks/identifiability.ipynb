{
 "cells": [
  {
   "cell_type": "code",
   "execution_count": 1,
   "metadata": {},
   "outputs": [
    {
     "data": {
      "text/plain": [
       "2"
      ]
     },
     "execution_count": 1,
     "metadata": {},
     "output_type": "execute_result"
    }
   ],
   "source": [
    "1+1"
   ]
  },
  {
   "cell_type": "code",
   "execution_count": 2,
   "metadata": {},
   "outputs": [],
   "source": [
    "%load_ext autoreload\n",
    "%autoreload 2"
   ]
  },
  {
   "cell_type": "code",
   "execution_count": 3,
   "metadata": {},
   "outputs": [],
   "source": [
    "import sys\n",
    "try:\n",
    "    sys.path.remove(\"../py_src\") # Hacky way to add higher directory to python modules path. \n",
    "except:\n",
    "    pass\n",
    "sys.path.append(\"../py_src\") # Means that I dont have to make src/ a proper python package"
   ]
  },
  {
   "cell_type": "code",
   "execution_count": 4,
   "metadata": {},
   "outputs": [],
   "source": [
    "from system_parameters import SystemParameters\n",
    "from pulsars import Pulsars\n",
    "from gravitational_waves import GWs\n",
    "from synthetic_data import SyntheticData\n",
    "from plotting import plot_statespace,plot_all\n",
    "from model import LinearModel\n",
    "from kalman_filter import KalmanFilter\n",
    "from bilby_wrapper import BilbySampler\n",
    "from priors import priors_dict,bilby_priors_dict"
   ]
  },
  {
   "cell_type": "code",
   "execution_count": 48,
   "metadata": {},
   "outputs": [
    {
     "name": "stdout",
     "output_type": "stream",
     "text": [
      "The number of pulsars is:  47\n",
      "5.001e-07\n",
      "11817980932655.445\n",
      "22545.238888357337\n"
     ]
    }
   ],
   "source": [
    "P   = SystemParameters()       # define the system parameters as a class\n",
    "PTA = Pulsars(P)               # setup the PTA\n",
    "GW  = GWs(P)                   # setup GW related constants and functions. This is a dict, not a class, for interaction later with Bilby \n",
    "data = SyntheticData(PTA,GW,1) # generate some synthetic data\n",
    "\n",
    "\n",
    "#Define the model \n",
    "model = LinearModel\n",
    "\n",
    "#Initialise the Kalman filter\n",
    "KF = KalmanFilter(model,data.f_measured,PTA)\n",
    "\n",
    "true_parameters = priors_dict(PTA,GW)\n",
    "\n",
    "\n",
    "\n",
    "def likelihood_wrapper(p):\n",
    "\n",
    "    g = true_parameters.copy()\n",
    "    g[\"omega_gw\"] = p\n",
    "    #print(\"LETS GOOOOO\")\n",
    "    model_likelihood,model_predictions = KF.likelihood_and_states(g)\n",
    "\n",
    "    #plot_all(PTA.t,data.intrinsic_frequency,data.f_measured,model_predictions,psr_index =0)\n",
    "    #print(model_likelihood)\n",
    "\n",
    "    #print(-model_likelihood)\n",
    "    return -model_likelihood\n",
    "\n",
    "\n",
    "from scipy.optimize import minimize\n",
    "\n",
    "\n",
    "import numpy as np \n",
    "x0 = np.array([5.001e-7])\n",
    "\n",
    "\n",
    "res = minimize(likelihood_wrapper, x0, method='BFGS', tol=1e-12)\n",
    "value = res.x[0]\n",
    "l = likelihood_wrapper(value)\n",
    "\n",
    "\n",
    "print(value)\n",
    "print(l)\n",
    "\n",
    "\n",
    "g = true_parameters.copy()\n",
    "g[\"omega_gw\"] = 5e-7\n",
    "model_likelihood,model_predictions = KF.likelihood_and_states(g)\n",
    "print(-model_likelihood)\n"
   ]
  },
  {
   "cell_type": "code",
   "execution_count": 35,
   "metadata": {},
   "outputs": [
    {
     "data": {
      "text/plain": [
       "9.999022554373368e-06"
      ]
     },
     "execution_count": 35,
     "metadata": {},
     "output_type": "execute_result"
    }
   ],
   "source": [
    "value "
   ]
  },
  {
   "cell_type": "code",
   "execution_count": 24,
   "metadata": {},
   "outputs": [
    {
     "data": {
      "text/plain": [
       "dtype('float64')"
      ]
     },
     "execution_count": 24,
     "metadata": {},
     "output_type": "execute_result"
    }
   ],
   "source": [
    "x0.dtype"
   ]
  },
  {
   "cell_type": "code",
   "execution_count": null,
   "metadata": {},
   "outputs": [],
   "source": []
  }
 ],
 "metadata": {
  "kernelspec": {
   "display_name": "KalmanGW",
   "language": "python",
   "name": "python3"
  },
  "language_info": {
   "codemirror_mode": {
    "name": "ipython",
    "version": 3
   },
   "file_extension": ".py",
   "mimetype": "text/x-python",
   "name": "python",
   "nbconvert_exporter": "python",
   "pygments_lexer": "ipython3",
   "version": "3.10.4"
  },
  "orig_nbformat": 4
 },
 "nbformat": 4,
 "nbformat_minor": 2
}
