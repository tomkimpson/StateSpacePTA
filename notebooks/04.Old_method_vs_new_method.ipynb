{
 "cells": [
  {
   "cell_type": "markdown",
   "metadata": {},
   "source": [
    "# Old method vs new method\n",
    "\n",
    "This notebook compares the old equations that we used in the Kalman filter vs. the ones that we use now.\n",
    "\n",
    "---"
   ]
  },
  {
   "cell_type": "markdown",
   "metadata": {},
   "source": [
    "### Setup"
   ]
  },
  {
   "cell_type": "code",
   "execution_count": 1,
   "metadata": {},
   "outputs": [],
   "source": [
    "%load_ext autoreload\n",
    "%autoreload 2"
   ]
  },
  {
   "cell_type": "code",
   "execution_count": 2,
   "metadata": {},
   "outputs": [],
   "source": [
    "h = 1e-12\n",
    "measurement_noise = 1e-11\n",
    "seed = 1237"
   ]
  },
  {
   "cell_type": "code",
   "execution_count": 3,
   "metadata": {},
   "outputs": [],
   "source": [
    "import logging \n",
    "logger = logging.getLogger().setLevel(logging.ERROR)"
   ]
  },
  {
   "cell_type": "code",
   "execution_count": 4,
   "metadata": {},
   "outputs": [
    {
     "name": "stderr",
     "output_type": "stream",
     "text": [
      "INFO:root:Welcome to the Kalman Filter Nested Sampler for PTA GW systems\n",
      "INFO:root:Random seed is 1237\n",
      "INFO:root:You are assigning the σp terms randomly\n",
      "INFO:root:You are including the PSR terms in your synthetic data generation\n",
      "INFO:root:Setting the bilby priors dict\n",
      "INFO:root:Using the GW priors for the measurement model\n",
      "INFO:root:Sigma p true value is sigma_p0 9.769327690311607e-20\n",
      "INFO:root:Sigma p true value is sigma_p1 3.8639377766942156e-20\n"
     ]
    }
   ],
   "source": [
    "#Old method \n",
    "from tmp_code.system_parameters import SystemParameters as OldSystemParameters\n",
    "from tmp_code.model import LinearModel as OldLinearModel\n",
    "from tmp_code.kalman_filter import KalmanFilter as OldKalmanFilter\n",
    "from tmp_code.pulsars import Pulsars as OldPulsars\n",
    "from tmp_code.synthetic_data import SyntheticData as OldSyntheticData\n",
    "from tmp_code.priors import bilby_priors_dict as Oldbilby_priors_dict\n",
    "\n",
    "P    = OldSystemParameters(h=h,σp=None,σm=measurement_noise,seed=seed,Npsr=2)       #define the system parameters as a class\n",
    "\n",
    "PTA  = OldPulsars(P)               # setup the PTA\n",
    "old_data = OldSyntheticData(PTA,P)     # generate some synthetic data\n",
    "\n",
    "\n",
    "#Define the model \n",
    "model = OldLinearModel(P)\n",
    "\n",
    "#Initialise the Kalman filter\n",
    "KF = OldKalmanFilter(model,old_data.f_measured,PTA)\n",
    "\n",
    "#Sample from a dict prior \n",
    "init_p,parameter_priors = Oldbilby_priors_dict(PTA,P)\n",
    "parameters_sample = parameter_priors.sample(1)\n",
    "old_ll,xx,yy = KF.likelihood(parameters_sample)\n",
    "\n"
   ]
  },
  {
   "cell_type": "code",
   "execution_count": 5,
   "metadata": {},
   "outputs": [
    {
     "name": "stderr",
     "output_type": "stream",
     "text": [
      "INFO:root:Welcome to the Kalman Filter Nested Sampler for PTA GW systems\n",
      "INFO:root:Random seed is 1237\n",
      "INFO:root:You are assigning the σp terms randomly\n",
      "INFO:root:You are including the PSR terms in your synthetic data generation\n",
      "INFO:root:You are using the Pulsar terms measurement model\n"
     ]
    }
   ],
   "source": [
    "#New method \n",
    "\n",
    "import sys\n",
    "import json \n",
    "import pandas as pd \n",
    "try:\n",
    "    sys.path.remove(\"../py_src\") # Hacky way to add higher directory to python modules path. \n",
    "except:\n",
    "    pass\n",
    "sys.path.append(\"../py_src\") # Means that I dont have to make src/ a proper python package\n",
    "\n",
    "\n",
    "\n",
    "\n",
    "\n",
    "from system_parameters import SystemParameters as NewSystemParameters\n",
    "from model import LinearModel as NewLinearModel\n",
    "from kalman_filter import KalmanFilter as NewKalmanFilter\n",
    "from pulsars import Pulsars as NewPulsars\n",
    "from synthetic_data import SyntheticData as NewSyntheticData\n",
    "from priors import bilby_priors_dict as Newbilby_priors_dict\n",
    "\n",
    "P    = NewSystemParameters(h=h,σp=None,σm=measurement_noise,seed=seed,Npsr=2)       #define the system parameters as a class\n",
    "\n",
    "PTA  = NewPulsars(P)               # setup the PTA\n",
    "new_data = NewSyntheticData(PTA,P)     # generate some synthetic data\n",
    "\n",
    "\n",
    "#Define the model \n",
    "model = NewLinearModel(P)\n",
    "\n",
    "#Initialise the Kalman filter\n",
    "KF = NewKalmanFilter(model,new_data.f_measured,PTA)\n",
    "\n",
    "#Sample from a dict prior \n",
    "new_ll = KF.likelihood(parameters_sample)\n",
    "\n"
   ]
  },
  {
   "cell_type": "code",
   "execution_count": 6,
   "metadata": {},
   "outputs": [
    {
     "data": {
      "text/plain": [
       "True"
      ]
     },
     "execution_count": 6,
     "metadata": {},
     "output_type": "execute_result"
    }
   ],
   "source": [
    "#Is the data the same?\n",
    "import numpy as np \n",
    "np.allclose(new_data.f_measured, old_data.f_measured)"
   ]
  },
  {
   "cell_type": "code",
   "execution_count": 13,
   "metadata": {},
   "outputs": [
    {
     "data": {
      "text/plain": [
       "True"
      ]
     },
     "execution_count": 13,
     "metadata": {},
     "output_type": "execute_result"
    }
   ],
   "source": [
    "#Are the likelihoods the same?\n",
    "np.isclose(old_ll,new_ll)"
   ]
  },
  {
   "cell_type": "code",
   "execution_count": null,
   "metadata": {},
   "outputs": [],
   "source": []
  }
 ],
 "metadata": {
  "kernelspec": {
   "display_name": "KalmanGW",
   "language": "python",
   "name": "python3"
  },
  "language_info": {
   "codemirror_mode": {
    "name": "ipython",
    "version": 3
   },
   "file_extension": ".py",
   "mimetype": "text/x-python",
   "name": "python",
   "nbconvert_exporter": "python",
   "pygments_lexer": "ipython3",
   "version": "3.10.4"
  },
  "orig_nbformat": 4
 },
 "nbformat": 4,
 "nbformat_minor": 2
}
