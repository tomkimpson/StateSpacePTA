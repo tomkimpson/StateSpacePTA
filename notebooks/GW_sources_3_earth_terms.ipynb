{
 "cells": [
  {
   "cell_type": "markdown",
   "metadata": {},
   "source": [
    "# Review HD results\n",
    "\n",
    "\n",
    "This notebook compares the posteriors derived using the Earth terms and the pulsar terms \n",
    "\n",
    "---"
   ]
  },
  {
   "cell_type": "markdown",
   "metadata": {},
   "source": [
    "First load everything:"
   ]
  },
  {
   "cell_type": "code",
   "execution_count": 1,
   "metadata": {},
   "outputs": [],
   "source": [
    "%load_ext autoreload\n",
    "%autoreload 2"
   ]
  },
  {
   "cell_type": "code",
   "execution_count": 2,
   "metadata": {},
   "outputs": [],
   "source": [
    "import sys\n",
    "import json \n",
    "import pandas as pd \n",
    "import numpy as np \n",
    "try:\n",
    "    sys.path.remove(\"../py_src\") # Hacky way to add higher directory to python modules path. \n",
    "except:\n",
    "    pass\n",
    "sys.path.append(\"../py_src\") # Means that I dont have to make src/ a proper python package"
   ]
  },
  {
   "cell_type": "markdown",
   "metadata": {},
   "source": [
    "# 3 sources example"
   ]
  },
  {
   "cell_type": "code",
   "execution_count": 3,
   "metadata": {},
   "outputs": [
    {
     "name": "stdout",
     "output_type": "stream",
     "text": [
      "Extracting data from file:  ../data/nested_sampling/earth_retry_k3_result.json\n",
      "The evidence is: 586042.5763029311\n",
      "The number of samples is: 1\n",
      "Variable/Injection/Median\n",
      "omega_gw_0 5e-07 5.017520292894937e-07\n",
      "omega_gw_1 7e-07 5.082327516126648e-07\n",
      "omega_gw_2 6e-07 6.00012190089668e-07\n",
      "phi0_gw_0 0.2 0.09563030035956702\n",
      "phi0_gw_1 1.5 1.182728836962269\n",
      "phi0_gw_2 0.1 0.6522973163304144\n",
      "psi_gw_0 2.5 2.2061813344813013\n",
      "psi_gw_1 0.35 1.7622572431023982\n",
      "psi_gw_2 2.9 1.736865058471371\n",
      "iota_gw_0 1.0 0.8098344675617953\n",
      "iota_gw_1 1.0 1.4574348564350994\n",
      "iota_gw_2 1.0 0.969688748694251\n",
      "delta_gw_0 1.0 0.9787067430080812\n",
      "delta_gw_1 0.7 0.8714320027881359\n",
      "delta_gw_2 1.11 1.3653105408760322\n",
      "alpha_gw_0 1.0 1.3047603870614901\n",
      "alpha_gw_1 1.3 1.9994277490896255\n",
      "alpha_gw_2 0.95 1.2547921737575458\n",
      "h_0 5e-15 6.157820919088659e-15\n",
      "h_1 5e-15 2.3160269771511563e-15\n",
      "h_2 5e-15 3.4164893181361664e-15\n",
      "-------------------------------\n"
     ]
    },
    {
     "ename": "AssertionError",
     "evalue": "I don't believe that you want more dimensions than samples!",
     "output_type": "error",
     "traceback": [
      "\u001b[0;31m---------------------------------------------------------------------------\u001b[0m",
      "\u001b[0;31mAssertionError\u001b[0m                            Traceback (most recent call last)",
      "\u001b[1;32m/Users/t1/github_repos/StateSpacePTA/notebooks/GW_sources_3_earth_terms.ipynb Cell 6\u001b[0m line \u001b[0;36m<cell line: 44>\u001b[0;34m()\u001b[0m\n\u001b[1;32m     <a href='vscode-notebook-cell:/Users/t1/github_repos/StateSpacePTA/notebooks/GW_sources_3_earth_terms.ipynb#W5sZmlsZQ%3D%3D?line=40'>41</a>\u001b[0m path \u001b[39m=\u001b[39m \u001b[39m'\u001b[39m\u001b[39m../data/nested_sampling/earth_retry_k3_result.json\u001b[39m\u001b[39m'\u001b[39m\n\u001b[1;32m     <a href='vscode-notebook-cell:/Users/t1/github_repos/StateSpacePTA/notebooks/GW_sources_3_earth_terms.ipynb#W5sZmlsZQ%3D%3D?line=42'>43</a>\u001b[0m \u001b[39m#Corner plot of GW parameters\u001b[39;00m\n\u001b[0;32m---> <a href='vscode-notebook-cell:/Users/t1/github_repos/StateSpacePTA/notebooks/GW_sources_3_earth_terms.ipynb#W5sZmlsZQ%3D%3D?line=43'>44</a>\u001b[0m plot_custom_corner(path,\n\u001b[1;32m     <a href='vscode-notebook-cell:/Users/t1/github_repos/StateSpacePTA/notebooks/GW_sources_3_earth_terms.ipynb#W5sZmlsZQ%3D%3D?line=44'>45</a>\u001b[0m                    np\u001b[39m.\u001b[39;49marray(variables_to_plot),\n\u001b[1;32m     <a href='vscode-notebook-cell:/Users/t1/github_repos/StateSpacePTA/notebooks/GW_sources_3_earth_terms.ipynb#W5sZmlsZQ%3D%3D?line=45'>46</a>\u001b[0m                    labels,\n\u001b[1;32m     <a href='vscode-notebook-cell:/Users/t1/github_repos/StateSpacePTA/notebooks/GW_sources_3_earth_terms.ipynb#W5sZmlsZQ%3D%3D?line=46'>47</a>\u001b[0m                    injection_parameters,\n\u001b[1;32m     <a href='vscode-notebook-cell:/Users/t1/github_repos/StateSpacePTA/notebooks/GW_sources_3_earth_terms.ipynb#W5sZmlsZQ%3D%3D?line=47'>48</a>\u001b[0m                    ranges,\n\u001b[1;32m     <a href='vscode-notebook-cell:/Users/t1/github_repos/StateSpacePTA/notebooks/GW_sources_3_earth_terms.ipynb#W5sZmlsZQ%3D%3D?line=48'>49</a>\u001b[0m                    axes_scales,\n\u001b[1;32m     <a href='vscode-notebook-cell:/Users/t1/github_repos/StateSpacePTA/notebooks/GW_sources_3_earth_terms.ipynb#W5sZmlsZQ%3D%3D?line=49'>50</a>\u001b[0m                    savefig\u001b[39m=\u001b[39;49m\u001b[39mNone\u001b[39;49;00m,\n\u001b[1;32m     <a href='vscode-notebook-cell:/Users/t1/github_repos/StateSpacePTA/notebooks/GW_sources_3_earth_terms.ipynb#W5sZmlsZQ%3D%3D?line=50'>51</a>\u001b[0m                    smooth\u001b[39m=\u001b[39;49m\u001b[39mTrue\u001b[39;49;00m,smooth1d\u001b[39m=\u001b[39;49m\u001b[39mTrue\u001b[39;49;00m)\n",
      "File \u001b[0;32m~/github_repos/StateSpacePTA/notebooks/../py_src/plotting.py:225\u001b[0m, in \u001b[0;36mplot_custom_corner\u001b[0;34m(path, variables_to_plot, labels, injection_parameters, ranges, axes_scales, scalings, savefig, logscale, title, smooth, smooth1d, fig)\u001b[0m\n\u001b[1;32m    223\u001b[0m \u001b[39m#Now plot it using corner.corner\u001b[39;00m\n\u001b[1;32m    224\u001b[0m fs \u001b[39m=\u001b[39m \u001b[39m20\u001b[39m\n\u001b[0;32m--> 225\u001b[0m newfig \u001b[39m=\u001b[39m corner\u001b[39m.\u001b[39;49mcorner(y_post, \n\u001b[1;32m    226\u001b[0m                     color\u001b[39m=\u001b[39;49m\u001b[39m'\u001b[39;49m\u001b[39mC0\u001b[39;49m\u001b[39m'\u001b[39;49m,\n\u001b[1;32m    227\u001b[0m                     show_titles\u001b[39m=\u001b[39;49m\u001b[39mTrue\u001b[39;49;00m,\n\u001b[1;32m    228\u001b[0m                     smooth\u001b[39m=\u001b[39;49msmooth,smooth1d\u001b[39m=\u001b[39;49msmooth1d,\n\u001b[1;32m    229\u001b[0m                     truth_color\u001b[39m=\u001b[39;49m\u001b[39m'\u001b[39;49m\u001b[39mC2\u001b[39;49m\u001b[39m'\u001b[39;49m,\n\u001b[1;32m    230\u001b[0m                     quantiles\u001b[39m=\u001b[39;49m[\u001b[39m0.16\u001b[39;49m, \u001b[39m0.84\u001b[39;49m], \u001b[39m#[0.16, 0.84]\u001b[39;49;00m\n\u001b[1;32m    231\u001b[0m                     truths \u001b[39m=\u001b[39;49m injection_parameters,\n\u001b[1;32m    232\u001b[0m                     \u001b[39mrange\u001b[39;49m\u001b[39m=\u001b[39;49mranges,\n\u001b[1;32m    233\u001b[0m                     labels \u001b[39m=\u001b[39;49m labels,\n\u001b[1;32m    234\u001b[0m                     label_kwargs\u001b[39m=\u001b[39;49m\u001b[39mdict\u001b[39;49m(fontsize\u001b[39m=\u001b[39;49mfs),\n\u001b[1;32m    235\u001b[0m                     axes_scales \u001b[39m=\u001b[39;49m axes_scales,\n\u001b[1;32m    236\u001b[0m                     fig\u001b[39m=\u001b[39;49mfig)\n\u001b[1;32m    239\u001b[0m \u001b[39m#Pretty-ify\u001b[39;00m\n\u001b[1;32m    240\u001b[0m \u001b[39mfor\u001b[39;00m ax \u001b[39min\u001b[39;00m newfig\u001b[39m.\u001b[39maxes:\n",
      "File \u001b[0;32m~/miniconda3/envs/KalmanGW/lib/python3.10/site-packages/corner/corner.py:256\u001b[0m, in \u001b[0;36mcorner\u001b[0;34m(data, bins, range, weights, color, hist_bin_factor, smooth, smooth1d, labels, label_kwargs, titles, show_titles, title_fmt, title_kwargs, truths, truth_color, scale_hist, quantiles, verbose, fig, max_n_ticks, top_ticks, use_math_text, reverse, labelpad, hist_kwargs, group, var_names, filter_vars, coords, divergences, divergences_kwargs, labeller, **hist2d_kwargs)\u001b[0m\n\u001b[1;32m    222\u001b[0m         logging\u001b[39m.\u001b[39mwarning(\n\u001b[1;32m    223\u001b[0m             \u001b[39m\"\u001b[39m\u001b[39mPlease install arviz to use the advanced features of corner\u001b[39m\u001b[39m\"\u001b[39m\n\u001b[1;32m    224\u001b[0m         )\n\u001b[1;32m    226\u001b[0m     \u001b[39mreturn\u001b[39;00m corner_impl(\n\u001b[1;32m    227\u001b[0m         data,\n\u001b[1;32m    228\u001b[0m         bins\u001b[39m=\u001b[39mbins,\n\u001b[0;32m   (...)\u001b[0m\n\u001b[1;32m    253\u001b[0m         \u001b[39m*\u001b[39m\u001b[39m*\u001b[39mhist2d_kwargs,\n\u001b[1;32m    254\u001b[0m     )\n\u001b[0;32m--> 256\u001b[0m \u001b[39mreturn\u001b[39;00m arviz_corner(\n\u001b[1;32m    257\u001b[0m     data,\n\u001b[1;32m    258\u001b[0m     bins\u001b[39m=\u001b[39;49mbins,\n\u001b[1;32m    259\u001b[0m     \u001b[39mrange\u001b[39;49m\u001b[39m=\u001b[39;49m\u001b[39mrange\u001b[39;49m,\n\u001b[1;32m    260\u001b[0m     weights\u001b[39m=\u001b[39;49mweights,\n\u001b[1;32m    261\u001b[0m     color\u001b[39m=\u001b[39;49mcolor,\n\u001b[1;32m    262\u001b[0m     hist_bin_factor\u001b[39m=\u001b[39;49mhist_bin_factor,\n\u001b[1;32m    263\u001b[0m     smooth\u001b[39m=\u001b[39;49msmooth,\n\u001b[1;32m    264\u001b[0m     smooth1d\u001b[39m=\u001b[39;49msmooth1d,\n\u001b[1;32m    265\u001b[0m     labels\u001b[39m=\u001b[39;49mlabels,\n\u001b[1;32m    266\u001b[0m     label_kwargs\u001b[39m=\u001b[39;49mlabel_kwargs,\n\u001b[1;32m    267\u001b[0m     titles\u001b[39m=\u001b[39;49mtitles,\n\u001b[1;32m    268\u001b[0m     show_titles\u001b[39m=\u001b[39;49mshow_titles,\n\u001b[1;32m    269\u001b[0m     title_fmt\u001b[39m=\u001b[39;49mtitle_fmt,\n\u001b[1;32m    270\u001b[0m     title_kwargs\u001b[39m=\u001b[39;49mtitle_kwargs,\n\u001b[1;32m    271\u001b[0m     truths\u001b[39m=\u001b[39;49mtruths,\n\u001b[1;32m    272\u001b[0m     truth_color\u001b[39m=\u001b[39;49mtruth_color,\n\u001b[1;32m    273\u001b[0m     scale_hist\u001b[39m=\u001b[39;49mscale_hist,\n\u001b[1;32m    274\u001b[0m     quantiles\u001b[39m=\u001b[39;49mquantiles,\n\u001b[1;32m    275\u001b[0m     verbose\u001b[39m=\u001b[39;49mverbose,\n\u001b[1;32m    276\u001b[0m     fig\u001b[39m=\u001b[39;49mfig,\n\u001b[1;32m    277\u001b[0m     max_n_ticks\u001b[39m=\u001b[39;49mmax_n_ticks,\n\u001b[1;32m    278\u001b[0m     top_ticks\u001b[39m=\u001b[39;49mtop_ticks,\n\u001b[1;32m    279\u001b[0m     use_math_text\u001b[39m=\u001b[39;49muse_math_text,\n\u001b[1;32m    280\u001b[0m     reverse\u001b[39m=\u001b[39;49mreverse,\n\u001b[1;32m    281\u001b[0m     labelpad\u001b[39m=\u001b[39;49mlabelpad,\n\u001b[1;32m    282\u001b[0m     hist_kwargs\u001b[39m=\u001b[39;49mhist_kwargs,\n\u001b[1;32m    283\u001b[0m     group\u001b[39m=\u001b[39;49mgroup,\n\u001b[1;32m    284\u001b[0m     var_names\u001b[39m=\u001b[39;49mvar_names,\n\u001b[1;32m    285\u001b[0m     filter_vars\u001b[39m=\u001b[39;49mfilter_vars,\n\u001b[1;32m    286\u001b[0m     coords\u001b[39m=\u001b[39;49mcoords,\n\u001b[1;32m    287\u001b[0m     divergences\u001b[39m=\u001b[39;49mdivergences,\n\u001b[1;32m    288\u001b[0m     divergences_kwargs\u001b[39m=\u001b[39;49mdivergences_kwargs,\n\u001b[1;32m    289\u001b[0m     labeller\u001b[39m=\u001b[39;49mlabeller,\n\u001b[1;32m    290\u001b[0m     \u001b[39m*\u001b[39;49m\u001b[39m*\u001b[39;49mhist2d_kwargs,\n\u001b[1;32m    291\u001b[0m )\n",
      "File \u001b[0;32m~/miniconda3/envs/KalmanGW/lib/python3.10/site-packages/corner/arviz_corner.py:136\u001b[0m, in \u001b[0;36marviz_corner\u001b[0;34m(data, bins, range, weights, color, hist_bin_factor, smooth, smooth1d, labels, label_kwargs, titles, show_titles, title_fmt, title_kwargs, truths, truth_color, scale_hist, quantiles, verbose, fig, max_n_ticks, top_ticks, use_math_text, reverse, labelpad, hist_kwargs, group, var_names, filter_vars, coords, divergences, divergences_kwargs, labeller, **hist2d_kwargs)\u001b[0m\n\u001b[1;32m    134\u001b[0m \u001b[39m# Coerce the samples into the expected format\u001b[39;00m\n\u001b[1;32m    135\u001b[0m samples \u001b[39m=\u001b[39m np\u001b[39m.\u001b[39mstack([x[\u001b[39m-\u001b[39m\u001b[39m1\u001b[39m]\u001b[39m.\u001b[39mflatten() \u001b[39mfor\u001b[39;00m x \u001b[39min\u001b[39;00m plotters], axis\u001b[39m=\u001b[39m\u001b[39m-\u001b[39m\u001b[39m1\u001b[39m)\n\u001b[0;32m--> 136\u001b[0m fig \u001b[39m=\u001b[39m corner_impl(\n\u001b[1;32m    137\u001b[0m     samples,\n\u001b[1;32m    138\u001b[0m     bins\u001b[39m=\u001b[39;49mbins,\n\u001b[1;32m    139\u001b[0m     \u001b[39mrange\u001b[39;49m\u001b[39m=\u001b[39;49m\u001b[39mrange\u001b[39;49m,\n\u001b[1;32m    140\u001b[0m     weights\u001b[39m=\u001b[39;49mweights,\n\u001b[1;32m    141\u001b[0m     color\u001b[39m=\u001b[39;49mcolor,\n\u001b[1;32m    142\u001b[0m     hist_bin_factor\u001b[39m=\u001b[39;49mhist_bin_factor,\n\u001b[1;32m    143\u001b[0m     smooth\u001b[39m=\u001b[39;49msmooth,\n\u001b[1;32m    144\u001b[0m     smooth1d\u001b[39m=\u001b[39;49msmooth1d,\n\u001b[1;32m    145\u001b[0m     labels\u001b[39m=\u001b[39;49mlabels,\n\u001b[1;32m    146\u001b[0m     label_kwargs\u001b[39m=\u001b[39;49mlabel_kwargs,\n\u001b[1;32m    147\u001b[0m     titles\u001b[39m=\u001b[39;49mtitles,\n\u001b[1;32m    148\u001b[0m     show_titles\u001b[39m=\u001b[39;49mshow_titles,\n\u001b[1;32m    149\u001b[0m     title_fmt\u001b[39m=\u001b[39;49mtitle_fmt,\n\u001b[1;32m    150\u001b[0m     title_kwargs\u001b[39m=\u001b[39;49mtitle_kwargs,\n\u001b[1;32m    151\u001b[0m     truths\u001b[39m=\u001b[39;49mtruths,\n\u001b[1;32m    152\u001b[0m     truth_color\u001b[39m=\u001b[39;49mtruth_color,\n\u001b[1;32m    153\u001b[0m     scale_hist\u001b[39m=\u001b[39;49mscale_hist,\n\u001b[1;32m    154\u001b[0m     quantiles\u001b[39m=\u001b[39;49mquantiles,\n\u001b[1;32m    155\u001b[0m     verbose\u001b[39m=\u001b[39;49mverbose,\n\u001b[1;32m    156\u001b[0m     fig\u001b[39m=\u001b[39;49mfig,\n\u001b[1;32m    157\u001b[0m     max_n_ticks\u001b[39m=\u001b[39;49mmax_n_ticks,\n\u001b[1;32m    158\u001b[0m     top_ticks\u001b[39m=\u001b[39;49mtop_ticks,\n\u001b[1;32m    159\u001b[0m     use_math_text\u001b[39m=\u001b[39;49muse_math_text,\n\u001b[1;32m    160\u001b[0m     reverse\u001b[39m=\u001b[39;49mreverse,\n\u001b[1;32m    161\u001b[0m     labelpad\u001b[39m=\u001b[39;49mlabelpad,\n\u001b[1;32m    162\u001b[0m     hist_kwargs\u001b[39m=\u001b[39;49mhist_kwargs,\n\u001b[1;32m    163\u001b[0m     \u001b[39m*\u001b[39;49m\u001b[39m*\u001b[39;49mhist2d_kwargs,\n\u001b[1;32m    164\u001b[0m )\n\u001b[1;32m    166\u001b[0m \u001b[39m# Get diverging draws and combine chains\u001b[39;00m\n\u001b[1;32m    167\u001b[0m \u001b[39mif\u001b[39;00m divergences:\n",
      "File \u001b[0;32m~/miniconda3/envs/KalmanGW/lib/python3.10/site-packages/corner/core.py:67\u001b[0m, in \u001b[0;36mcorner_impl\u001b[0;34m(xs, bins, range, weights, color, hist_bin_factor, smooth, smooth1d, labels, label_kwargs, titles, show_titles, title_fmt, title_kwargs, truths, truth_color, scale_hist, quantiles, verbose, fig, max_n_ticks, top_ticks, use_math_text, reverse, labelpad, hist_kwargs, **hist2d_kwargs)\u001b[0m\n\u001b[1;32m     65\u001b[0m \u001b[39m# Deal with 1D sample lists.\u001b[39;00m\n\u001b[1;32m     66\u001b[0m xs \u001b[39m=\u001b[39m _parse_input(xs)\n\u001b[0;32m---> 67\u001b[0m \u001b[39massert\u001b[39;00m xs\u001b[39m.\u001b[39mshape[\u001b[39m0\u001b[39m] \u001b[39m<\u001b[39m\u001b[39m=\u001b[39m xs\u001b[39m.\u001b[39mshape[\u001b[39m1\u001b[39m], (\n\u001b[1;32m     68\u001b[0m     \u001b[39m\"\u001b[39m\u001b[39mI don\u001b[39m\u001b[39m'\u001b[39m\u001b[39mt believe that you want more \u001b[39m\u001b[39m\"\u001b[39m \u001b[39m\"\u001b[39m\u001b[39mdimensions than samples!\u001b[39m\u001b[39m\"\u001b[39m\n\u001b[1;32m     69\u001b[0m )\n\u001b[1;32m     71\u001b[0m \u001b[39m# Parse the weight array.\u001b[39;00m\n\u001b[1;32m     72\u001b[0m \u001b[39mif\u001b[39;00m weights \u001b[39mis\u001b[39;00m \u001b[39mnot\u001b[39;00m \u001b[39mNone\u001b[39;00m:\n",
      "\u001b[0;31mAssertionError\u001b[0m: I don't believe that you want more dimensions than samples!"
     ]
    }
   ],
   "source": [
    "from plotting import plot_custom_corner\n",
    "\n",
    "\n",
    "\n",
    "ranges = None \n",
    "labels = None\n",
    "axes_scales = None\n",
    "\n",
    "\n",
    "\n",
    "\n",
    "        \n",
    "omegas = np.array([5e-7,7e-7,6e-7])\n",
    "phis= np.array([0.20,1.50,0.10])\n",
    "psis= np.array([2.50,0.35,2.90])\n",
    "iotas= np.array([1.0,1.0,1.0])\n",
    "deltas= np.array([1.0,0.70,1.11])\n",
    "alphas= np.array([1.0,1.30,0.95])\n",
    "hs   = np.array([5e-15,5e-15,5e-15])\n",
    "injection_parameters = np.array([omegas,phis,psis,iotas,deltas,alphas,hs]).flatten()\n",
    "\n",
    "\n",
    "num = 3\n",
    "omegas = [f\"omega_gw_{i}\" for i in range(num)]\n",
    "phis   = [f\"phi0_gw_{i}\" for i in range(num)]\n",
    "psis   = [f\"psi_gw_{i}\" for i in range(num)]\n",
    "iotas  = [f\"iota_gw_{i}\" for i in range(num)]\n",
    "deltas = [f\"delta_gw_{i}\" for i in range(num)]\n",
    "alphas = [f\"alpha_gw_{i}\" for i in range(num)]\n",
    "hs     = [f\"h_{i}\" for i in range(num)]\n",
    "variables_to_plot = np.array([omegas,phis,psis,iotas,deltas,alphas,hs]).flatten()\n",
    "\n",
    "\n",
    "\n",
    "\n",
    "\n",
    "\n",
    "\n",
    "\n",
    "\n",
    "path = '../data/nested_sampling/earth_retry_k3_result.json'\n",
    "\n",
    "#Corner plot of GW parameters\n",
    "plot_custom_corner(path,\n",
    "                   np.array(variables_to_plot),\n",
    "                   labels,\n",
    "                   injection_parameters,\n",
    "                   ranges,\n",
    "                   axes_scales,\n",
    "                   savefig=None,\n",
    "                   smooth=True,smooth1d=True)\n",
    "\n"
   ]
  },
  {
   "cell_type": "code",
   "execution_count": null,
   "metadata": {},
   "outputs": [],
   "source": []
  }
 ],
 "metadata": {
  "kernelspec": {
   "display_name": "KalmanGW",
   "language": "python",
   "name": "python3"
  },
  "language_info": {
   "codemirror_mode": {
    "name": "ipython",
    "version": 3
   },
   "file_extension": ".py",
   "mimetype": "text/x-python",
   "name": "python",
   "nbconvert_exporter": "python",
   "pygments_lexer": "ipython3",
   "version": "3.10.4"
  },
  "orig_nbformat": 4
 },
 "nbformat": 4,
 "nbformat_minor": 2
}
