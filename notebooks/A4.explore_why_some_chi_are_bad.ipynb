{
 "cells": [
  {
   "cell_type": "markdown",
   "metadata": {},
   "source": [
    "# Setup "
   ]
  },
  {
   "cell_type": "code",
   "execution_count": 13,
   "metadata": {},
   "outputs": [
    {
     "name": "stdout",
     "output_type": "stream",
     "text": [
      "The autoreload extension is already loaded. To reload it, use:\n",
      "  %reload_ext autoreload\n"
     ]
    }
   ],
   "source": [
    "%load_ext autoreload\n",
    "%autoreload 2"
   ]
  },
  {
   "cell_type": "code",
   "execution_count": 14,
   "metadata": {},
   "outputs": [],
   "source": [
    "import sys\n",
    "import json \n",
    "import pandas as pd \n",
    "import numpy as np \n",
    "try:\n",
    "    sys.path.remove(\"../py_src\") # Hacky way to add higher directory to python modules path. \n",
    "except:\n",
    "    pass\n",
    "sys.path.append(\"../py_src\") # Means that I dont have to make src/ a proper python package"
   ]
  },
  {
   "cell_type": "markdown",
   "metadata": {},
   "source": [
    "# Useful functions"
   ]
  },
  {
   "cell_type": "code",
   "execution_count": 18,
   "metadata": {},
   "outputs": [],
   "source": [
    "from system_parameters import SystemParameters\n",
    "from pulsars import Pulsars\n",
    "from synthetic_data import SyntheticData\n",
    "from model import LinearModel\n",
    "from kalman_filter import KalmanFilter\n",
    "from priors import priors_dict,bilby_priors_dict\n",
    "import numpy as np \n",
    "\n",
    "\n",
    "\n",
    "#Function to create synthetic data\n",
    "def create_synthetic_data(h,measurement_noise,seed):\n",
    "\n",
    "    measurement_model = 'pulsar'\n",
    "    #P    = SystemParameters(h=h,σp=None,σm=measurement_noise,seed=seed)       #define the system parameters as a class\\\n",
    "    P   = SystemParameters(h=h,σp=None,σm=measurement_noise,use_psr_terms_in_data=True,measurement_model=measurement_model,seed=seed) # define the system parameters as a dict. Todo: make this a class\n",
    "\n",
    "    PTA  = Pulsars(P)               # setup the PTA\n",
    "    data = SyntheticData(PTA,P)     # generate some synthetic data\n",
    "\n",
    "    # print(\"pulsar:\")\n",
    "    # print(\"RA\")\n",
    "    # print(PTA.α[2])\n",
    "    # print(\"DEC:'\")\n",
    "    # print(PTA.δ[2])\n",
    "    # print(\"chi\")\n",
    "    # print(PTA.chi[2])\n",
    "\n",
    "\n",
    "\n",
    "\n",
    "    # print(\"pulsar:\")\n",
    "    # print(\"RA\")\n",
    "    # print(PTA.α)\n",
    "    # print(\"DEC:'\")\n",
    "    # print(PTA.δ)\n",
    "    # print(\"chi\")\n",
    "    # print(PTA.chi)\n",
    "\n",
    "    return P,PTA,data\n"
   ]
  },
  {
   "cell_type": "markdown",
   "metadata": {},
   "source": [
    "# Canonical example"
   ]
  },
  {
   "cell_type": "code",
   "execution_count": 19,
   "metadata": {},
   "outputs": [
    {
     "name": "stderr",
     "output_type": "stream",
     "text": [
      "INFO:root:Welcome to the Kalman Filter Nested Sampler for PTA GW systems\n",
      "INFO:root:Random seed is 1251\n",
      "INFO:root:You are assigning the σp terms randomly\n"
     ]
    },
    {
     "name": "stdout",
     "output_type": "stream",
     "text": [
      "Value of n dot q is\n",
      "[-0.46930662 -0.41964328 -0.96199994 -0.40652181 -0.90951486 -0.90145354\n",
      " -0.88598084  0.23486188 -0.64004836  0.18983148 -0.77927158  0.2214264\n",
      "  0.90291449  0.89511951  0.81820941  0.16646929  0.69376873  0.38510681\n",
      "  0.42649292  0.26119582  0.63265132  0.90419181  0.53032586  0.17415607\n",
      "  0.22038453  0.30680101  0.78880109  0.14831713  0.13184329  0.42568907\n",
      " -0.06877312 -0.04043585  0.14338378 -0.2461866  -0.18516125  0.41382595\n",
      "  0.12080445 -0.08709444 -0.10246641  0.12256571 -0.47274787 -0.46369036\n",
      " -0.19600727 -0.24763273 -0.71316113 -0.40869404 -0.50044391]\n",
      "chi vals are =  [2.20508423 3.73837182 4.64342782 3.84454169 2.03147765 2.1615264\n",
      " 2.7393055  0.29304713 0.52094514 2.6468707  0.75625183 2.69753421\n",
      " 4.72535501 1.80480547 1.22838701 1.52531055 0.95286369 5.88509644\n",
      " 3.21021583 0.04719118 5.83980336 2.18004167 3.37310913 4.83324786\n",
      " 5.11353816 2.16383243 4.41393604 2.9784791  2.82463386 4.82152681\n",
      " 6.10798125 5.59964568 1.81245195 4.24446491 5.69068483 5.94022957\n",
      " 4.96810897 3.3210893  5.35316912 4.61872321 2.78637006 0.43819632\n",
      " 3.62569269 3.79912049 5.5055721  2.39926347 0.43862898]\n"
     ]
    },
    {
     "name": "stderr",
     "output_type": "stream",
     "text": [
      "INFO:root:You are including the PSR terms in your synthetic data generation\n"
     ]
    }
   ],
   "source": [
    "\n",
    "h = 5e-15\n",
    "measurement_noise = 1e-11\n",
    "seed=1251\n",
    "P,PTA,data = create_synthetic_data(h,measurement_noise,seed)\n",
    "\n",
    " "
   ]
  },
  {
   "cell_type": "code",
   "execution_count": 4,
   "metadata": {},
   "outputs": [
    {
     "data": {
      "text/plain": [
       "-0.06890651428584146"
      ]
     },
     "execution_count": 4,
     "metadata": {},
     "output_type": "execute_result"
    }
   ],
   "source": [
    "import numpy as np \n",
    "np.cos(4.64342782) # % np.pi "
   ]
  },
  {
   "cell_type": "code",
   "execution_count": 3,
   "metadata": {},
   "outputs": [
    {
     "data": {
      "text/plain": [
       "4.71238898038469"
      ]
     },
     "execution_count": 3,
     "metadata": {},
     "output_type": "execute_result"
    }
   ],
   "source": [
    "3*np.pi / 2"
   ]
  },
  {
   "cell_type": "code",
   "execution_count": null,
   "metadata": {},
   "outputs": [],
   "source": []
  }
 ],
 "metadata": {
  "kernelspec": {
   "display_name": "KalmanGW",
   "language": "python",
   "name": "python3"
  },
  "language_info": {
   "codemirror_mode": {
    "name": "ipython",
    "version": 3
   },
   "file_extension": ".py",
   "mimetype": "text/x-python",
   "name": "python",
   "nbconvert_exporter": "python",
   "pygments_lexer": "ipython3",
   "version": "3.10.4"
  }
 },
 "nbformat": 4,
 "nbformat_minor": 2
}
