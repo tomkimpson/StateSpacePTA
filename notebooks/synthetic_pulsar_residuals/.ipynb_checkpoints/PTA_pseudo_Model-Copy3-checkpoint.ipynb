{
 "cells": [
  {
   "cell_type": "code",
   "execution_count": 1,
   "metadata": {},
   "outputs": [
    {
     "name": "stdout",
     "output_type": "stream",
     "text": [
      "Warning: cannot find astropy, units support will not be available.\n"
     ]
    }
   ],
   "source": [
    "#import everything\n",
    "\n",
    "\n",
    "import numpy as np\n",
    "%matplotlib inline\n",
    "import matplotlib.pyplot as plt\n",
    "from matplotlib import rcParams\n",
    "import matplotlib.cm as cm\n",
    "from matplotlib import rc\n",
    "#rcParams['text.latex.preamble'] = r'\\newcommand{\\mathdefault}[1][]{}'\n",
    "import baboo\n",
    "from baboo.simulation import SimulationModel\n",
    "from baboo.utils import write_tim_file, write_par\n",
    "import libstempo\n",
    "import libstempo.toasim\n",
    "import seaborn as sns\n",
    "import matplotlib.pyplot as plt\n",
    "import scipy.stats as ss\n",
    "import sdeint\n",
    "import argparse\n",
    "from pathlib import Path\n",
    "import re\n",
    "import glob as glob\n",
    "from astropy import units as u\n",
    "from astropy.coordinates import SkyCoord"
   ]
  },
  {
   "cell_type": "code",
   "execution_count": 2,
   "metadata": {
    "tags": []
   },
   "outputs": [],
   "source": [
    "#Define all functions\n",
    "\n",
    "def get_F2(F0,F1,n):\n",
    "    return (n*F1**2)/F0\n",
    "\n",
    "\n",
    "\n",
    "\n",
    "\n",
    "def get_PSR_values_from_par(par):\n",
    "    with open(par) as f:\n",
    "        for line in f.readlines():\n",
    "            line = line.strip()\n",
    "            if line.split(' ')[0] == 'RAJ':\n",
    "                RAJ=str(line.split()[1])\n",
    "            if line.split(' ')[0] == 'DECJ':\n",
    "                DECJ=str(line.split()[1])\n",
    "            if line.split(' ')[0] == 'F0':\n",
    "                F0=float(line.split()[1])\n",
    "            if line.split(' ')[0] == 'F1':\n",
    "                F1=float(line.split()[1])            \n",
    "            if line.split(' ')[0] == 'START':\n",
    "                t_START=float(line.split()[1])\n",
    "            if line.split(' ')[0] == 'FINISH':\n",
    "                t_FINISH=float(line.split()[1])\n",
    "            if line.split(' ')[0] == 'NTOA':\n",
    "                NTOA=int(line.split()[1])\n",
    "    return RAJ,DECJ,F0,F1,t_START,t_FINISH,NTOA\n",
    "\n",
    "\n",
    "\n",
    "\n",
    "\n",
    "\n",
    "\n",
    "\n",
    "\n",
    "\n",
    "\n",
    "\n",
    "def get_F0_F1_F2_TempoNest(par):\n",
    "    with open(par) as f:\n",
    "        for line in f.readlines():\n",
    "            line = line.strip()\n",
    "            if line.split(' ')[0] == 'F2':\n",
    "                F2=float(line.split()[1])\n",
    "                F2_errs=float(line.split()[-1])\n",
    "            if line.split(' ')[0] == 'F1':\n",
    "                F1=float(line.split()[1])\n",
    "            if line.split(' ')[0] == 'F0':\n",
    "                F0=float(line.split()[1])\n",
    "            if line.split(' ')[0] == 'TNRedAmp':\n",
    "                RedAmp=float(line.split()[-1])\n",
    "            if line.split(' ')[0] == 'TNRedGam':\n",
    "                RedSlope=float(line.split()[-1])\n",
    "    return F0,F1,F2,RedAmp,RedSlope\n",
    "\n",
    "\n",
    "\n",
    "\n",
    "\n",
    "\n",
    "def create_files_get_psr(toas,toas_errors,pn,F0,F1,F2,RAJ,DECJ,psrj_nNoise_F2,out_prefix_nNoise_F2):\n",
    "    ####\n",
    "    write_tim_file(f'{out_prefix_nNoise_F2}',\n",
    "                   toas, toas_errors, \n",
    "                   pn, observatory='BAT')\n",
    "    write_par(f'{out_prefix_nNoise_F2}',\n",
    "               F0, F1, toas[0], psrj=psrj_nNoise_F2, F2=F2,\n",
    "               fit_F2=True, raj=RAJ, decj=DECJ, fit_pos=True)\n",
    "    ###\n",
    "    par_nN=f'{out_prefix_nNoise_F2}.par'\n",
    "    tim_nN=f'{out_prefix_nNoise_F2}.tim'\n",
    "    ####\n",
    "    psr_TG=libstempo.tempopulsar(parfile=par_nN,\n",
    "                                        timfile=tim_nN)\n",
    "    return psr_TG\n",
    "\n",
    "\n",
    "\n",
    "\n",
    "\n",
    "def get_REAL_psr(PSR,noNoise_params):\n",
    "    psrj_F2=f\"TimingDataRelease_UTMOST_PSR/{PSR}/{PSR}\"\n",
    "    if noNoise_params==True:\n",
    "        par_file=f\"{psrj_F2}_noAred_beta.par\"\n",
    "    else:\n",
    "        par_file=f\"{psrj_F2}.par\"\n",
    "    tim_file=f\"{psrj_F2}.tim\"\n",
    "    psr_inst=libstempo.tempopulsar(parfile=par_file, timfile=tim_file)\n",
    "    return psr_inst\n",
    "\n",
    "\n",
    "\n",
    "\n",
    "\n",
    "\n",
    "\n",
    "def get_coords_rad_RA_DEC(RA,DEC):\n",
    "    Coords=SkyCoord(RA,DEC, unit=(u.hourangle, u.deg),frame='icrs')\n",
    "    return Coords.ra.rad, Coords.dec.rad\n",
    "\n",
    "\n",
    "\n",
    "class EM_guided_mean_reverting_PTA_ModelSim(SimulationModel):\n",
    "    \"\"\"\n",
    "    d(phi)/dt = F\n",
    "    dF/dt = -gamma_F * F + gamma_F * Fbar(t) + xi(t)\n",
    "\n",
    "    this gets translated in to F and N below\n",
    "    We have put white noise in dF/dt and white noise amplitudes sigma_F.\n",
    "    \"\"\"\n",
    "\n",
    "    nstates = 2\n",
    "    def __init__(self, n, gamma_F, sigma_F, Fbar, F1bar, skipsize=1000):\n",
    "        super(EM_guided_mean_reverting_PTA_ModelSim, self).__init__()\n",
    "        self.gamma_F = gamma_F\n",
    "        self.sigma_F = sigma_F\n",
    "        self.Fbar = Fbar\n",
    "        self.F1bar=F1bar\n",
    "        self.n=n\n",
    "        self.tau=-1*Fbar/((n-1)*F1bar)\n",
    "        self.skipsize=skipsize\n",
    "        # set up matrices\n",
    "        # states are [phase, frequency]\n",
    "        # also written as [phi, F]\n",
    "        self.F = np.longdouble(np.array([[0., 1.],\n",
    "                                         [0., -self.gamma_F]]))\n",
    "        self.Q = np.longdouble(np.diag([0., np.sqrt(self.sigma_F)]))\n",
    "\n",
    "    def expectation(self, x, t):\n",
    "        ## Aux functions\n",
    "        def Omega(Omega0,n,tau,t):\n",
    "            frac=t/tau\n",
    "            fac1=(1+frac)**(1/(1-n))\n",
    "            return Omega0*fac1 \n",
    "        def dOmega(dOmega0,n,tau,t):\n",
    "            frac=t/tau\n",
    "            fac1=(1+frac)**(n/(1-n))\n",
    "            return dOmega0*fac1\n",
    "        ## Secular evolution\n",
    "        def N_step(t):\n",
    "            return np.longdouble(np.array([0.,self.gamma_F*Omega(self.Fbar,self.n, self.tau,t)+\n",
    "                                           dOmega(self.F1bar,self.n,self.tau,t)]))\n",
    "        \n",
    "        N_at_t=N_step(t)\n",
    "        return self.F @ x + N_at_t\n",
    "\n",
    "    def variance(self, x, t):\n",
    "        return self.Q"
   ]
  },
  {
   "cell_type": "markdown",
   "metadata": {},
   "source": [
    "# Study case: B1937+21"
   ]
  },
  {
   "cell_type": "code",
   "execution_count": 3,
   "metadata": {
    "tags": []
   },
   "outputs": [],
   "source": [
    "RAJ,DECJ,F0,F1,t_START,t_FINISH,NTOA=get_PSR_values_from_par(f\"./B1937+21.par\")\n",
    "PSR_I=\"B1937+21\"\n",
    "#Observation times\n",
    "Tobs=(t_FINISH-t_START)\n",
    "Tobs_s=Tobs*24*60*60\n",
    "\n",
    "#RA/DEC in radians\n",
    "RA_rad,DEC_rad=get_coords_rad_RA_DEC(RAJ,DECJ)\n",
    "\n",
    "\n",
    "#Get the second frequency derivative, assuming $n=3$\n",
    "F2=get_F2(F0,F1,3)\n",
    "\n",
    "\n",
    "#Define n and gamma\n",
    "n_pl = 3\n",
    "gamma_F = 1e-13"
   ]
  },
  {
   "cell_type": "markdown",
   "metadata": {},
   "source": [
    "# Solution with zero process noise"
   ]
  },
  {
   "cell_type": "code",
   "execution_count": 4,
   "metadata": {},
   "outputs": [
    {
     "name": "stdout",
     "output_type": "stream",
     "text": [
      "Starting phase,F0 [0.0, 641.9282322943168] , respectively\n"
     ]
    },
    {
     "name": "stderr",
     "output_type": "stream",
     "text": [
      "100%|██████████| 524/524 [03:21<00:00,  2.60it/s]\n"
     ]
    },
    {
     "data": {
      "image/png": "[encoded data removed]",
      "text/plain": [
       "<Figure size 1000x800 with 1 Axes>"
      ]
     },
     "metadata": {},
     "output_type": "display_data"
    }
   ],
   "source": [
    "p0_YP=[0.,F0]\n",
    "print(\"Starting phase,F0\",p0_YP,\", respectively\")\n",
    "\n",
    "\n",
    "toa_errors_YP = (1e-4) * np.ones(NTOA)\n",
    "times_YP = int(np.floor(t_START)) + np.sort(np.random.choice(np.arange(int(np.floor(t_FINISH-t_START))*100)/100.,\n",
    "                                                                 size=NTOA, replace=False)).astype(float)\n",
    "PSR_instantiation= EM_guided_mean_reverting_PTA_ModelSim(n_pl,gamma_F, 0, F0, F1)\n",
    "    # generate and fit frequencies\n",
    "toas_MOD, toa_errors_MOD, states_NoNoise_MOD, pn_NoNoise_MOD =\\\n",
    "    PSR_instantiation.integrate_and_return_pn(times_YP, \n",
    "                                              F0, F1, times_YP[0], p0=p0_YP,\n",
    "                                              toa_errors=toa_errors_YP, \n",
    "                                              Ntoas_per_fit=3, nphase_states=1)\n",
    "\n",
    "\n",
    "fig, axes = plt.subplots(nrows=1, ncols=1, figsize=(10,8), sharex=True)\n",
    "plt.rc('text', usetex=True)\n",
    "axes.scatter(toas_MOD,states_NoNoise_MOD)\n",
    "axes.set_ylabel(r\"$\\nu$\", fontsize=25)\n",
    "axes.set_xlabel(r\"${\\rm TOAs}$\", fontsize=25)\n",
    "plt.suptitle(r\"${\\rm Phase~variables~as~a~function~of~ToAs~(No~Noise)}$\", fontsize=35)\n",
    "plt.tight_layout()\n",
    "plt.show()"
   ]
  },
  {
   "cell_type": "markdown",
   "metadata": {},
   "source": [
    "As we see its just its secular evolution, all is good."
   ]
  },
  {
   "cell_type": "markdown",
   "metadata": {},
   "source": [
    "# Solution with some noise"
   ]
  },
  {
   "cell_type": "code",
   "execution_count": null,
   "metadata": {},
   "outputs": [
    {
     "name": "stdout",
     "output_type": "stream",
     "text": [
      "Starting phase,F0 [0.0, 641.9282322943168] , respectively\n"
     ]
    },
    {
     "name": "stderr",
     "output_type": "stream",
     "text": [
      " 67%|██████▋   | 352/524 [02:18<01:18,  2.19it/s]"
     ]
    }
   ],
   "source": [
    "p0_YP=[0.,F0]\n",
    "sigma2_F1=1e-28\n",
    "#sigma2_F1 = 0\n",
    "print(\"Starting phase,F0\",p0_YP,\", respectively\")\n",
    "toa_errors_YP = (1e-7) * np.ones(NTOA)\n",
    "times_YP = int(np.floor(t_START)) + np.sort(np.random.choice(np.arange(int(np.floor(t_FINISH-t_START))*100)/100.,\n",
    "                                                                 size=NTOA, replace=False)).astype(float)\n",
    "PSR_instantiation= EM_guided_mean_reverting_PTA_ModelSim(n_pl,gamma_F, sigma2_F1, F0, F1)\n",
    "    # generate and fit frequencies\n",
    "toas_MOD, toa_errors_MOD, states_with_Noise_MOD, pn_with_MOD =\\\n",
    "    PSR_instantiation.integrate_and_return_pn(times_YP, \n",
    "                                              F0, F1, times_YP[0], p0=p0_YP,\n",
    "                                              toa_errors=toa_errors_YP, \n",
    "                                              Ntoas_per_fit=3, nphase_states=1)"
   ]
  },
  {
   "cell_type": "code",
   "execution_count": null,
   "metadata": {},
   "outputs": [],
   "source": [
    "fig, axes = plt.subplots(nrows=1, ncols=1, figsize=(10,8), sharex=True)\n",
    "plt.rc('text', usetex=True)\n",
    "axes.scatter(toas_MOD,states_with_Noise_MOD + [-F1*x - 0.5*F2*x**2 for x in (toas_MOD - toas_MOD[0])*86400])\n",
    "axes.set_ylabel(r\"$\\nu$\", fontsize=25)\n",
    "axes.set_xlabel(r\"${\\rm TOAs}$\", fontsize=25)\n",
    "plt.suptitle(r\"${\\rm Phase~variables~as~a~function~of~ToAs~(With~Noise)}$\", fontsize=35)\n",
    "plt.tight_layout()\n",
    "plt.show()"
   ]
  },
  {
   "cell_type": "markdown",
   "metadata": {},
   "source": [
    "# Residual Comparison"
   ]
  },
  {
   "cell_type": "code",
   "execution_count": null,
   "metadata": {
    "tags": []
   },
   "outputs": [],
   "source": [
    "# REAL PSR\n",
    "#PSR_REAL=get_REAL_psr(PSR_I,noNoise_params=True)\n",
    "PSR_REAL = libstempo.tempopulsar(parfile=\"/fred/oz022/ldunn_psr/NANOGrav_12yv4_wideband/wideband/par/B1937+21_NANOGrav_12yv4.wb.gls.par\", timfile=\"/fred/oz022/ldunn_psr/NANOGrav_12yv4_wideband/wideband/tim/B1937+21_NANOGrav_12yv4.wb.tim\")"
   ]
  },
  {
   "cell_type": "code",
   "execution_count": null,
   "metadata": {
    "tags": []
   },
   "outputs": [],
   "source": [
    "out_prefix=f\"B1937_comp_tests/test\"\n",
    "FAKE_PSR=create_files_get_psr(toas_MOD, toa_errors_MOD,\n",
    "                                   pn_with_MOD,F0,F1,F2,\n",
    "                                       RAJ,DECJ,PSR_I,out_prefix)"
   ]
  },
  {
   "cell_type": "code",
   "execution_count": null,
   "metadata": {},
   "outputs": [],
   "source": [
    "\n",
    "def create_files_get_psr(toas,toas_errors,pn,F0,F1,F2,RAJ,DECJ,psrj_nNoise_F2,out_prefix_nNoise_F2):\n",
    "    ####\n",
    "    write_tim_file(f'{out_prefix_nNoise_F2}',\n",
    "                   toas, toas_errors, \n",
    "                   pn, observatory='BAT')\n",
    "    write_par(f'{out_prefix_nNoise_F2}',\n",
    "               F0, F1, toas[0], psrj=psrj_nNoise_F2, F2=F2,\n",
    "               fit_F2=True, raj=RAJ, decj=DECJ, fit_pos=True)\n",
    "    ###\n",
    "    par_nN=f'{out_prefix_nNoise_F2}.par'\n",
    "    tim_nN=f'{out_prefix_nNoise_F2}.tim'\n",
    "    ####\n",
    "    psr_TG=libstempo.tempopulsar(parfile=par_nN,\n",
    "                                        timfile=tim_nN)\n",
    "    return psr_TG\n",
    "\n",
    "\n"
   ]
  },
  {
   "cell_type": "code",
   "execution_count": null,
   "metadata": {
    "tags": []
   },
   "outputs": [],
   "source": [
    "k = np.argsort(PSR_REAL.toas())\n",
    "i = np.argsort(FAKE_PSR.toas())\n",
    "###\n",
    "PSR_REAL.fit()\n",
    "FAKE_PSR.fit()\n",
    "num1=PSR_I.split('J')[-1].split('-')[0]\n",
    "num2=PSR_I.split('J')[-1].split('-')[-1]\n",
    "#######################################################################\n",
    "fig, axes = plt.subplots(nrows=1, ncols=2, figsize=(13,6), sharey=True)\n",
    "axes[0].errorbar(PSR_REAL.toas()[k],\n",
    "                 PSR_REAL.residuals()[k],\n",
    "                     yerr=1e-6*PSR_REAL.toaerrs[k],fmt='.',alpha=0.5 , label=r\"${\\rm REAL~}$\"+r\"${\\rm J}$\"\\\n",
    "                 +rf\"${num1}-{num2}$\")\n",
    "axes[1].errorbar(FAKE_PSR.toas()[i],\n",
    "                     FAKE_PSR.residuals()[i],\n",
    "                     yerr=1e-6*FAKE_PSR.toaerrs[i],fmt='.',alpha=0.5, label=r\"${\\rm FAKE}$\")\n",
    "axes[0].set_ylabel(r'${\\rm Residuals~(s)}$', fontsize=24)\n",
    "axes[0].set_xlabel(r'${\\rm TOAs}$', fontsize=24);\n",
    "axes[1].set_xlabel(r'${\\rm TOAs}$', fontsize=24);\n",
    "axes[0].set_title(r'${\\rm REAL}$', fontsize=24);\n",
    "axes[0].text(0.9, 0.90, r'$({\\rm i})$', transform=axes[0].transAxes, fontsize=24)\n",
    "axes[1].set_title(r'${\\rm FAKE}$', fontsize=24);\n",
    "axes[1].text(0.9, 0.90, r'$({\\rm ii})$', transform=axes[1].transAxes, fontsize=24)\n",
    "plt.tight_layout()\n",
    "plt.show()"
   ]
  },
  {
   "cell_type": "code",
   "execution_count": null,
   "metadata": {},
   "outputs": [],
   "source": []
  }
 ],
 "metadata": {
  "kernelspec": {
   "display_name": "Python 3",
   "language": "python",
   "name": "python3"
  },
  "language_info": {
   "codemirror_mode": {
    "name": "ipython",
    "version": 3
   },
   "file_extension": ".py",
   "mimetype": "text/x-python",
   "name": "python",
   "nbconvert_exporter": "python",
   "pygments_lexer": "ipython3",
   "version": "3.9.16"
  }
 },
 "nbformat": 4,
 "nbformat_minor": 4
}
