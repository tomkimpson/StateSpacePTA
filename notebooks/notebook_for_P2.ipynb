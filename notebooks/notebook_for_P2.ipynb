{
 "cells": [
  {
   "cell_type": "markdown",
   "metadata": {},
   "source": [
    "#### This notebook generates data to be used by the P2 manuscript\n",
    "\n",
    "IT uses the \"old\" parameterisation before we shift to the $\\chi$ one "
   ]
  },
  {
   "cell_type": "code",
   "execution_count": 76,
   "metadata": {},
   "outputs": [
    {
     "name": "stdout",
     "output_type": "stream",
     "text": [
      "The autoreload extension is already loaded. To reload it, use:\n",
      "  %reload_ext autoreload\n"
     ]
    }
   ],
   "source": [
    "%load_ext autoreload\n",
    "%autoreload 2"
   ]
  },
  {
   "cell_type": "code",
   "execution_count": 77,
   "metadata": {},
   "outputs": [],
   "source": [
    "import sys\n",
    "import json \n",
    "import pandas as pd \n",
    "try:\n",
    "    sys.path.remove(\"../py_src\") # Hacky way to add higher directory to python modules path. \n",
    "except:\n",
    "    pass\n",
    "sys.path.append(\"../py_src\") # Means that I dont have to make src/ a proper python package"
   ]
  },
  {
   "cell_type": "code",
   "execution_count": 82,
   "metadata": {},
   "outputs": [],
   "source": [
    "from system_parameters import SystemParameters\n",
    "from pulsars import Pulsars\n",
    "from synthetic_data import SyntheticData\n",
    "from model import LinearModel\n",
    "from kalman_filter import KalmanFilter\n",
    "from priors import priors_dict,bilby_priors_dict\n",
    "import numpy as np \n",
    "\n",
    "\n",
    "\n",
    "#Function to create synthetic data\n",
    "def create_synthetic_data(h,measurement_noise,seed):\n",
    "\n",
    "    P    = SystemParameters(h=h,σp=None,σm=measurement_noise,seed=seed)       #define the system parameters as a class\n",
    "    PTA  = Pulsars(P)               # setup the PTA\n",
    "    data = SyntheticData(PTA,P)     # generate some synthetic data\n",
    "\n",
    "    return P,PTA,data\n",
    "\n",
    "#Fit model to data and return likelihood\n",
    "def get_likelihood(data,parameter_name,parameter_value,P,PTA,measurement_model):\n",
    "\n",
    "    _P = copy.copy(P)\n",
    "    _PTA = copy.copy(PTA)\n",
    "    _P.measurement_model = measurement_model\n",
    "    \n",
    "\n",
    "    #Define the model \n",
    "    model = LinearModel(_P)\n",
    "\n",
    "    #Initialise the Kalman filter\n",
    "    KF = KalmanFilter(model,data.f_measured,_PTA)\n",
    "\n",
    "    #Get the\n",
    "    guessed_parameters = priors_dict(_PTA,_P) #These are the true parameters \n",
    "    guessed_parameters[parameter_name] = np.array([parameter_value])\n",
    "\n",
    "    \n",
    "    model_likelihood,x_results,y_results = KF.likelihood(guessed_parameters)\n",
    "\n",
    "    return model_likelihood"
   ]
  },
  {
   "cell_type": "code",
   "execution_count": 83,
   "metadata": {},
   "outputs": [],
   "source": [
    "h = 1e-12\n",
    "measurement_noise = 1e-11\n",
    "seed=1236\n",
    "P,PTA,data = create_synthetic_data(h,measurement_noise,seed)"
   ]
  },
  {
   "cell_type": "code",
   "execution_count": 93,
   "metadata": {},
   "outputs": [],
   "source": [
    "import copy \n",
    "import logging \n",
    "logger = logging.getLogger().setLevel(logging.ERROR)\n",
    "\n",
    "\n",
    "#set the measurement model\n",
    "measurement_model = 'pulsar' #Set the measurement model \n",
    "parameter_name = \"alpha_gw\"\n",
    "N = 10000\n",
    "parameter_range = np.logspace(-9,-6,N)\n",
    "parameter_range = np.linspace(0,np.pi,N)\n",
    "parameter_range = np.arange(0,3.15,0.0001)\n",
    "\n",
    "\n",
    "parameter_range = np.arange(0,3.15,0.001)\n",
    "\n",
    "eps = 0.0000001\n",
    "parameter_range = np.arange(0.999,1.001,eps)\n",
    "\n",
    "likelihood_curves_earth_omega = np.zeros(len(parameter_range))             \n",
    "\n",
    "\n",
    "for i,p in enumerate(parameter_range):\n",
    "    p = parameter_range[i]\n",
    "    likelihood_curves_earth_omega[i] = get_likelihood(data,parameter_name,p,P,PTA,measurement_model)\n"
   ]
  },
  {
   "cell_type": "code",
   "execution_count": 95,
   "metadata": {},
   "outputs": [],
   "source": [
    "\n",
    "N = len(parameter_range)\n",
    "outputs = np.zeros((N,2))\n",
    "outputs[:,0] = parameter_range\n",
    "outputs[:,1] = likelihood_curves_earth_omega\n",
    "#np.save(\"../data/alpha_likelihood_old_method\",outputs)\n",
    "np.save(\"../data/alpha_likelihood_old_method_local\",outputs)"
   ]
  },
  {
   "cell_type": "markdown",
   "metadata": {},
   "source": [
    "# Appendix "
   ]
  },
  {
   "cell_type": "code",
   "execution_count": 46,
   "metadata": {},
   "outputs": [],
   "source": [
    "from system_parameters import SystemParameters\n",
    "from pulsars import Pulsars\n",
    "from synthetic_data import SyntheticData\n",
    "from model import LinearModel\n",
    "from kalman_filter import KalmanFilter\n",
    "from priors import priors_dict,bilby_priors_dict\n",
    "import numpy as np \n",
    "\n",
    "\n",
    "\n",
    "#Function to create synthetic data\n",
    "def create_synthetic_data(h,measurement_noise,seed,omega):\n",
    "\n",
    "    P    = SystemParameters(h=h,σp=None,σm=measurement_noise,seed=seed,Ω=omega)       #define the system parameters as a class\n",
    "    PTA  = Pulsars(P)               # setup the PTA\n",
    "    data = SyntheticData(PTA,P)     # generate some synthetic data\n",
    "\n",
    "    return P,PTA,data\n",
    "\n",
    "#Fit model to data and return likelihood\n",
    "def get_likelihood(data,parameter_name,parameter_value,P,PTA,measurement_model):\n",
    "\n",
    "    _P = copy.copy(P)\n",
    "    _PTA = copy.copy(PTA)\n",
    "    _P.measurement_model = measurement_model\n",
    "    \n",
    "\n",
    "    #Define the model \n",
    "    model = LinearModel(_P)\n",
    "\n",
    "    #Initialise the Kalman filter\n",
    "    KF = KalmanFilter(model,data.f_measured,_PTA)\n",
    "\n",
    "    #Get the\n",
    "    guessed_parameters = priors_dict(_PTA,_P) #These are the true parameters \n",
    "    guessed_parameters[parameter_name] = np.array([parameter_value])\n",
    "\n",
    "    \n",
    "    model_likelihood,x_results,y_results = KF.likelihood(guessed_parameters)\n",
    "\n",
    "    return model_likelihood"
   ]
  },
  {
   "cell_type": "code",
   "execution_count": 63,
   "metadata": {},
   "outputs": [],
   "source": [
    "h = 1e-12\n",
    "measurement_noise = 1e-11\n",
    "seed=1236\n",
    "omega = 5e-1\n",
    "P,PTA,data = create_synthetic_data(h,measurement_noise,seed,omega)"
   ]
  },
  {
   "cell_type": "code",
   "execution_count": 64,
   "metadata": {},
   "outputs": [],
   "source": [
    "import copy \n",
    "import logging \n",
    "logger = logging.getLogger().setLevel(logging.ERROR)\n",
    "\n",
    "\n",
    "#set the measurement model\n",
    "measurement_model = 'pulsar' #Set the measurement model \n",
    "parameter_name = \"delta_gw\"\n",
    "N = 100\n",
    "\n",
    "parameter_range = np.linspace(0,np.pi,N)\n",
    "\n",
    "\n",
    "likelihood_curves_earth_omega = np.zeros(len(parameter_range))             \n",
    "\n",
    "\n",
    "for i,p in enumerate(parameter_range):\n",
    "    p = parameter_range[i]\n",
    "    likelihood_curves_earth_omega[i] = get_likelihood(data,parameter_name,p,P,PTA,measurement_model)\n"
   ]
  },
  {
   "cell_type": "code",
   "execution_count": 65,
   "metadata": {},
   "outputs": [],
   "source": [
    "import matplotlib.pyplot as plt "
   ]
  },
  {
   "cell_type": "code",
   "execution_count": 66,
   "metadata": {},
   "outputs": [
    {
     "data": {
      "text/plain": [
       "[<matplotlib.lines.Line2D at 0x7ff0697e84f0>]"
      ]
     },
     "execution_count": 66,
     "metadata": {},
     "output_type": "execute_result"
    },
    {
     "data": {
      "image/png": "[encoded data removed]",
      "text/plain": [
       "<Figure size 640x480 with 1 Axes>"
      ]
     },
     "metadata": {},
     "output_type": "display_data"
    }
   ],
   "source": [
    "plt.plot(parameter_range,likelihood_curves_earth_omega)"
   ]
  },
  {
   "cell_type": "code",
   "execution_count": null,
   "metadata": {},
   "outputs": [],
   "source": []
  },
  {
   "cell_type": "code",
   "execution_count": null,
   "metadata": {},
   "outputs": [],
   "source": []
  }
 ],
 "metadata": {
  "kernelspec": {
   "display_name": "KalmanGW",
   "language": "python",
   "name": "python3"
  },
  "language_info": {
   "codemirror_mode": {
    "name": "ipython",
    "version": 3
   },
   "file_extension": ".py",
   "mimetype": "text/x-python",
   "name": "python",
   "nbconvert_exporter": "python",
   "pygments_lexer": "ipython3",
   "version": "3.10.4"
  },
  "orig_nbformat": 4
 },
 "nbformat": 4,
 "nbformat_minor": 2
}
