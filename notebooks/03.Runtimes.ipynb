{
 "cells": [
  {
   "cell_type": "markdown",
   "metadata": {},
   "source": [
    "# Testing likelihood runtimes\n",
    "\n",
    "\n",
    "The rate limiting step for linkelihood based inference is the time taken to obtain a single likelihood sample.\n",
    "\n",
    "We want this to be as fast as possible \n",
    "\n",
    "See e.g. tips on using numba: https://numba.pydata.org/numba-doc/latest/user/performance-tips.html"
   ]
  },
  {
   "cell_type": "code",
   "execution_count": 4,
   "metadata": {},
   "outputs": [],
   "source": [
    "%load_ext autoreload\n",
    "%autoreload 2"
   ]
  },
  {
   "cell_type": "code",
   "execution_count": 46,
   "metadata": {},
   "outputs": [],
   "source": [
    "import sys\n",
    "import json \n",
    "import pandas as pd \n",
    "try:\n",
    "    sys.path.remove(\"../py_src\") # Hacky way to add higher directory to python modules path. \n",
    "except:\n",
    "    pass\n",
    "sys.path.append(\"../py_src\") # Means that I dont have to make src/ a proper python package"
   ]
  },
  {
   "cell_type": "code",
   "execution_count": 47,
   "metadata": {},
   "outputs": [],
   "source": [
    "from system_parameters import SystemParameters\n",
    "from pulsars import Pulsars\n",
    "from synthetic_data import SyntheticData\n",
    "from model import LinearModel\n",
    "from kalman_filter import KalmanFilter\n",
    "from priors import priors_dict,bilby_priors_dict\n",
    "import numpy as np \n",
    "import copy \n",
    "import logging \n",
    "logger = logging.getLogger().setLevel(logging.ERROR)\n",
    "\n",
    "#Function to create synthetic data\n",
    "def create_synthetic_data(h,measurement_noise,seed):\n",
    "\n",
    "    P    = SystemParameters(h=h,σp=None,σm=measurement_noise,seed=seed)       #define the system parameters as a class\n",
    "    PTA  = Pulsars(P)               # setup the PTA\n",
    "    data = SyntheticData(PTA,P)     # generate some synthetic data\n",
    "\n",
    "    return P,PTA,data\n",
    "\n",
    "#Fit model to data and return likelihood\n",
    "def setup_kalman_likelihood(data,P,PTA,measurement_model):\n",
    "\n",
    "    _P = copy.copy(P)\n",
    "    _PTA = copy.copy(PTA)\n",
    "    _P.measurement_model = measurement_model\n",
    "    \n",
    "\n",
    "    #Define the model \n",
    "    model = LinearModel(_P)\n",
    "\n",
    "    #Initialise the Kalman filter\n",
    "    KF = KalmanFilter(model,data.f_measured,_PTA)\n",
    "\n",
    "    #Create a bilby dict \n",
    "    init_p,parameter_priors = bilby_priors_dict(_PTA,_P)\n",
    "    \n",
    "    sampled_parameters = parameter_priors.sample(1)\n",
    "    return KF,sampled_parameters"
   ]
  },
  {
   "cell_type": "markdown",
   "metadata": {},
   "source": [
    "### Create some data\n",
    "\n"
   ]
  },
  {
   "cell_type": "code",
   "execution_count": 48,
   "metadata": {},
   "outputs": [],
   "source": [
    "h = 1e-12\n",
    "measurement_noise = 1e-11\n",
    "seed=1236\n",
    "P,PTA,data = create_synthetic_data(h,measurement_noise,seed)"
   ]
  },
  {
   "cell_type": "code",
   "execution_count": 49,
   "metadata": {},
   "outputs": [],
   "source": [
    "measurement_model = \"earth\"\n",
    "KF,parameters_sample = setup_kalman_likelihood(data,P,PTA,measurement_model)\n"
   ]
  },
  {
   "cell_type": "markdown",
   "metadata": {},
   "source": [
    "### Now time the function"
   ]
  },
  {
   "cell_type": "code",
   "execution_count": 55,
   "metadata": {},
   "outputs": [],
   "source": [
    "def function_to_time(KF,params):\n",
    "    KF.likelihood(params)"
   ]
  },
  {
   "cell_type": "code",
   "execution_count": 56,
   "metadata": {},
   "outputs": [
    {
     "name": "stdout",
     "output_type": "stream",
     "text": [
      "697 ns ± 48.7 ns per loop (mean ± std. dev. of 7 runs, 1,000,000 loops each)\n"
     ]
    }
   ],
   "source": [
    "%timeit function_to_time(KF,parameters_sample)"
   ]
  },
  {
   "cell_type": "code",
   "execution_count": 67,
   "metadata": {},
   "outputs": [
    {
     "name": "stdout",
     "output_type": "stream",
     "text": [
      "['f00', 'f01', 'f02', 'f03', 'f04', 'f05', 'f06', 'f07', 'f08', 'f09', 'f010', 'f011', 'f012', 'f013', 'f014', 'f015', 'f016', 'f017', 'f018', 'f019', 'f020', 'f021', 'f022', 'f023', 'f024', 'f025', 'f026', 'f027', 'f028', 'f029', 'f030', 'f031', 'f032', 'f033', 'f034', 'f035', 'f036', 'f037', 'f038', 'f039', 'f040', 'f041', 'f042', 'f043', 'f044', 'f045', 'f046']\n",
      "[327.84702057 205.53069911 303.09097941 326.60056194 348.55923172\n",
      " 112.9497232  346.53199652 215.60881048 190.26783735 193.71568339\n",
      " 238.0040532  172.64290994 125.20024517 277.93770695 317.37894193\n",
      " 316.1239842  216.3733371  218.81184038 170.9373699  266.869167\n",
      " 245.42611965 607.67753842 367.76712112 244.39137772 186.49407835\n",
      " 465.13523835 339.31568716 200.65880529 216.17123056 130.78951613\n",
      " 263.98071421 641.92822213 192.85652083 315.44356371 163.04791292\n",
      " 191.45091203 345.27813646 168.09667797 420.18944325  62.29588783\n",
      " 320.5922923  335.81621338 279.59658217 275.7078326  192.59196365\n",
      " 290.25460815 207.96816337]\n"
     ]
    }
   ],
   "source": [
    "function_to_time(KF,parameters_sample)"
   ]
  },
  {
   "cell_type": "code",
   "execution_count": 52,
   "metadata": {},
   "outputs": [],
   "source": [
    "def blobfish():\n",
    "    return 1"
   ]
  },
  {
   "cell_type": "code",
   "execution_count": 54,
   "metadata": {},
   "outputs": [
    {
     "name": "stdout",
     "output_type": "stream",
     "text": [
      "60.5 ns ± 0.946 ns per loop (mean ± std. dev. of 7 runs, 10,000,000 loops each)\n"
     ]
    }
   ],
   "source": [
    "%timeit blobfish()"
   ]
  },
  {
   "cell_type": "code",
   "execution_count": null,
   "metadata": {},
   "outputs": [],
   "source": []
  }
 ],
 "metadata": {
  "kernelspec": {
   "display_name": "KalmanGW",
   "language": "python",
   "name": "python3"
  },
  "language_info": {
   "codemirror_mode": {
    "name": "ipython",
    "version": 3
   },
   "file_extension": ".py",
   "mimetype": "text/x-python",
   "name": "python",
   "nbconvert_exporter": "python",
   "pygments_lexer": "ipython3",
   "version": "3.10.4"
  },
  "orig_nbformat": 4
 },
 "nbformat": 4,
 "nbformat_minor": 2
}
