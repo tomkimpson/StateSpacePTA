{
 "cells": [
  {
   "cell_type": "markdown",
   "metadata": {},
   "source": [
    "# Testing likelihood runtimes\n",
    "\n",
    "\n",
    "The rate limiting step for linkelihood based inference is the time taken to obtain a single likelihood sample.\n",
    "\n",
    "We want this to be as fast as possible \n",
    "\n",
    "See e.g. tips on using numba: https://numba.pydata.org/numba-doc/latest/user/performance-tips.html"
   ]
  },
  {
   "cell_type": "code",
   "execution_count": 1,
   "metadata": {},
   "outputs": [],
   "source": [
    "%load_ext autoreload\n",
    "%autoreload 2"
   ]
  },
  {
   "cell_type": "code",
   "execution_count": 2,
   "metadata": {},
   "outputs": [],
   "source": [
    "import sys\n",
    "import json \n",
    "import pandas as pd \n",
    "try:\n",
    "    sys.path.remove(\"../py_src\") # Hacky way to add higher directory to python modules path. \n",
    "except:\n",
    "    pass\n",
    "sys.path.append(\"../py_src\") # Means that I dont have to make src/ a proper python package"
   ]
  },
  {
   "cell_type": "code",
   "execution_count": 3,
   "metadata": {},
   "outputs": [],
   "source": [
    "from system_parameters import SystemParameters\n",
    "from pulsars import Pulsars\n",
    "from synthetic_data import SyntheticData\n",
    "from model import LinearModel\n",
    "from kalman_filter import KalmanFilter\n",
    "from priors import priors_dict,bilby_priors_dict\n",
    "import numpy as np \n",
    "import copy \n",
    "import logging \n",
    "logger = logging.getLogger().setLevel(logging.ERROR)\n",
    "\n",
    "#Function to create synthetic data\n",
    "def create_synthetic_data(h,measurement_noise,seed):\n",
    "\n",
    "    P    = SystemParameters(h=h,σp=None,σm=measurement_noise,seed=seed)       #define the system parameters as a class\n",
    "    PTA  = Pulsars(P)               # setup the PTA\n",
    "    data = SyntheticData(PTA,P)     # generate some synthetic data\n",
    "\n",
    "    return P,PTA,data\n",
    "\n",
    "#Fit model to data and return likelihood\n",
    "def setup_kalman_likelihood(data,P,PTA,measurement_model):\n",
    "\n",
    "    _P = copy.copy(P)\n",
    "    _PTA = copy.copy(PTA)\n",
    "    _P.measurement_model = measurement_model\n",
    "    \n",
    "\n",
    "    #Define the model \n",
    "    model = LinearModel(_P)\n",
    "\n",
    "    #Initialise the Kalman filter\n",
    "    KF = KalmanFilter(model,data.f_measured,_PTA)\n",
    "\n",
    "    #Create a bilby dict \n",
    "    init_p,parameter_priors = bilby_priors_dict(_PTA,_P)\n",
    "    \n",
    "    sampled_parameters = parameter_priors.sample(1)\n",
    "    return KF,sampled_parameters"
   ]
  },
  {
   "cell_type": "markdown",
   "metadata": {},
   "source": [
    "### Create some data\n",
    "\n"
   ]
  },
  {
   "cell_type": "code",
   "execution_count": 4,
   "metadata": {},
   "outputs": [],
   "source": [
    "h = 1e-12\n",
    "measurement_noise = 1e-11\n",
    "seed=1236\n",
    "P,PTA,data = create_synthetic_data(h,measurement_noise,seed)"
   ]
  },
  {
   "cell_type": "code",
   "execution_count": 5,
   "metadata": {},
   "outputs": [],
   "source": [
    "measurement_model = \"earth\"\n",
    "KF,parameters_sample = setup_kalman_likelihood(data,P,PTA,measurement_model)\n"
   ]
  },
  {
   "cell_type": "markdown",
   "metadata": {},
   "source": [
    "### Now time the function"
   ]
  },
  {
   "cell_type": "code",
   "execution_count": 6,
   "metadata": {},
   "outputs": [],
   "source": [
    "def function_to_time(KF,params):\n",
    "    KF.likelihood(params)"
   ]
  },
  {
   "cell_type": "code",
   "execution_count": 8,
   "metadata": {},
   "outputs": [
    {
     "name": "stdout",
     "output_type": "stream",
     "text": [
      "4.78 ms ± 34.8 µs per loop (mean ± std. dev. of 7 runs, 100 loops each)\n"
     ]
    }
   ],
   "source": [
    "%timeit function_to_time(KF,parameters_sample)"
   ]
  }
 ],
 "metadata": {
  "kernelspec": {
   "display_name": "KalmanGW",
   "language": "python",
   "name": "python3"
  },
  "language_info": {
   "codemirror_mode": {
    "name": "ipython",
    "version": 3
   },
   "file_extension": ".py",
   "mimetype": "text/x-python",
   "name": "python",
   "nbconvert_exporter": "python",
   "pygments_lexer": "ipython3",
   "version": "3.10.4"
  },
  "orig_nbformat": 4
 },
 "nbformat": 4,
 "nbformat_minor": 2
}
